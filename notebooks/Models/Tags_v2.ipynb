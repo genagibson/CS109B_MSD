{
 "cells": [
  {
   "cell_type": "markdown",
   "metadata": {},
   "source": [
    "## Overview"
   ]
  },
  {
   "cell_type": "markdown",
   "metadata": {},
   "source": [
    "In this notebook, we will look at the artist tag information in the subset of the Million Song Dataset. \n",
    "\n",
    "We will see if this information can be used to predict a songs hotness (or 'song_hotttnesss' as it is called in the dataset). The artist tags will be changed into stemmed form, and we will use both classification as well as regression models to check the usefulness of this information in the dataset."
   ]
  },
  {
   "cell_type": "markdown",
   "metadata": {},
   "source": [
    "### Preparation"
   ]
  },
  {
   "cell_type": "code",
   "execution_count": 1,
   "metadata": {},
   "outputs": [
    {
     "data": {
      "text/html": [
       "<style>\n",
       "blockquote { background: #AEDE94; }\n",
       "h1 { \n",
       "    padding-top: 25px;\n",
       "    padding-bottom: 25px;\n",
       "    text-align: left; \n",
       "    padding-left: 10px;\n",
       "    background-color: #DDDDDD; \n",
       "    color: black;\n",
       "}\n",
       "h2 { \n",
       "    padding-top: 10px;\n",
       "    padding-bottom: 10px;\n",
       "    text-align: left; \n",
       "    padding-left: 5px;\n",
       "    background-color: #EEEEEE; \n",
       "    color: black;\n",
       "}\n",
       "\n",
       "div.exercise {\n",
       "\tbackground-color: #ffcccc;\n",
       "\tborder-color: #E9967A; \t\n",
       "\tborder-left: 5px solid #800080; \n",
       "\tpadding: 0.5em;\n",
       "}\n",
       "\n",
       "span.sub-q {\n",
       "\tfont-weight: bold;\n",
       "}\n",
       "div.theme {\n",
       "\tbackground-color: #DDDDDD;\n",
       "\tborder-color: #E9967A; \t\n",
       "\tborder-left: 5px solid #800080; \n",
       "\tpadding: 0.5em;\n",
       "\tfont-size: 18pt;\n",
       "}\n",
       "div.gc { \n",
       "\tbackground-color: #AEDE94;\n",
       "\tborder-color: #E9967A; \t \n",
       "\tborder-left: 5px solid #800080; \n",
       "\tpadding: 0.5em;\n",
       "\tfont-size: 12pt;\n",
       "}\n",
       "p.q1 { \n",
       "    padding-top: 5px;\n",
       "    padding-bottom: 5px;\n",
       "    text-align: left; \n",
       "    padding-left: 5px;\n",
       "    background-color: #EEEEEE; \n",
       "    color: black;\n",
       "}\n",
       "header {\n",
       "   padding-top: 35px;\n",
       "    padding-bottom: 35px;\n",
       "    text-align: left; \n",
       "    padding-left: 10px;\n",
       "    background-color: #DDDDDD; \n",
       "    color: black;\n",
       "}\n",
       "</style>\n",
       "\n"
      ],
      "text/plain": [
       "<IPython.core.display.HTML object>"
      ]
     },
     "execution_count": 1,
     "metadata": {},
     "output_type": "execute_result"
    }
   ],
   "source": [
    "import requests\n",
    "from IPython.core.display import HTML\n",
    "styles = requests.get(\"https://raw.githubusercontent.com/Harvard-IACS/2018-CS109A/master/content/styles/cs109.css\").text\n",
    "HTML(styles)"
   ]
  },
  {
   "cell_type": "code",
   "execution_count": 271,
   "metadata": {},
   "outputs": [],
   "source": [
    "import numpy as np\n",
    "import pandas as pd\n",
    "import re\n",
    "import operator\n",
    "import matplotlib.pyplot as plt\n",
    "from functools import reduce\n",
    "from collections import Counter\n",
    "\n",
    "from nltk.stem import PorterStemmer\n",
    "from nltk.tokenize import sent_tokenize, word_tokenize\n",
    "\n",
    "from sklearn.preprocessing import LabelEncoder\n",
    "from sklearn.preprocessing import OneHotEncoder\n",
    "from sklearn.preprocessing import MultiLabelBinarizer\n",
    "from sklearn.preprocessing import StandardScaler\n",
    "\n",
    "from sklearn.model_selection import cross_val_score\n",
    "from sklearn.model_selection import learning_curve\n",
    "from sklearn.model_selection import ShuffleSplit\n",
    "from sklearn.model_selection import train_test_split\n",
    "from sklearn.model_selection import learning_curve\n",
    "from sklearn.model_selection import StratifiedKFold\n",
    "from sklearn.model_selection import KFold\n",
    "\n",
    "from sklearn.feature_selection import VarianceThreshold\n",
    "from sklearn.decomposition import PCA\n",
    "from sklearn.naive_bayes import GaussianNB\n",
    "from sklearn.svm import SVC\n",
    "from sklearn import ensemble\n",
    "from sklearn.utils import shuffle\n",
    "from sklearn.neural_network import MLPClassifier\n",
    "from sklearn.neighbors import KNeighborsClassifier\n",
    "from sklearn.gaussian_process import GaussianProcessClassifier\n",
    "from sklearn.gaussian_process.kernels import RBF\n",
    "from sklearn.tree import DecisionTreeClassifier\n",
    "from sklearn.ensemble import RandomForestClassifier, AdaBoostClassifier\n",
    "from sklearn.discriminant_analysis import QuadraticDiscriminantAnalysis\n",
    "from sklearn.pipeline import Pipeline\n",
    "from sklearn.metrics import classification_report, confusion_matrix, mean_squared_error, accuracy_score\n",
    "    \n",
    "from keras.layers.convolutional import MaxPooling1D#, MaxPooling2D\n",
    "from keras.wrappers.scikit_learn import KerasRegressor\n",
    "from keras.models import Sequential, Input, Model\n",
    "from keras.layers import Dense, Conv1D, BatchNormalization, Activation, Dropout, GRU\n",
    "from keras.optimizers import SGD, Adam, RMSprop\n",
    "from keras.wrappers.scikit_learn import KerasClassifier\n",
    "from keras import backend"
   ]
  },
  {
   "cell_type": "code",
   "execution_count": 4,
   "metadata": {},
   "outputs": [
    {
     "data": {
      "text/html": [
       "<style>.container { width:100% !important; }</style>"
      ],
      "text/plain": [
       "<IPython.core.display.HTML object>"
      ]
     },
     "metadata": {},
     "output_type": "display_data"
    }
   ],
   "source": [
    "#Increase notebook size to take the full width of the screen\n",
    "\n",
    "from IPython.core.display import display, HTML\n",
    "display(HTML(\"<style>.container { width:100% !important; }</style>\"))"
   ]
  },
  {
   "cell_type": "markdown",
   "metadata": {},
   "source": [
    "### Load dataset"
   ]
  },
  {
   "cell_type": "code",
   "execution_count": 56,
   "metadata": {},
   "outputs": [
    {
     "name": "stdout",
     "output_type": "stream",
     "text": [
      "Number of songs missing \"song hotness\": 43.5%\n",
      "(10000, 54)\n"
     ]
    }
   ],
   "source": [
    "# Load the selected dataset, and check for missing 'song hotness'\n",
    "\n",
    "subset_full = pd.read_csv('subset_full.csv')\n",
    "subset_full = subset_full.drop(columns=['Unnamed: 0'])\n",
    "missing = subset_full['song_hotttnesss'].isna().sum() / len(subset_full)*100\n",
    "print('Number of songs missing \"song hotness\": {}%'.format(np.around(missing, 1)))\n",
    "print(subset_full.shape)"
   ]
  },
  {
   "cell_type": "code",
   "execution_count": 57,
   "metadata": {},
   "outputs": [
    {
     "name": "stdout",
     "output_type": "stream",
     "text": [
      "Number of songs missing \"song hotness\": 0.0%\n",
      "(5648, 54)\n"
     ]
    }
   ],
   "source": [
    "# Select only the data with song_hotness, and confirm\n",
    "\n",
    "subset_full = subset_full.dropna(subset = ['song_hotttnesss'])\n",
    "missing = subset_full['song_hotttnesss'].isna().sum() / len(subset_full)*100\n",
    "print('Number of songs missing \"song hotness\": {}%'.format(np.around(missing, 1)))\n",
    "print(subset_full.shape)"
   ]
  },
  {
   "cell_type": "code",
   "execution_count": 58,
   "metadata": {},
   "outputs": [
    {
     "data": {
      "text/plain": [
       "(5648, 54)"
      ]
     },
     "execution_count": 58,
     "metadata": {},
     "output_type": "execute_result"
    }
   ],
   "source": [
    "# Select only the data artist terms, as this is what will be used in this notebook\n",
    "\n",
    "subset_full = subset_full.dropna(subset = ['artist_terms'])\n",
    "subset_full.shape"
   ]
  },
  {
   "cell_type": "code",
   "execution_count": 59,
   "metadata": {},
   "outputs": [],
   "source": [
    "# Remove the columns that are not related to this. Most are covered in other notebooks\n",
    "\n",
    "tagrelated_columns = ['song_hotttnesss','track_id', 'artist_terms', 'artist_terms_freq', 'artist_terms_weight']\n",
    "data = subset_full[tagrelated_columns]\n",
    "data = data.reset_index().drop(columns=['index'])\n",
    "\n",
    "# Start process of splitting up terms\n",
    "data['artist_terms'] = data['artist_terms'].str.split('\\'')\n",
    "data['artist_terms'] = data['artist_terms'].str[1:]"
   ]
  },
  {
   "cell_type": "code",
   "execution_count": 60,
   "metadata": {},
   "outputs": [
    {
     "data": {
      "text/html": [
       "<div>\n",
       "<style scoped>\n",
       "    .dataframe tbody tr th:only-of-type {\n",
       "        vertical-align: middle;\n",
       "    }\n",
       "\n",
       "    .dataframe tbody tr th {\n",
       "        vertical-align: top;\n",
       "    }\n",
       "\n",
       "    .dataframe thead th {\n",
       "        text-align: right;\n",
       "    }\n",
       "</style>\n",
       "<table border=\"1\" class=\"dataframe\">\n",
       "  <thead>\n",
       "    <tr style=\"text-align: right;\">\n",
       "      <th></th>\n",
       "      <th>song_hotttnesss</th>\n",
       "      <th>track_id</th>\n",
       "      <th>artist_terms</th>\n",
       "      <th>artist_terms_freq</th>\n",
       "      <th>artist_terms_weight</th>\n",
       "    </tr>\n",
       "  </thead>\n",
       "  <tbody>\n",
       "    <tr>\n",
       "      <th>0</th>\n",
       "      <td>0.602120</td>\n",
       "      <td>TRAAAAW128F429D538</td>\n",
       "      <td>[hip hop,  , underground rap,  , g funk,  , al...</td>\n",
       "      <td>[1.         0.77613623 0.72966979 0.68301072 0...</td>\n",
       "      <td>[1.         0.89793596 0.88426185 0.84262975 0...</td>\n",
       "    </tr>\n",
       "    <tr>\n",
       "      <th>1</th>\n",
       "      <td>0.604501</td>\n",
       "      <td>TRAAAFD128F92F423A</td>\n",
       "      <td>[pop punk,  , ska punk,  , breakcore,  , alter...</td>\n",
       "      <td>[0.8872883  0.79020373 0.79020373 0.79020373 0...</td>\n",
       "      <td>[1.         0.96090574 0.95923662 0.94674975 0...</td>\n",
       "    </tr>\n",
       "    <tr>\n",
       "      <th>2</th>\n",
       "      <td>0.265861</td>\n",
       "      <td>TRAAARJ128F9320760</td>\n",
       "      <td>[new wave,  , progressive rock,  , space rock,...</td>\n",
       "      <td>[0.95976625 0.97039005 0.82199342 0.82199342 0...</td>\n",
       "      <td>[1.         0.98696192 0.98306453 0.96580916 0...</td>\n",
       "    </tr>\n",
       "    <tr>\n",
       "      <th>3</th>\n",
       "      <td>0.000000</td>\n",
       "      <td>TRAAAVO128F93133D4</td>\n",
       "      <td>[alternative rock,  , indie rock,  , rock,  , ...</td>\n",
       "      <td>[0.95608075 0.92130641 1.         0.68760239 0...</td>\n",
       "      <td>[1.         0.95787086 0.95089056 0.93066094 0...</td>\n",
       "    </tr>\n",
       "    <tr>\n",
       "      <th>4</th>\n",
       "      <td>0.265861</td>\n",
       "      <td>TRAABCL128F4286650</td>\n",
       "      <td>[ccm,  , religious music,  , los angeles,  , c...</td>\n",
       "      <td>[1.         0.87337884 0.82439509 0.82439509 0...</td>\n",
       "      <td>[1.         0.90446866 0.86751209 0.84218695 0...</td>\n",
       "    </tr>\n",
       "  </tbody>\n",
       "</table>\n",
       "</div>"
      ],
      "text/plain": [
       "   song_hotttnesss            track_id  \\\n",
       "0         0.602120  TRAAAAW128F429D538   \n",
       "1         0.604501  TRAAAFD128F92F423A   \n",
       "2         0.265861  TRAAARJ128F9320760   \n",
       "3         0.000000  TRAAAVO128F93133D4   \n",
       "4         0.265861  TRAABCL128F4286650   \n",
       "\n",
       "                                        artist_terms  \\\n",
       "0  [hip hop,  , underground rap,  , g funk,  , al...   \n",
       "1  [pop punk,  , ska punk,  , breakcore,  , alter...   \n",
       "2  [new wave,  , progressive rock,  , space rock,...   \n",
       "3  [alternative rock,  , indie rock,  , rock,  , ...   \n",
       "4  [ccm,  , religious music,  , los angeles,  , c...   \n",
       "\n",
       "                                   artist_terms_freq  \\\n",
       "0  [1.         0.77613623 0.72966979 0.68301072 0...   \n",
       "1  [0.8872883  0.79020373 0.79020373 0.79020373 0...   \n",
       "2  [0.95976625 0.97039005 0.82199342 0.82199342 0...   \n",
       "3  [0.95608075 0.92130641 1.         0.68760239 0...   \n",
       "4  [1.         0.87337884 0.82439509 0.82439509 0...   \n",
       "\n",
       "                                 artist_terms_weight  \n",
       "0  [1.         0.89793596 0.88426185 0.84262975 0...  \n",
       "1  [1.         0.96090574 0.95923662 0.94674975 0...  \n",
       "2  [1.         0.98696192 0.98306453 0.96580916 0...  \n",
       "3  [1.         0.95787086 0.95089056 0.93066094 0...  \n",
       "4  [1.         0.90446866 0.86751209 0.84218695 0...  "
      ]
     },
     "execution_count": 60,
     "metadata": {},
     "output_type": "execute_result"
    }
   ],
   "source": [
    "# Confirm data\n",
    "\n",
    "data.head()"
   ]
  },
  {
   "cell_type": "code",
   "execution_count": 61,
   "metadata": {},
   "outputs": [],
   "source": [
    "# Split the artist terms into separate keywords, as well as create list of all possible keywords\n",
    "\n",
    "data['terms_count'] = 0\n",
    "data = data.astype('object')\n",
    "all_terms = []\n",
    "\n",
    "for i,x in enumerate(data.iterrows()):\n",
    "    data['artist_terms'].astype(object)\n",
    "    temp = []\n",
    "    for y in x[1][2]:\n",
    "        if re.search('[a-zA-Z]', y):\n",
    "            temp.append(y)\n",
    "    data.loc[i,'artist_terms'] = temp\n",
    "    data.loc[i,'terms_count'] = len(temp)\n",
    "    all_terms.append(temp)"
   ]
  },
  {
   "cell_type": "code",
   "execution_count": 62,
   "metadata": {},
   "outputs": [],
   "source": [
    "# Each song has a separate list within a list of its terms\n",
    "# Create one large list of all possible terms \n",
    "\n",
    "flat_all_terms = reduce(operator.concat, all_terms)"
   ]
  },
  {
   "cell_type": "code",
   "execution_count": 63,
   "metadata": {},
   "outputs": [
    {
     "name": "stdout",
     "output_type": "stream",
     "text": [
      "There are a total of 3100 different artist terms used in the dataset\n"
     ]
    }
   ],
   "source": [
    "# Create a counter of how many times each term is used\n",
    "\n",
    "count_all_terms = Counter(flat_all_terms)\n",
    "print(\"There are a total of {} different artist terms used in the dataset\".format(len(count_all_terms)))"
   ]
  },
  {
   "cell_type": "markdown",
   "metadata": {},
   "source": [
    "### Select the appropriate number of terms to test for"
   ]
  },
  {
   "cell_type": "markdown",
   "metadata": {},
   "source": [
    "There are a total of 3100 artist terms in use. Some terms are used very rarely, and hence do most likely not add value to our models."
   ]
  },
  {
   "cell_type": "markdown",
   "metadata": {},
   "source": [
    "Let us first look at the distribution of the terms:"
   ]
  },
  {
   "cell_type": "code",
   "execution_count": 64,
   "metadata": {},
   "outputs": [
    {
     "data": {
      "image/png": "[encoded data removed]",
      "text/plain": [
       "<Figure size 432x288 with 1 Axes>"
      ]
     },
     "metadata": {
      "needs_background": "light"
     },
     "output_type": "display_data"
    }
   ],
   "source": [
    "keys = count_all_terms.keys()\n",
    "y_pos = np.arange(len(keys))\n",
    "x_pos = count_all_terms.values()\n",
    "\n",
    "plt.bar(y_pos, x_pos, align='center', alpha=0.4)\n",
    "plt.xlabel('Tags')\n",
    "plt.ylabel('Songs tagged by this label')\n",
    "plt.title('Distribution of tag count')\n",
    "\n",
    "plt.show()"
   ]
  },
  {
   "cell_type": "markdown",
   "metadata": {},
   "source": [
    "There are a number of tags that are used for many songs, while there is a large tail of terms not used very often. \n",
    "\n",
    "Let us limit the terms to the ones used for more than 20 songs, and we will see the distribution looks better:"
   ]
  },
  {
   "cell_type": "code",
   "execution_count": 65,
   "metadata": {},
   "outputs": [
    {
     "name": "stdout",
     "output_type": "stream",
     "text": [
      "There is now 824 artist terms\n"
     ]
    }
   ],
   "source": [
    "min_threshold = 20\n",
    "\n",
    "for key, cnts in list(count_all_terms.items()):   \n",
    "    if cnts < min_threshold:\n",
    "        del count_all_terms[key]\n",
    "        \n",
    "print(\"There is now {} artist terms\".format(len(count_all_terms)))"
   ]
  },
  {
   "cell_type": "code",
   "execution_count": 66,
   "metadata": {},
   "outputs": [
    {
     "data": {
      "image/png": "[encoded data removed]",
      "text/plain": [
       "<Figure size 432x288 with 1 Axes>"
      ]
     },
     "metadata": {
      "needs_background": "light"
     },
     "output_type": "display_data"
    }
   ],
   "source": [
    "keys = count_all_terms.keys()\n",
    "y_pos = np.arange(len(keys))\n",
    "x_pos = count_all_terms.values()\n",
    "\n",
    "plt.bar(y_pos, x_pos, align='center', alpha=0.4)\n",
    "plt.xlabel('Tags')\n",
    "plt.ylabel('Songs tagged by this label')\n",
    "plt.title('Distribution of tag count')\n",
    "\n",
    "plt.show()"
   ]
  },
  {
   "cell_type": "markdown",
   "metadata": {},
   "source": [
    "### Stemming\n",
    "\n",
    "To ensure that the artist terms are as common as possible among the different songs, do we implement stemming. \n",
    "\n",
    "Let's build a dictionary of all the artist terms used in more than 20 songs, in stemmed form:"
   ]
  },
  {
   "cell_type": "code",
   "execution_count": 67,
   "metadata": {},
   "outputs": [],
   "source": [
    "ps = PorterStemmer()\n",
    "\n",
    "temp = []\n",
    "stem_dict = {}\n",
    "for w in count_all_terms.keys():\n",
    "    s = ps.stem(w)\n",
    "    temp.append(s)\n",
    "    stem_dict[w] = s"
   ]
  },
  {
   "cell_type": "markdown",
   "metadata": {},
   "source": [
    "We need to put the stemmed forms back into the dataset we are working with:"
   ]
  },
  {
   "cell_type": "code",
   "execution_count": 68,
   "metadata": {},
   "outputs": [],
   "source": [
    "data = data.astype('object')\n",
    "\n",
    "for i,x in enumerate(data.iterrows()):\n",
    "    temp = []\n",
    "    for y in x[1][2]:\n",
    "        if y in stem_dict.keys():\n",
    "            temp.append(stem_dict[y])\n",
    "\n",
    "    data.loc[i,'artist_terms'] = temp"
   ]
  },
  {
   "cell_type": "markdown",
   "metadata": {},
   "source": [
    "And we need to make a one hot encoded version of the dataframe, that is more suitable for the models we want to run: "
   ]
  },
  {
   "cell_type": "code",
   "execution_count": 69,
   "metadata": {},
   "outputs": [],
   "source": [
    "data2 = data.copy()\n",
    "df = pd.DataFrame()\n",
    "mlb = MultiLabelBinarizer()\n",
    "data3 = data.join(pd.DataFrame(mlb.fit_transform(data2.pop('artist_terms')),\n",
    "                          columns=mlb.classes_,\n",
    "                          index=data2.index))\n",
    "data3 = data3.drop(columns=['\\n \"rock ',' \"rock '])"
   ]
  },
  {
   "cell_type": "markdown",
   "metadata": {},
   "source": [
    "Let's split the data into target and predictor sets:"
   ]
  },
  {
   "cell_type": "code",
   "execution_count": 70,
   "metadata": {},
   "outputs": [
    {
     "name": "stderr",
     "output_type": "stream",
     "text": [
      "/usr/share/anaconda3/lib/python3.6/site-packages/sklearn/preprocessing/data.py:645: DataConversionWarning: Data with input dtype int64, object were all converted to float64 by StandardScaler.\n",
      "  return self.partial_fit(X, y)\n",
      "/usr/share/anaconda3/lib/python3.6/site-packages/sklearn/base.py:464: DataConversionWarning: Data with input dtype int64, object were all converted to float64 by StandardScaler.\n",
      "  return self.fit(X, **fit_params).transform(X)\n"
     ]
    }
   ],
   "source": [
    "y = data3['song_hotttnesss']\n",
    "\n",
    "x = data3.drop(columns=['song_hotttnesss','track_id', 'artist_terms_freq', 'artist_terms_weight', 'artist_terms'])\n",
    "\n",
    "x = StandardScaler().fit_transform(x)"
   ]
  },
  {
   "cell_type": "markdown",
   "metadata": {},
   "source": [
    "Let us also create two sets; one for classification, and one for regressions:"
   ]
  },
  {
   "cell_type": "code",
   "execution_count": 71,
   "metadata": {},
   "outputs": [],
   "source": [
    "# For regression\n",
    "y_regression = y.copy()"
   ]
  },
  {
   "cell_type": "code",
   "execution_count": 41,
   "metadata": {},
   "outputs": [
    {
     "name": "stdout",
     "output_type": "stream",
     "text": [
      "25.106232294617563 % of the songs are classified as hot, while the rest is not\n"
     ]
    }
   ],
   "source": [
    "# For classification\n",
    "# Simplify by only setting top 25% of song_hotness to be \"hot\" and the rest \"not\"\n",
    "\n",
    "def convert_y_to_categorical(cutoff = 0.75):\n",
    "    threshold = y.quantile(cutoff)\n",
    "    Y = [0 if i < threshold else 1 for i in y]\n",
    "    return np.array(Y)\n",
    "y = convert_y_to_categorical()\n",
    "y = y.astype('int')\n",
    "\n",
    "print(\"{} % of the songs are classified as hot, while the rest is not\".format(y.mean()*100))"
   ]
  },
  {
   "cell_type": "code",
   "execution_count": 42,
   "metadata": {},
   "outputs": [
    {
     "data": {
      "text/plain": [
       "((5083, 484), (5083,), (565, 484), (565,))"
      ]
     },
     "execution_count": 42,
     "metadata": {},
     "output_type": "execute_result"
    }
   ],
   "source": [
    "# Split into training and test sets\n",
    "\n",
    "x_train, x_test, y_train, y_test = train_test_split(x, y, test_size = 0.1, random_state = 42)\n",
    "x_train.shape, y_train.shape, x_test.shape, y_test.shape"
   ]
  },
  {
   "cell_type": "code",
   "execution_count": 264,
   "metadata": {
    "scrolled": true
   },
   "outputs": [
    {
     "name": "stdout",
     "output_type": "stream",
     "text": [
      "[1.83227283e-02 1.69976216e-02 1.41318695e-02 1.25853669e-02\n",
      " 1.14506192e-02 1.10292001e-02 1.04128285e-02 9.79154869e-03\n",
      " 9.30023170e-03 8.83456183e-03 8.69423881e-03 8.25800639e-03\n",
      " 8.01847606e-03 7.37551840e-03 6.88763621e-03 6.46070280e-03\n",
      " 6.19629087e-03 6.05676275e-03 6.03135022e-03 5.74349320e-03\n",
      " 5.56719892e-03 5.43279933e-03 5.31229414e-03 5.21603198e-03\n",
      " 5.06083790e-03 4.92498483e-03 4.76144622e-03 4.70667219e-03\n",
      " 4.61824873e-03 4.52994355e-03 4.40885966e-03 4.37440092e-03\n",
      " 4.25313672e-03 4.22619525e-03 4.18366661e-03 4.14083065e-03\n",
      " 4.07223087e-03 3.99818305e-03 3.98368489e-03 3.84312351e-03\n",
      " 3.79814915e-03 3.75993455e-03 3.71886605e-03 3.66226059e-03\n",
      " 3.57864802e-03 3.56433788e-03 3.55704986e-03 3.47939605e-03\n",
      " 3.44515461e-03 3.41155336e-03 3.37598518e-03 3.34974143e-03\n",
      " 3.33522468e-03 3.30370632e-03 3.25865858e-03 3.22674737e-03\n",
      " 3.21205648e-03 3.19025610e-03 3.16407839e-03 3.10887906e-03\n",
      " 3.07348343e-03 3.04897613e-03 3.02931199e-03 2.99449497e-03\n",
      " 2.95754719e-03 2.92986209e-03 2.90806700e-03 2.86184756e-03\n",
      " 2.83335756e-03 2.82160080e-03 2.79772865e-03 2.78431565e-03\n",
      " 2.77459538e-03 2.75046753e-03 2.73664902e-03 2.70379999e-03\n",
      " 2.69388720e-03 2.68065207e-03 2.65945952e-03 2.64384654e-03\n",
      " 2.62517795e-03 2.58654075e-03 2.56221677e-03 2.55486590e-03\n",
      " 2.54311027e-03 2.53200319e-03 2.50346381e-03 2.48839636e-03\n",
      " 2.46517590e-03 2.45235228e-03 2.43512814e-03 2.42526657e-03\n",
      " 2.41226614e-03 2.39394033e-03 2.39153952e-03 2.37343283e-03\n",
      " 2.36773573e-03 2.35127354e-03 2.32831189e-03 2.31711221e-03\n",
      " 2.30071095e-03 2.29753992e-03 2.28079212e-03 2.27077681e-03\n",
      " 2.25276227e-03 2.24513025e-03 2.23413615e-03 2.20324090e-03\n",
      " 2.19682065e-03 2.19586639e-03 2.18576346e-03 2.17705106e-03\n",
      " 2.15865238e-03 2.14451823e-03 2.13811705e-03 2.12342674e-03\n",
      " 2.11634707e-03 2.10904173e-03 2.10124334e-03 2.09236846e-03\n",
      " 2.07681459e-03 2.07470004e-03 2.06034809e-03 2.04731442e-03\n",
      " 2.03308508e-03 2.03017634e-03 2.02379438e-03 2.01327468e-03\n",
      " 1.99741278e-03 1.98433248e-03 1.98041177e-03 1.97430475e-03\n",
      " 1.96575145e-03 1.95994353e-03 1.95407794e-03 1.94155191e-03\n",
      " 1.92871074e-03 1.92275841e-03 1.91573256e-03 1.89194215e-03\n",
      " 1.88700682e-03 1.88177292e-03 1.87378561e-03 1.87190584e-03\n",
      " 1.84812599e-03 1.84039544e-03 1.83167625e-03 1.82600002e-03\n",
      " 1.82337339e-03 1.81005676e-03 1.80017386e-03 1.79076569e-03\n",
      " 1.78541556e-03 1.78437213e-03 1.77375964e-03 1.76538437e-03\n",
      " 1.76362216e-03 1.74441159e-03 1.74156372e-03 1.73608161e-03\n",
      " 1.73160022e-03 1.72459808e-03 1.72222956e-03 1.71308317e-03\n",
      " 1.70522718e-03 1.70192521e-03 1.69204746e-03 1.68147232e-03\n",
      " 1.67424165e-03 1.66927027e-03 1.65898838e-03 1.65686876e-03\n",
      " 1.64415625e-03 1.63265197e-03 1.62492891e-03 1.62285863e-03\n",
      " 1.61730882e-03 1.61569531e-03 1.60419841e-03 1.59705312e-03\n",
      " 1.59244739e-03 1.58193382e-03 1.57456489e-03 1.57007119e-03\n",
      " 1.56561819e-03 1.56285446e-03 1.55759319e-03 1.55234431e-03\n",
      " 1.54125962e-03 1.54008734e-03 1.53284348e-03 1.52771267e-03\n",
      " 1.51564084e-03 1.51352763e-03 1.50488290e-03 1.50256280e-03\n",
      " 1.49328298e-03 1.48683064e-03 1.48042540e-03 1.47957235e-03\n",
      " 1.47222051e-03 1.46409745e-03 1.45403772e-03 1.45013137e-03\n",
      " 1.44754529e-03 1.44250429e-03 1.43796177e-03 1.43469603e-03\n",
      " 1.43100601e-03 1.42751613e-03 1.42451530e-03 1.41327307e-03\n",
      " 1.40490281e-03 1.40108966e-03 1.39724327e-03 1.39052235e-03\n",
      " 1.38690476e-03 1.38125057e-03 1.37319186e-03 1.36942212e-03\n",
      " 1.36186865e-03 1.35750564e-03 1.34914354e-03 1.34517403e-03\n",
      " 1.34076132e-03 1.33567926e-03 1.33340959e-03 1.32737016e-03\n",
      " 1.32173037e-03 1.31484807e-03 1.31156834e-03 1.30912562e-03\n",
      " 1.30686766e-03 1.29866181e-03 1.29458896e-03 1.29080459e-03\n",
      " 1.28640192e-03 1.28302979e-03 1.27625557e-03 1.26773619e-03\n",
      " 1.26555890e-03 1.26233819e-03 1.26121992e-03 1.25587397e-03\n",
      " 1.25094866e-03 1.24056103e-03 1.24035217e-03 1.23425088e-03\n",
      " 1.23049087e-03 1.22427572e-03 1.21968221e-03 1.21174512e-03\n",
      " 1.21131786e-03 1.20747967e-03 1.20467145e-03 1.19596764e-03\n",
      " 1.19199122e-03 1.19101867e-03 1.18154920e-03 1.17769010e-03\n",
      " 1.17756088e-03 1.17455155e-03 1.16999127e-03 1.16399787e-03\n",
      " 1.16156376e-03 1.15685137e-03 1.15193798e-03 1.14881116e-03\n",
      " 1.14104596e-03 1.13708412e-03 1.13539499e-03 1.13247701e-03\n",
      " 1.13055657e-03 1.12544772e-03 1.11813475e-03 1.11574664e-03\n",
      " 1.11256873e-03 1.11099918e-03 1.10548317e-03 1.10190710e-03\n",
      " 1.09858604e-03 1.09109218e-03 1.08930568e-03 1.08318344e-03\n",
      " 1.08017955e-03 1.07869091e-03 1.07356444e-03 1.07223412e-03\n",
      " 1.06588573e-03 1.06162103e-03 1.06106785e-03 1.05465230e-03\n",
      " 1.04785781e-03 1.04593872e-03 1.04514002e-03 1.04155673e-03\n",
      " 1.03765415e-03 1.03255054e-03 1.02996755e-03 1.02667893e-03\n",
      " 1.02193755e-03 1.02119795e-03 1.01368967e-03 1.01196213e-03\n",
      " 1.00979919e-03 1.00595489e-03 1.00170324e-03 9.98143127e-04\n",
      " 9.95250238e-04 9.89991727e-04 9.86660488e-04 9.82409192e-04\n",
      " 9.79532550e-04 9.78328310e-04 9.74394261e-04 9.71675989e-04\n",
      " 9.69245837e-04 9.63898511e-04 9.60267011e-04 9.55430291e-04\n",
      " 9.54161142e-04 9.51774503e-04 9.50649494e-04 9.46788781e-04\n",
      " 9.46429062e-04 9.41378577e-04 9.37474062e-04 9.32238213e-04\n",
      " 9.30070999e-04 9.25902424e-04 9.21377693e-04 9.19127136e-04\n",
      " 9.14444975e-04 9.12269030e-04 9.10850842e-04 9.06926236e-04\n",
      " 9.03692655e-04 8.96773743e-04 8.94861912e-04 8.92884431e-04\n",
      " 8.89583873e-04 8.86600866e-04 8.80538865e-04 8.76515744e-04\n",
      " 8.75483123e-04 8.71448389e-04 8.68282191e-04 8.67642002e-04\n",
      " 8.64550897e-04 8.58687745e-04 8.57855403e-04 8.54969554e-04\n",
      " 8.51500937e-04 8.44452328e-04 8.42826050e-04 8.37752013e-04\n",
      " 8.36892116e-04 8.32637475e-04 8.32269227e-04 8.29927826e-04\n",
      " 8.24866847e-04 8.19315820e-04 8.18617085e-04 8.18151031e-04\n",
      " 8.14337379e-04 8.10550036e-04 8.09694712e-04 8.06680747e-04\n",
      " 8.05855278e-04 8.02158127e-04 7.96657729e-04 7.93256451e-04\n",
      " 7.92320138e-04 7.90830621e-04 7.88790282e-04 7.84264238e-04\n",
      " 7.81945781e-04 7.78075733e-04 7.77331514e-04 7.74182087e-04\n",
      " 7.70852133e-04 7.68813753e-04 7.64878994e-04 7.63580903e-04\n",
      " 7.62474189e-04 7.60170911e-04 7.58981184e-04 7.56461966e-04\n",
      " 7.51130842e-04 7.48573555e-04 7.46240989e-04 7.41188154e-04\n",
      " 7.38976651e-04 7.38172673e-04 7.37178531e-04 7.33927450e-04\n",
      " 7.28796889e-04 7.27791065e-04 7.25797564e-04 7.23216928e-04\n",
      " 7.20003727e-04 7.19128757e-04 7.11742542e-04 7.10253907e-04\n",
      " 7.06666889e-04 7.04410458e-04 7.02801337e-04 6.99877091e-04\n",
      " 6.97765744e-04 6.93659880e-04 6.92997285e-04 6.90857813e-04\n",
      " 6.87121704e-04 6.86200569e-04 6.83546138e-04 6.80543684e-04\n",
      " 6.79184922e-04 6.76823852e-04 6.71774832e-04 6.69731118e-04\n",
      " 6.69489506e-04 6.67643374e-04 6.65944683e-04 6.63068481e-04\n",
      " 6.59586216e-04 6.58329235e-04 6.56112956e-04 6.54174122e-04\n",
      " 6.52890059e-04 6.49767710e-04 6.45249768e-04 6.43877145e-04\n",
      " 6.43192838e-04 6.40257085e-04 6.38751528e-04 6.35331585e-04\n",
      " 6.33828787e-04 6.31803080e-04 6.29495071e-04 6.27111816e-04\n",
      " 6.25800690e-04 6.19854525e-04 6.18564652e-04 6.15611448e-04\n",
      " 6.12095997e-04 6.09705233e-04 6.07839239e-04 6.04563072e-04\n",
      " 6.02472313e-04 6.01910999e-04 6.00762973e-04 5.99163908e-04\n",
      " 5.97726478e-04 5.95389670e-04 5.92179230e-04 5.90557049e-04\n",
      " 5.88331647e-04 5.83565758e-04 5.83352377e-04 5.82676380e-04\n",
      " 5.81867035e-04 5.80307974e-04 5.77828782e-04 5.75322821e-04\n",
      " 5.72017399e-04 5.70971758e-04 5.68588131e-04 5.66364081e-04\n",
      " 5.65558073e-04 5.62946813e-04 5.60462011e-04 5.58656363e-04\n",
      " 5.57137087e-04 5.55037273e-04 5.52195470e-04 5.51172161e-04\n",
      " 5.50295102e-04 5.49201267e-04 5.47586970e-04 5.43005506e-04\n",
      " 5.40820367e-04 5.39818147e-04 5.38257251e-04 5.34755294e-04\n",
      " 5.32766961e-04 5.28783450e-04 5.28314480e-04 5.26901444e-04\n",
      " 5.25143967e-04 5.23831126e-04 5.21685345e-04 5.20372764e-04\n",
      " 5.17524586e-04 5.16816695e-04 5.15079003e-04 5.13861236e-04\n",
      " 5.11734901e-04 5.09948551e-04 5.06651291e-04 5.05394437e-04\n",
      " 5.04864754e-04 5.01633186e-04 5.01071700e-04 4.99213663e-04\n",
      " 4.98025027e-04 4.96350645e-04 4.91847806e-04 4.90631516e-04\n",
      " 4.89178032e-04 4.86241969e-04 4.85412608e-04 4.80901186e-04\n",
      " 4.79398837e-04 4.79034691e-04 4.77023115e-04 4.76071211e-04\n",
      " 4.74767618e-04 4.72362326e-04 4.70809621e-04 4.69823222e-04\n",
      " 4.68690563e-04 4.66561065e-04 4.65378235e-04 4.63529274e-04\n",
      " 4.62176703e-04 4.59440591e-04 4.57739398e-04 4.55180404e-04\n",
      " 4.53623039e-04 4.52243877e-04 4.50391750e-04 4.49396938e-04\n",
      " 4.46887565e-04 4.44699761e-04 4.42304360e-04 4.40252142e-04\n",
      " 4.38536202e-04 4.37473566e-04 4.36554018e-04 4.34231750e-04\n",
      " 4.31582647e-04 4.29481240e-04 4.27776978e-04 4.26441392e-04\n",
      " 4.25860600e-04 4.24095794e-04 4.23695187e-04 4.20961657e-04\n",
      " 4.19004513e-04 4.18803397e-04 4.16126493e-04 4.15172415e-04\n",
      " 4.14462343e-04 4.11236628e-04 4.09383875e-04 4.08712483e-04\n",
      " 4.06048733e-04 4.05520219e-04 4.03513890e-04 4.02694747e-04\n",
      " 4.00194522e-04 3.98552477e-04 3.97955616e-04 3.96152776e-04\n",
      " 3.95618742e-04 3.93029836e-04 3.91068574e-04 3.89747080e-04\n",
      " 3.88586987e-04 3.86658301e-04 3.85793282e-04 3.85207632e-04\n",
      " 3.82304624e-04 3.81300200e-04 3.80583455e-04 3.78041257e-04\n",
      " 3.77227425e-04 3.74297379e-04 3.73840132e-04 3.72392458e-04\n",
      " 3.70258485e-04 3.68815998e-04 3.67688441e-04 3.66849031e-04\n",
      " 3.65224300e-04 3.63731494e-04 3.61341962e-04 3.60027796e-04\n",
      " 3.59983978e-04 3.58564852e-04 3.55910218e-04 3.53755445e-04\n",
      " 3.52175494e-04 3.51840943e-04 3.49931030e-04 3.49519973e-04\n",
      " 3.48810159e-04 3.47236591e-04 3.46262475e-04 3.45428425e-04\n",
      " 3.43375820e-04 3.42560950e-04 3.39715325e-04 3.38239283e-04\n",
      " 3.36004924e-04 3.35967706e-04 3.34009312e-04 3.33703625e-04\n",
      " 3.32590200e-04 3.30429732e-04 3.29583238e-04 3.27791104e-04\n",
      " 3.26749001e-04 3.26326068e-04 3.24360123e-04 3.23180970e-04\n",
      " 3.20695755e-04 3.19335869e-04 3.17694415e-04 3.17447799e-04\n",
      " 3.16290972e-04 3.15240987e-04 3.14142508e-04 3.13102473e-04\n",
      " 3.11908770e-04 3.10484199e-04 3.09108514e-04 3.07179644e-04\n",
      " 3.06359967e-04 3.05817464e-04 3.03676730e-04 3.02097930e-04\n",
      " 3.01132532e-04 2.99842798e-04 2.98431105e-04 2.97719172e-04\n",
      " 2.96711216e-04 2.94895143e-04 2.94305740e-04 2.92368922e-04\n",
      " 2.91172712e-04 2.90700928e-04 2.89108883e-04 2.87489041e-04\n",
      " 2.84587585e-04 2.82685652e-04 2.82194173e-04 2.81354574e-04\n",
      " 2.80135352e-04 2.79641253e-04 2.78681878e-04 2.77840910e-04\n",
      " 2.76685644e-04 2.75188839e-04 2.73664756e-04 2.72051909e-04\n",
      " 2.71149784e-04 2.70088501e-04 2.67904062e-04 2.67580579e-04\n",
      " 2.66894215e-04 2.65968430e-04 2.64945624e-04 2.63320385e-04\n",
      " 2.61883316e-04 2.61499479e-04 2.59497775e-04 2.55564276e-04\n",
      " 2.54572596e-04 2.54342616e-04 2.53428823e-04 2.52292452e-04\n",
      " 2.51391946e-04 2.50635731e-04 2.48368425e-04 2.46858762e-04\n",
      " 2.45315847e-04 2.45005891e-04 2.43894205e-04 2.42881400e-04\n",
      " 2.42050653e-04 2.40823788e-04 2.40514369e-04 2.39262606e-04\n",
      " 2.37577377e-04 2.36898308e-04 2.35640100e-04 2.32706812e-04\n",
      " 2.32448625e-04 2.31539786e-04 2.30720819e-04 2.29886553e-04\n",
      " 2.28024324e-04 2.25887276e-04 2.25094582e-04 2.24426380e-04\n",
      " 2.24067253e-04 2.23555845e-04 2.21955025e-04 2.20705792e-04\n",
      " 2.19780608e-04 2.18077690e-04 2.16236084e-04 2.16107742e-04\n",
      " 2.14899031e-04 2.14218817e-04 2.13108996e-04 2.12423797e-04\n",
      " 2.11183766e-04 2.10002711e-04 2.08461218e-04 2.07603111e-04\n",
      " 2.06759064e-04 2.06035505e-04 2.04704506e-04 2.02431646e-04\n",
      " 2.01238893e-04 2.00336074e-04 1.99421955e-04 1.97425602e-04\n",
      " 1.94941765e-04 1.94754209e-04 1.94270959e-04 1.93833345e-04\n",
      " 1.91930911e-04 1.90494418e-04 1.89222407e-04 1.87779559e-04\n",
      " 1.86091770e-04 1.85054355e-04 1.84079202e-04 1.83411732e-04\n",
      " 1.83070703e-04 1.81673990e-04 1.80420388e-04 1.79126393e-04\n",
      " 1.78419249e-04 1.78020372e-04 1.76801092e-04 1.75892322e-04\n",
      " 1.74057254e-04 1.73511801e-04 1.72390384e-04 1.71834504e-04\n",
      " 1.70461039e-04 1.68486129e-04 1.66999715e-04 1.66083369e-04\n",
      " 1.64652917e-04 1.63602890e-04 1.62189239e-04 1.61695342e-04\n",
      " 1.60221439e-04 1.60024603e-04 1.59530563e-04 1.58457502e-04\n",
      " 1.57441035e-04 1.55589364e-04 1.54527261e-04 1.53704487e-04\n",
      " 1.52772429e-04 1.51534833e-04 1.50783892e-04 1.48767640e-04\n",
      " 1.48137863e-04 1.47559912e-04 1.46887844e-04 1.45211444e-04\n",
      " 1.44711189e-04 1.42652781e-04 1.41149761e-04 1.40254354e-04\n",
      " 1.39290011e-04 1.38321363e-04 1.37087146e-04 1.36720620e-04\n",
      " 1.36043371e-04 1.33704583e-04 1.33396480e-04 1.30450146e-04\n",
      " 1.30143417e-04 1.29014608e-04 1.27668797e-04 1.26629764e-04\n",
      " 1.25731380e-04 1.24392374e-04 1.22889944e-04 1.22245892e-04\n",
      " 1.21474517e-04 1.19721596e-04 1.19099893e-04 1.17046793e-04\n",
      " 1.15157122e-04 1.14932780e-04 1.13218399e-04 1.11091979e-04\n",
      " 1.10304071e-04 1.09867322e-04 1.07952215e-04 1.05869423e-04\n",
      " 1.05534725e-04 1.03647629e-04 1.03287501e-04 9.95884571e-05\n",
      " 9.91266145e-05 9.79084608e-05 9.43117122e-05 9.24751114e-05\n",
      " 8.68300101e-05 7.77983302e-05 6.95797197e-05 6.18513396e-05\n",
      " 5.48628668e-05 5.14403205e-05 5.04705130e-05 4.31425140e-05\n",
      " 1.29335441e-05]\n"
     ]
    },
    {
     "data": {
      "image/png": "[encoded data removed]",
      "text/plain": [
       "<Figure size 288x216 with 1 Axes>"
      ]
     },
     "metadata": {
      "needs_background": "light"
     },
     "output_type": "display_data"
    }
   ],
   "source": [
    "# First, check PCA if any predictors are very dominating\n",
    "pca_all = PCA()\n",
    "pca_all.fit(x_train)\n",
    "plt.figure(1, figsize=(4, 3))\n",
    "plt.clf()\n",
    "plt.axes([.2, .2, .7, .7])\n",
    "plt.plot(pca.explained_variance_, linewidth=2)\n",
    "plt.axis('tight')\n",
    "plt.xlabel('Number of components')\n",
    "plt.ylabel('Explained variance')\n",
    "print(pca_all.explained_variance_ratio_)"
   ]
  },
  {
   "cell_type": "markdown",
   "metadata": {},
   "source": [
    "## Classifications"
   ]
  },
  {
   "cell_type": "markdown",
   "metadata": {},
   "source": [
    "### First, let's run a number of standard algoritms and see what we get:"
   ]
  },
  {
   "cell_type": "code",
   "execution_count": 169,
   "metadata": {},
   "outputs": [],
   "source": [
    "names = [\"Nearest Neighbors\", \"Linear SVM\", \"RBF SVM\", \"Gaussian Process\",\n",
    "         \"Decision Tree\", \"Random Forest\", \"Neural Net\", \"AdaBoost\",\n",
    "         \"Naive Bayes\", \"QDA\"]\n",
    "\n",
    "classifiers = [\n",
    "    KNeighborsClassifier(3),\n",
    "    SVC(kernel=\"linear\", C=0.025),\n",
    "    SVC(gamma=2, C=1),\n",
    "    GaussianProcessClassifier(1.0 * RBF(1.0)),\n",
    "    DecisionTreeClassifier(max_depth=5),\n",
    "    RandomForestClassifier(max_depth=5, n_estimators=10, max_features=1),\n",
    "    MLPClassifier(alpha=1),\n",
    "    AdaBoostClassifier(),\n",
    "    GaussianNB(),\n",
    "    QuadraticDiscriminantAnalysis()]"
   ]
  },
  {
   "cell_type": "code",
   "execution_count": 170,
   "metadata": {},
   "outputs": [
    {
     "name": "stdout",
     "output_type": "stream",
     "text": [
      "The test score for the Nearest Neighbors is 0.789381\n",
      "The test score for the Linear SVM is 0.775221\n",
      "The test score for the RBF SVM is 0.803540\n",
      "The test score for the Gaussian Process is 0.800000\n",
      "The test score for the Decision Tree is 0.789381\n",
      "The test score for the Random Forest is 0.757522\n",
      "The test score for the Neural Net is 0.785841\n",
      "The test score for the AdaBoost is 0.784071\n",
      "The test score for the Naive Bayes is 0.527434\n",
      "The test score for the QDA is 0.745133\n"
     ]
    },
    {
     "name": "stderr",
     "output_type": "stream",
     "text": [
      "/usr/share/anaconda3/lib/python3.6/site-packages/sklearn/discriminant_analysis.py:692: UserWarning: Variables are collinear\n",
      "  warnings.warn(\"Variables are collinear\")\n"
     ]
    }
   ],
   "source": [
    "    # iterate over classifiers\n",
    "    for name, clf in zip(names, classifiers):\n",
    "        clf.fit(x_train, y_train)\n",
    "        score = clf.score(x_test, y_test)\n",
    "        print(\"The test score for the {} is {:f}\".format(name, score))"
   ]
  },
  {
   "cell_type": "markdown",
   "metadata": {},
   "source": [
    "### Let us select two of the algoritms above, and run them with cross validation"
   ]
  },
  {
   "cell_type": "code",
   "execution_count": null,
   "metadata": {},
   "outputs": [],
   "source": [
    "def plot_learning_curve(estimator, title, X, y, ylim=None, cv=None,\n",
    "                        n_jobs=None, train_sizes=np.linspace(.1, 1.0, 5)):\n",
    "    \"\"\"\n",
    "    Generate plot of the test and training learning curve.\n",
    "\n",
    "    \"\"\"\n",
    "    plt.figure()\n",
    "    plt.title(title)\n",
    "    if ylim is not None:\n",
    "        plt.ylim(*ylim)\n",
    "    plt.xlabel(\"Training examples\")\n",
    "    plt.ylabel(\"Score\")\n",
    "    train_sizes, train_scores, test_scores = learning_curve(estimator, X, y, cv=cv, n_jobs=n_jobs, train_sizes=train_sizes)\n",
    "    train_scores_mean = np.mean(train_scores, axis=1)\n",
    "    train_scores_std = np.std(train_scores, axis=1)\n",
    "    test_scores_mean = np.mean(test_scores, axis=1)\n",
    "    test_scores_std = np.std(test_scores, axis=1)\n",
    "    plt.grid()\n",
    "\n",
    "    plt.fill_between(train_sizes, train_scores_mean - train_scores_std,\n",
    "                     train_scores_mean + train_scores_std, alpha=0.1,\n",
    "                     color=\"r\")\n",
    "    plt.fill_between(train_sizes, test_scores_mean - test_scores_std,\n",
    "                     test_scores_mean + test_scores_std, alpha=0.1, color=\"g\")\n",
    "    plt.plot(train_sizes, train_scores_mean, 'o-', color=\"r\",\n",
    "             label=\"Training score\")\n",
    "    plt.plot(train_sizes, test_scores_mean, 'o-', color=\"g\",\n",
    "             label=\"Cross-validation score\")\n",
    "\n",
    "    plt.legend(loc=\"best\")\n",
    "    return plt\n",
    "\n",
    "# First model\n",
    "title = \"Learning Curves KNeighborsClassifier K=3\"\n",
    "cv = ShuffleSplit(n_splits=10, test_size=0.2, random_state=0)\n",
    "estimator = KNeighborsClassifier(3)\n",
    "plot_learning_curve(estimator, title, x_train, y_train, ylim=(0.7, 1.01), cv=cv, n_jobs=4)\n",
    "\n",
    "# Second model\n",
    "title = r\"Learning Curves (SVM, RBF kernel, $\\gamma=0.001$)\"\n",
    "cv = ShuffleSplit(n_splits=10, test_size=0.2, random_state=0)\n",
    "estimator = SVC(gamma=0.001)\n",
    "plot_learning_curve(estimator, title, x_train, y_train, (0.7, 1.01), cv=cv, n_jobs=4)\n",
    "\n",
    "plt.show()"
   ]
  },
  {
   "cell_type": "markdown",
   "metadata": {},
   "source": [
    "### Let us then try neural networks, and see if the results may improve"
   ]
  },
  {
   "cell_type": "code",
   "execution_count": 127,
   "metadata": {},
   "outputs": [],
   "source": [
    "# Set random seed for reproducibility\n",
    "\n",
    "seed = 7\n",
    "numpy.random.seed(seed)"
   ]
  },
  {
   "cell_type": "code",
   "execution_count": 132,
   "metadata": {},
   "outputs": [],
   "source": [
    "# Create a baseline model, to see what results we may get\n",
    "\n",
    "def create_baseline():\n",
    "    model = Sequential()\n",
    "    model.add(Dense(817, input_dim=817, kernel_initializer='normal', activation='relu'))\n",
    "    model.add(Dense(1, kernel_initializer='normal', activation='sigmoid'))\n",
    "    model.compile(loss='binary_crossentropy', optimizer='adam', metrics=['accuracy'])\n",
    "    return model"
   ]
  },
  {
   "cell_type": "code",
   "execution_count": 135,
   "metadata": {
    "scrolled": true
   },
   "outputs": [
    {
     "name": "stdout",
     "output_type": "stream",
     "text": [
      "Epoch 1/5\n",
      "3388/3388 [==============================] - 3s 907us/step - loss: 0.6851 - acc: 0.7583\n",
      "Epoch 2/5\n",
      "3388/3388 [==============================] - 2s 736us/step - loss: 0.3755 - acc: 0.8442\n",
      "Epoch 3/5\n",
      "3388/3388 [==============================] - 3s 812us/step - loss: 0.3483 - acc: 0.8536\n",
      "Epoch 4/5\n",
      "3388/3388 [==============================] - 3s 753us/step - loss: 0.3156 - acc: 0.8687\n",
      "Epoch 5/5\n",
      "3388/3388 [==============================] - 2s 736us/step - loss: 0.3186 - acc: 0.8719\n",
      "1695/1695 [==============================] - 1s 380us/step\n",
      "Epoch 1/5\n",
      "3389/3389 [==============================] - 3s 966us/step - loss: 0.6673 - acc: 0.7572\n",
      "Epoch 2/5\n",
      "3389/3389 [==============================] - 3s 760us/step - loss: 0.3709 - acc: 0.8472\n",
      "Epoch 3/5\n",
      "3389/3389 [==============================] - 3s 744us/step - loss: 0.3327 - acc: 0.8687\n",
      "Epoch 4/5\n",
      "3389/3389 [==============================] - 3s 741us/step - loss: 0.3190 - acc: 0.8743\n",
      "Epoch 5/5\n",
      "3389/3389 [==============================] - 3s 779us/step - loss: 0.3058 - acc: 0.8834\n",
      "1694/1694 [==============================] - 1s 422us/step\n",
      "Epoch 1/5\n",
      "3389/3389 [==============================] - 3s 933us/step - loss: 0.6917 - acc: 0.7577\n",
      "Epoch 2/5\n",
      "3389/3389 [==============================] - 3s 741us/step - loss: 0.3793 - acc: 0.8522\n",
      "Epoch 3/5\n",
      "3389/3389 [==============================] - 3s 785us/step - loss: 0.3268 - acc: 0.8696\n",
      "Epoch 4/5\n",
      "3389/3389 [==============================] - 3s 779us/step - loss: 0.3183 - acc: 0.8772\n",
      "Epoch 5/5\n",
      "3389/3389 [==============================] - 3s 739us/step - loss: 0.3158 - acc: 0.8823\n",
      "1694/1694 [==============================] - 1s 405us/step\n",
      "Results: 78.69% (0.25%)\n"
     ]
    }
   ],
   "source": [
    "estimator = KerasClassifier(build_fn=create_baseline, epochs=5, batch_size=5, verbose=1)\n",
    "kfold = StratifiedKFold(n_splits=3, shuffle=True, random_state=seed)\n",
    "results = cross_val_score(estimator, x_train, y_train, cv=kfold)\n",
    "print(\"A mean of %.2f%%  with a standard deviation of %.2f%%\" % (results.mean()*100, results.std()*100))"
   ]
  },
  {
   "cell_type": "code",
   "execution_count": 173,
   "metadata": {
    "scrolled": true
   },
   "outputs": [
    {
     "name": "stdout",
     "output_type": "stream",
     "text": [
      "Epoch 1/5\n",
      "4065/4065 [==============================] - 6s 2ms/step - loss: 0.4690 - acc: 0.7934\n",
      "Epoch 2/5\n",
      "4065/4065 [==============================] - 4s 965us/step - loss: 0.3545 - acc: 0.8399\n",
      "Epoch 3/5\n",
      "4065/4065 [==============================] - 4s 930us/step - loss: 0.3016 - acc: 0.8659\n",
      "Epoch 4/5\n",
      "4065/4065 [==============================] - 4s 1ms/step - loss: 0.2537 - acc: 0.8792\n",
      "Epoch 5/5\n",
      "4065/4065 [==============================] - 4s 931us/step - loss: 0.2339 - acc: 0.8834\n",
      "1018/1018 [==============================] - 1s 1ms/step\n",
      "Epoch 1/5\n",
      "4066/4066 [==============================] - 7s 2ms/step - loss: 0.4722 - acc: 0.7863\n",
      "Epoch 2/5\n",
      "4066/4066 [==============================] - 4s 935us/step - loss: 0.3566 - acc: 0.8433\n",
      "Epoch 3/5\n",
      "4066/4066 [==============================] - 4s 1ms/step - loss: 0.2954 - acc: 0.8556\n",
      "Epoch 4/5\n",
      "4066/4066 [==============================] - 4s 935us/step - loss: 0.2494 - acc: 0.8743\n",
      "Epoch 5/5\n",
      "4066/4066 [==============================] - 4s 968us/step - loss: 0.2484 - acc: 0.8770\n",
      "1017/1017 [==============================] - 2s 2ms/step\n",
      "Epoch 1/5\n",
      "4067/4067 [==============================] - 7s 2ms/step - loss: 0.4633 - acc: 0.7976\n",
      "Epoch 2/5\n",
      "4067/4067 [==============================] - 4s 1ms/step - loss: 0.3527 - acc: 0.8495\n",
      "Epoch 3/5\n",
      "4067/4067 [==============================] - 4s 939us/step - loss: 0.2930 - acc: 0.8660\n",
      "Epoch 4/5\n",
      "4067/4067 [==============================] - 4s 981us/step - loss: 0.2454 - acc: 0.8812\n",
      "Epoch 5/5\n",
      "4067/4067 [==============================] - 4s 962us/step - loss: 0.2242 - acc: 0.8879\n",
      "1016/1016 [==============================] - 2s 2ms/step\n",
      "Epoch 1/5\n",
      "4067/4067 [==============================] - 7s 2ms/step - loss: 0.4706 - acc: 0.7819\n",
      "Epoch 2/5\n",
      "4067/4067 [==============================] - 4s 937us/step - loss: 0.3593 - acc: 0.8402\n",
      "Epoch 3/5\n",
      "4067/4067 [==============================] - 4s 996us/step - loss: 0.3050 - acc: 0.8603\n",
      "Epoch 4/5\n",
      "4067/4067 [==============================] - 4s 950us/step - loss: 0.2587 - acc: 0.8790\n",
      "Epoch 5/5\n",
      "4067/4067 [==============================] - 4s 953us/step - loss: 0.2312 - acc: 0.8881\n",
      "1016/1016 [==============================] - 2s 2ms/step\n",
      "Epoch 1/5\n",
      "4067/4067 [==============================] - 7s 2ms/step - loss: 0.4728 - acc: 0.7898\n",
      "Epoch 2/5\n",
      "4067/4067 [==============================] - 4s 987us/step - loss: 0.3578 - acc: 0.8389\n",
      "Epoch 3/5\n",
      "4067/4067 [==============================] - 4s 940us/step - loss: 0.2972 - acc: 0.8645\n",
      "Epoch 4/5\n",
      "4067/4067 [==============================] - 4s 970us/step - loss: 0.2582 - acc: 0.8790\n",
      "Epoch 5/5\n",
      "4067/4067 [==============================] - 4s 965us/step - loss: 0.2205 - acc: 0.8849\n",
      "1016/1016 [==============================] - 2s 2ms/step\n",
      "Larger: 80.86% (0.67%)\n"
     ]
    }
   ],
   "source": [
    "# Create a larger model, to see if the results may be improved\n",
    "def create_larger():\n",
    "    model = Sequential()\n",
    "    model.add(Dense(817, input_dim=817, kernel_initializer='normal', activation='relu'))\n",
    "    model.add(Dense(30, kernel_initializer='normal', activation='relu'))\n",
    "    model.add(Dense(1, kernel_initializer='normal', activation='sigmoid'))\n",
    "    model.compile(loss='binary_crossentropy', optimizer='adam', metrics=['accuracy'])\n",
    "    return model\n",
    "\n",
    "estimators = []\n",
    "estimators.append(('standardize', StandardScaler()))\n",
    "estimators.append(('mlp', KerasClassifier(build_fn=create_larger, epochs=5, batch_size=5, verbose=1)))\n",
    "pipeline = Pipeline(estimators)\n",
    "kfold = StratifiedKFold(n_splits=5, shuffle=True, random_state=seed)\n",
    "results = cross_val_score(pipeline, x_train, y_train, cv=kfold)\n",
    "print(\"A mean of %.2f%% with a standard deviation of %.2f%%\" % (results.mean()*100, results.std()*100))"
   ]
  },
  {
   "cell_type": "markdown",
   "metadata": {},
   "source": [
    "## Regression"
   ]
  },
  {
   "cell_type": "code",
   "execution_count": 72,
   "metadata": {},
   "outputs": [
    {
     "data": {
      "text/plain": [
       "((4518, 817), (4518,), (1130, 817), (1130,))"
      ]
     },
     "execution_count": 72,
     "metadata": {},
     "output_type": "execute_result"
    }
   ],
   "source": [
    "# Split into training and test sets\n",
    "\n",
    "x_train, x_test, y_train, y_test = train_test_split(x, y_regression, test_size = 0.2, random_state = 42)\n",
    "x_train.shape, y_train.shape, x_test.shape, y_test.shape"
   ]
  },
  {
   "cell_type": "markdown",
   "metadata": {},
   "source": [
    "### First, let us try two simple models based on Keras"
   ]
  },
  {
   "cell_type": "code",
   "execution_count": 73,
   "metadata": {},
   "outputs": [],
   "source": [
    "# define base model\n",
    "def baseline_model():\n",
    "    model = Sequential()\n",
    "    model.add(Dense(817, input_dim=817, kernel_initializer='normal', activation='relu'))\n",
    "    model.add(Dense(1, kernel_initializer='normal'))\n",
    "    model.compile(loss='mean_squared_error', optimizer='adam')\n",
    "    return model"
   ]
  },
  {
   "cell_type": "code",
   "execution_count": 74,
   "metadata": {},
   "outputs": [],
   "source": [
    "seed = 7\n",
    "np.random.seed(seed)\n",
    "# evaluate model with standardized dataset\n",
    "estimator = KerasRegressor(build_fn=baseline_model, epochs=10, batch_size=5, verbose=1)"
   ]
  },
  {
   "cell_type": "code",
   "execution_count": 253,
   "metadata": {},
   "outputs": [
    {
     "name": "stdout",
     "output_type": "stream",
     "text": [
      "Epoch 1/10\n",
      "4066/4066 [==============================] - 4s 1ms/step - loss: 1.8175\n",
      "Epoch 2/10\n",
      "4066/4066 [==============================] - 3s 719us/step - loss: 0.0943\n",
      "Epoch 3/10\n",
      "4066/4066 [==============================] - 3s 720us/step - loss: 0.0579\n",
      "Epoch 4/10\n",
      "4066/4066 [==============================] - 3s 773us/step - loss: 0.0568\n",
      "Epoch 5/10\n",
      "4066/4066 [==============================] - 3s 753us/step - loss: 0.0806\n",
      "Epoch 6/10\n",
      "4066/4066 [==============================] - 3s 717us/step - loss: 0.0946\n",
      "Epoch 7/10\n",
      "4066/4066 [==============================] - 3s 761us/step - loss: 0.1088\n",
      "Epoch 8/10\n",
      "4066/4066 [==============================] - 3s 740us/step - loss: 0.1180\n",
      "Epoch 9/10\n",
      "4066/4066 [==============================] - 3s 716us/step - loss: 0.1048\n",
      "Epoch 10/10\n",
      "4066/4066 [==============================] - 3s 749us/step - loss: 0.0906\n",
      "452/452 [==============================] - 1s 2ms/step\n",
      "Epoch 1/10\n",
      "4066/4066 [==============================] - 4s 1ms/step - loss: 1.5620\n",
      "Epoch 2/10\n",
      "4066/4066 [==============================] - 3s 720us/step - loss: 0.1198\n",
      "Epoch 3/10\n",
      "4066/4066 [==============================] - 3s 754us/step - loss: 0.0555\n",
      "Epoch 4/10\n",
      "4066/4066 [==============================] - 3s 728us/step - loss: 0.0552\n",
      "Epoch 5/10\n",
      "4066/4066 [==============================] - 3s 717us/step - loss: 0.1006\n",
      "Epoch 6/10\n",
      "4066/4066 [==============================] - 3s 754us/step - loss: 0.1289\n",
      "Epoch 7/10\n",
      "4066/4066 [==============================] - 3s 787us/step - loss: 0.0876\n",
      "Epoch 8/10\n",
      "4066/4066 [==============================] - 3s 717us/step - loss: 0.0792\n",
      "Epoch 9/10\n",
      "4066/4066 [==============================] - 3s 725us/step - loss: 0.1053\n",
      "Epoch 10/10\n",
      "4066/4066 [==============================] - 3s 805us/step - loss: 0.1649\n",
      "452/452 [==============================] - 1s 2ms/step\n",
      "Epoch 1/10\n",
      "4066/4066 [==============================] - 4s 1ms/step - loss: 1.7207\n",
      "Epoch 2/10\n",
      "4066/4066 [==============================] - 3s 758us/step - loss: 0.0968\n",
      "Epoch 3/10\n",
      "4066/4066 [==============================] - 3s 756us/step - loss: 0.0651\n",
      "Epoch 4/10\n",
      "4066/4066 [==============================] - 3s 721us/step - loss: 0.0686\n",
      "Epoch 5/10\n",
      "4066/4066 [==============================] - 3s 742us/step - loss: 0.0793\n",
      "Epoch 6/10\n",
      "4066/4066 [==============================] - 3s 750us/step - loss: 0.1176\n",
      "Epoch 7/10\n",
      "4066/4066 [==============================] - 3s 724us/step - loss: 0.1345\n",
      "Epoch 8/10\n",
      "4066/4066 [==============================] - 3s 727us/step - loss: 0.0880\n",
      "Epoch 9/10\n",
      "4066/4066 [==============================] - 3s 806us/step - loss: 0.0975\n",
      "Epoch 10/10\n",
      "4066/4066 [==============================] - 3s 724us/step - loss: 0.1574\n",
      "452/452 [==============================] - 1s 2ms/step\n",
      "Epoch 1/10\n",
      "4066/4066 [==============================] - 5s 1ms/step - loss: 1.7708\n",
      "Epoch 2/10\n",
      "4066/4066 [==============================] - 3s 769us/step - loss: 0.0954\n",
      "Epoch 3/10\n",
      "4066/4066 [==============================] - 3s 721us/step - loss: 0.0568\n",
      "Epoch 4/10\n",
      "4066/4066 [==============================] - 3s 737us/step - loss: 0.0561\n",
      "Epoch 5/10\n",
      "4066/4066 [==============================] - 3s 773us/step - loss: 0.0890\n",
      "Epoch 6/10\n",
      "4066/4066 [==============================] - 3s 721us/step - loss: 0.0991\n",
      "Epoch 7/10\n",
      "4066/4066 [==============================] - 3s 728us/step - loss: 0.1105\n",
      "Epoch 8/10\n",
      "4066/4066 [==============================] - 3s 825us/step - loss: 0.0833\n",
      "Epoch 9/10\n",
      "4066/4066 [==============================] - 3s 725us/step - loss: 0.1425\n",
      "Epoch 10/10\n",
      "4066/4066 [==============================] - 3s 722us/step - loss: 0.2268\n",
      "452/452 [==============================] - 1s 2ms/step\n",
      "Epoch 1/10\n",
      "4066/4066 [==============================] - 5s 1ms/step - loss: 1.7059\n",
      "Epoch 2/10\n",
      "4066/4066 [==============================] - 3s 734us/step - loss: 0.0950\n",
      "Epoch 3/10\n",
      "4066/4066 [==============================] - 3s 772us/step - loss: 0.0720\n",
      "Epoch 4/10\n",
      "4066/4066 [==============================] - 3s 772us/step - loss: 0.0700\n",
      "Epoch 5/10\n",
      "4066/4066 [==============================] - 3s 724us/step - loss: 0.0762\n",
      "Epoch 6/10\n",
      "4066/4066 [==============================] - 3s 756us/step - loss: 0.0914\n",
      "Epoch 7/10\n",
      "4066/4066 [==============================] - 3s 825us/step - loss: 0.1143\n",
      "Epoch 8/10\n",
      "4066/4066 [==============================] - 3s 725us/step - loss: 0.1076\n",
      "Epoch 9/10\n",
      "4066/4066 [==============================] - 3s 732us/step - loss: 0.1379\n",
      "Epoch 10/10\n",
      "4066/4066 [==============================] - 3s 820us/step - loss: 0.1264\n",
      "452/452 [==============================] - 1s 2ms/step\n",
      "Epoch 1/10\n",
      "4066/4066 [==============================] - 5s 1ms/step - loss: 1.6333\n",
      "Epoch 2/10\n",
      "4066/4066 [==============================] - 3s 810us/step - loss: 0.0911\n",
      "Epoch 3/10\n",
      "4066/4066 [==============================] - 3s 784us/step - loss: 0.0575\n",
      "Epoch 4/10\n",
      "4066/4066 [==============================] - 3s 727us/step - loss: 0.0624\n",
      "Epoch 5/10\n",
      "4066/4066 [==============================] - 3s 789us/step - loss: 0.0777\n",
      "Epoch 6/10\n",
      "4066/4066 [==============================] - 3s 784us/step - loss: 0.0899\n",
      "Epoch 7/10\n",
      "4066/4066 [==============================] - 3s 727us/step - loss: 0.1463\n",
      "Epoch 8/10\n",
      "4066/4066 [==============================] - 3s 740us/step - loss: 0.1012\n",
      "Epoch 9/10\n",
      "4066/4066 [==============================] - 3s 793us/step - loss: 0.1027\n",
      "Epoch 10/10\n",
      "4066/4066 [==============================] - 3s 737us/step - loss: 0.1454\n",
      "452/452 [==============================] - 1s 2ms/step\n",
      "Epoch 1/10\n",
      "4066/4066 [==============================] - 5s 1ms/step - loss: 1.9594\n",
      "Epoch 2/10\n",
      "4066/4066 [==============================] - 3s 743us/step - loss: 0.1054\n",
      "Epoch 3/10\n",
      "4066/4066 [==============================] - 3s 728us/step - loss: 0.0578\n",
      "Epoch 4/10\n",
      "4066/4066 [==============================] - 3s 816us/step - loss: 0.0665\n",
      "Epoch 5/10\n",
      "4066/4066 [==============================] - 3s 749us/step - loss: 0.0931\n",
      "Epoch 6/10\n",
      "4066/4066 [==============================] - 3s 732us/step - loss: 0.0798\n",
      "Epoch 7/10\n",
      "4066/4066 [==============================] - 3s 793us/step - loss: 0.0924\n",
      "Epoch 8/10\n",
      "4066/4066 [==============================] - 3s 768us/step - loss: 0.1333\n",
      "Epoch 9/10\n",
      "4066/4066 [==============================] - 3s 728us/step - loss: 0.1348\n",
      "Epoch 10/10\n",
      "4066/4066 [==============================] - 3s 752us/step - loss: 0.1029\n",
      "452/452 [==============================] - 1s 2ms/step\n",
      "Epoch 1/10\n",
      "4066/4066 [==============================] - 5s 1ms/step - loss: 1.5874\n",
      "Epoch 2/10\n",
      "4066/4066 [==============================] - 3s 732us/step - loss: 0.0916\n",
      "Epoch 3/10\n",
      "4066/4066 [==============================] - 3s 807us/step - loss: 0.0602\n",
      "Epoch 4/10\n",
      "4066/4066 [==============================] - 3s 740us/step - loss: 0.0657\n",
      "Epoch 5/10\n",
      "4066/4066 [==============================] - 3s 732us/step - loss: 0.0749\n",
      "Epoch 6/10\n",
      "4066/4066 [==============================] - 3s 796us/step - loss: 0.1217\n",
      "Epoch 7/10\n",
      "4066/4066 [==============================] - 3s 761us/step - loss: 0.1251\n",
      "Epoch 8/10\n",
      "4066/4066 [==============================] - 3s 734us/step - loss: 0.1104\n",
      "Epoch 9/10\n",
      "4066/4066 [==============================] - 3s 759us/step - loss: 0.1026\n",
      "Epoch 10/10\n",
      "4066/4066 [==============================] - 3s 779us/step - loss: 0.1334\n",
      "452/452 [==============================] - 1s 2ms/step\n",
      "Epoch 1/10\n",
      "4067/4067 [==============================] - 5s 1ms/step - loss: 1.6675\n",
      "Epoch 2/10\n",
      "4067/4067 [==============================] - 3s 797us/step - loss: 0.0988\n",
      "Epoch 3/10\n",
      "4067/4067 [==============================] - 3s 731us/step - loss: 0.0588\n",
      "Epoch 4/10\n",
      "4067/4067 [==============================] - 3s 736us/step - loss: 0.0671\n",
      "Epoch 5/10\n",
      "4067/4067 [==============================] - 3s 830us/step - loss: 0.1052\n",
      "Epoch 6/10\n",
      "4067/4067 [==============================] - 3s 735us/step - loss: 0.1022\n",
      "Epoch 7/10\n",
      "4067/4067 [==============================] - 3s 733us/step - loss: 0.1002\n",
      "Epoch 8/10\n",
      "4067/4067 [==============================] - 3s 785us/step - loss: 0.1173\n",
      "Epoch 9/10\n",
      "4067/4067 [==============================] - 3s 766us/step - loss: 0.0952\n",
      "Epoch 10/10\n",
      "4067/4067 [==============================] - 3s 731us/step - loss: 0.1373\n",
      "451/451 [==============================] - 1s 2ms/step\n",
      "Epoch 1/10\n",
      "4067/4067 [==============================] - 5s 1ms/step - loss: 1.5301\n",
      "Epoch 2/10\n",
      "4067/4067 [==============================] - 3s 735us/step - loss: 0.0881\n",
      "Epoch 3/10\n",
      "4067/4067 [==============================] - 3s 757us/step - loss: 0.0549\n",
      "Epoch 4/10\n",
      "4067/4067 [==============================] - 3s 820us/step - loss: 0.0834\n",
      "Epoch 5/10\n",
      "4067/4067 [==============================] - 3s 735us/step - loss: 0.0843\n",
      "Epoch 6/10\n",
      "4067/4067 [==============================] - 3s 744us/step - loss: 0.0890\n",
      "Epoch 7/10\n",
      "4067/4067 [==============================] - 3s 847us/step - loss: 0.0944\n",
      "Epoch 8/10\n",
      "4067/4067 [==============================] - 3s 734us/step - loss: 0.1188\n",
      "Epoch 9/10\n",
      "4067/4067 [==============================] - 3s 734us/step - loss: 0.1411\n",
      "Epoch 10/10\n",
      "4067/4067 [==============================] - 3s 827us/step - loss: 0.0946\n",
      "451/451 [==============================] - 1s 2ms/step\n"
     ]
    },
    {
     "ename": "ValueError",
     "evalue": "unsupported format character 'w' (0x77) at index 16",
     "output_type": "error",
     "traceback": [
      "\u001b[0;31m---------------------------------------------------------------------------\u001b[0m",
      "\u001b[0;31mValueError\u001b[0m                                Traceback (most recent call last)",
      "\u001b[0;32m<ipython-input-253-3f2a31f35401>\u001b[0m in \u001b[0;36m<module>\u001b[0;34m\u001b[0m\n\u001b[1;32m      1\u001b[0m \u001b[0mkfold\u001b[0m \u001b[0;34m=\u001b[0m \u001b[0mKFold\u001b[0m\u001b[0;34m(\u001b[0m\u001b[0mn_splits\u001b[0m\u001b[0;34m=\u001b[0m\u001b[0;36m10\u001b[0m\u001b[0;34m,\u001b[0m \u001b[0mrandom_state\u001b[0m\u001b[0;34m=\u001b[0m\u001b[0mseed\u001b[0m\u001b[0;34m)\u001b[0m\u001b[0;34m\u001b[0m\u001b[0;34m\u001b[0m\u001b[0m\n\u001b[1;32m      2\u001b[0m \u001b[0mresults\u001b[0m \u001b[0;34m=\u001b[0m \u001b[0mcross_val_score\u001b[0m\u001b[0;34m(\u001b[0m\u001b[0mestimator\u001b[0m\u001b[0;34m,\u001b[0m \u001b[0mx_train\u001b[0m\u001b[0;34m,\u001b[0m \u001b[0my_train\u001b[0m\u001b[0;34m,\u001b[0m \u001b[0mcv\u001b[0m\u001b[0;34m=\u001b[0m\u001b[0mkfold\u001b[0m\u001b[0;34m)\u001b[0m\u001b[0;34m\u001b[0m\u001b[0;34m\u001b[0m\u001b[0m\n\u001b[0;32m----> 3\u001b[0;31m \u001b[0mprint\u001b[0m\u001b[0;34m(\u001b[0m\u001b[0;34m\"A mean of %.2f% with a standard deviation of %.2f% using MSE\"\u001b[0m \u001b[0;34m%\u001b[0m \u001b[0;34m(\u001b[0m\u001b[0mresults\u001b[0m\u001b[0;34m.\u001b[0m\u001b[0mmean\u001b[0m\u001b[0;34m(\u001b[0m\u001b[0;34m)\u001b[0m\u001b[0;34m,\u001b[0m \u001b[0mresults\u001b[0m\u001b[0;34m.\u001b[0m\u001b[0mstd\u001b[0m\u001b[0;34m(\u001b[0m\u001b[0;34m)\u001b[0m\u001b[0;34m)\u001b[0m\u001b[0;34m)\u001b[0m\u001b[0;34m\u001b[0m\u001b[0;34m\u001b[0m\u001b[0m\n\u001b[0m",
      "\u001b[0;31mValueError\u001b[0m: unsupported format character 'w' (0x77) at index 16"
     ]
    }
   ],
   "source": [
    "kfold = KFold(n_splits=10, random_state=seed)\n",
    "results = cross_val_score(estimator, x_train, y_train, cv=kfold)\n",
    "print(\"A mean of %.2f% with a standard deviation of %.2f% using MSE\" % (results.mean(), results.std()))"
   ]
  },
  {
   "cell_type": "code",
   "execution_count": 78,
   "metadata": {},
   "outputs": [],
   "source": [
    "# define the model\n",
    "def larger_model():\n",
    "    model = Sequential()\n",
    "    model.add(Dense(817, input_dim=817, kernel_initializer='normal', activation='relu'))\n",
    "    model.add(Dense(25, kernel_initializer='normal', activation='relu'))\n",
    "    model.add(Dense(6, kernel_initializer='normal', activation='relu'))\n",
    "    model.add(Dense(1, kernel_initializer='normal'))\n",
    "    model.compile(loss='mean_squared_error', optimizer='adam')\n",
    "    return model"
   ]
  },
  {
   "cell_type": "code",
   "execution_count": 252,
   "metadata": {
    "scrolled": true
   },
   "outputs": [
    {
     "name": "stdout",
     "output_type": "stream",
     "text": [
      "Epoch 1/10\n",
      "3614/3614 [==============================] - 5s 1ms/step - loss: 0.0491\n",
      "Epoch 2/10\n",
      "3614/3614 [==============================] - 3s 929us/step - loss: 0.0342\n",
      "Epoch 3/10\n",
      "3614/3614 [==============================] - 3s 965us/step - loss: 0.0293\n",
      "Epoch 4/10\n",
      "3614/3614 [==============================] - 4s 990us/step - loss: 0.0260\n",
      "Epoch 5/10\n",
      "3614/3614 [==============================] - 3s 930us/step - loss: 0.0230\n",
      "Epoch 6/10\n",
      "3614/3614 [==============================] - 4s 972us/step - loss: 0.0212\n",
      "Epoch 7/10\n",
      "3614/3614 [==============================] - 4s 980us/step - loss: 0.0196\n",
      "Epoch 8/10\n",
      "3614/3614 [==============================] - 3s 931us/step - loss: 0.0179\n",
      "Epoch 9/10\n",
      "3614/3614 [==============================] - 3s 963us/step - loss: 0.0178\n",
      "Epoch 10/10\n",
      "3614/3614 [==============================] - 3s 968us/step - loss: 0.0167\n",
      "904/904 [==============================] - 1s 742us/step\n",
      "Epoch 1/10\n",
      "3614/3614 [==============================] - 5s 1ms/step - loss: 0.0488\n",
      "Epoch 2/10\n",
      "3614/3614 [==============================] - 4s 995us/step - loss: 0.0340\n",
      "Epoch 3/10\n",
      "3614/3614 [==============================] - 3s 933us/step - loss: 0.0288\n",
      "Epoch 4/10\n",
      "3614/3614 [==============================] - 3s 959us/step - loss: 0.0256\n",
      "Epoch 5/10\n",
      "3614/3614 [==============================] - 4s 980us/step - loss: 0.0231\n",
      "Epoch 6/10\n",
      "3614/3614 [==============================] - 3s 933us/step - loss: 0.0213\n",
      "Epoch 7/10\n",
      "3614/3614 [==============================] - 4s 985us/step - loss: 0.0201\n",
      "Epoch 8/10\n",
      "3614/3614 [==============================] - 4s 974us/step - loss: 0.0190\n",
      "Epoch 9/10\n",
      "3614/3614 [==============================] - 3s 935us/step - loss: 0.0179\n",
      "Epoch 10/10\n",
      "3614/3614 [==============================] - 4s 984us/step - loss: 0.0171\n",
      "904/904 [==============================] - 1s 817us/step\n",
      "Epoch 1/10\n",
      "3614/3614 [==============================] - 5s 1ms/step - loss: 0.0492\n",
      "Epoch 2/10\n",
      "3614/3614 [==============================] - 4s 972us/step - loss: 0.0339\n",
      "Epoch 3/10\n",
      "3614/3614 [==============================] - 3s 966us/step - loss: 0.0291\n",
      "Epoch 4/10\n",
      "3614/3614 [==============================] - 3s 938us/step - loss: 0.0256\n",
      "Epoch 5/10\n",
      "3614/3614 [==============================] - 4s 986us/step - loss: 0.0236\n",
      "Epoch 6/10\n",
      "3614/3614 [==============================] - 4s 975us/step - loss: 0.0218\n",
      "Epoch 7/10\n",
      "3614/3614 [==============================] - 3s 934us/step - loss: 0.0206\n",
      "Epoch 8/10\n",
      "3614/3614 [==============================] - 4s 983us/step - loss: 0.0195\n",
      "Epoch 9/10\n",
      "3614/3614 [==============================] - 3s 946us/step - loss: 0.0185\n",
      "Epoch 10/10\n",
      "3614/3614 [==============================] - 3s 934us/step - loss: 0.0176\n",
      "904/904 [==============================] - 1s 770us/step\n",
      "Epoch 1/10\n",
      "3615/3615 [==============================] - 5s 1ms/step - loss: 0.0487\n",
      "Epoch 2/10\n",
      "3615/3615 [==============================] - 3s 940us/step - loss: 0.0337\n",
      "Epoch 3/10\n",
      "3615/3615 [==============================] - 4s 1ms/step - loss: 0.0285\n",
      "Epoch 4/10\n",
      "3615/3615 [==============================] - 3s 961us/step - loss: 0.0254\n",
      "Epoch 5/10\n",
      "3615/3615 [==============================] - 3s 940us/step - loss: 0.0225\n",
      "Epoch 6/10\n",
      "3615/3615 [==============================] - 4s 1ms/step - loss: 0.0215\n",
      "Epoch 7/10\n",
      "3615/3615 [==============================] - 3s 954us/step - loss: 0.0194\n",
      "Epoch 8/10\n",
      "3615/3615 [==============================] - 3s 945us/step - loss: 0.0179\n",
      "Epoch 9/10\n",
      "3615/3615 [==============================] - 4s 1ms/step - loss: 0.0177\n",
      "Epoch 10/10\n",
      "3615/3615 [==============================] - 3s 941us/step - loss: 0.0168\n",
      "903/903 [==============================] - 1s 813us/step\n",
      "Epoch 1/10\n",
      "3615/3615 [==============================] - 5s 1ms/step - loss: 0.0490\n",
      "Epoch 2/10\n",
      "3615/3615 [==============================] - 3s 951us/step - loss: 0.0340\n",
      "Epoch 3/10\n",
      "3615/3615 [==============================] - 3s 944us/step - loss: 0.0293\n",
      "Epoch 4/10\n",
      "3615/3615 [==============================] - 4s 995us/step - loss: 0.0266\n",
      "Epoch 5/10\n",
      "3615/3615 [==============================] - 3s 945us/step - loss: 0.0240\n",
      "Epoch 6/10\n",
      "3615/3615 [==============================] - 3s 951us/step - loss: 0.0221\n",
      "Epoch 7/10\n",
      "3615/3615 [==============================] - 4s 1ms/step - loss: 0.0209\n",
      "Epoch 8/10\n",
      "3615/3615 [==============================] - 3s 943us/step - loss: 0.0197\n",
      "Epoch 9/10\n",
      "3615/3615 [==============================] - 3s 961us/step - loss: 0.0190\n",
      "Epoch 10/10\n",
      "3615/3615 [==============================] - 4s 1ms/step - loss: 0.0181\n",
      "903/903 [==============================] - 1s 861us/step\n",
      "A mean of -0.05 with a standard deviation of 0.00 using MSE\n"
     ]
    }
   ],
   "source": [
    "np.random.seed(seed)\n",
    "estimators = []\n",
    "estimators.append(('mlp', KerasRegressor(build_fn=larger_model, epochs=10, batch_size=5, verbose=1)))\n",
    "pipeline = Pipeline(estimators)\n",
    "kfold = KFold(n_splits=5, random_state=seed)\n",
    "results = cross_val_score(pipeline, x_train, y_train, cv=kfold)\n",
    "print(\"A mean of %.2f with a standard deviation of %.2f using MSE\" % (results.mean(), results.std()))"
   ]
  },
  {
   "cell_type": "markdown",
   "metadata": {},
   "source": [
    "### A model using gradient boosting"
   ]
  },
  {
   "cell_type": "code",
   "execution_count": 273,
   "metadata": {},
   "outputs": [
    {
     "name": "stdout",
     "output_type": "stream",
     "text": [
      "The MSE of this model is 0.0416\n"
     ]
    },
    {
     "data": {
      "image/png": "[encoded data removed]",
      "text/plain": [
       "<Figure size 864x432 with 2 Axes>"
      ]
     },
     "metadata": {
      "needs_background": "light"
     },
     "output_type": "display_data"
    }
   ],
   "source": [
    "params = {'n_estimators': 500, 'max_depth': 4, 'min_samples_split': 2,\n",
    "          'learning_rate': 0.01, 'loss': 'ls'}\n",
    "clf = ensemble.GradientBoostingRegressor(**params)\n",
    "\n",
    "clf.fit(x_train, y_train)\n",
    "mse = mean_squared_error(y_test, clf.predict(x_test))\n",
    "print(\"The MSE of this model is %.4f\" % mse)\n",
    "\n",
    "# compute test set deviance\n",
    "test_score = np.zeros((params['n_estimators'],), dtype=np.float64)\n",
    "\n",
    "for i, y_pred in enumerate(clf.staged_predict(x_test)):\n",
    "    test_score[i] = clf.loss_(y_test, y_pred)\n",
    "\n",
    "plt.figure(figsize=(12, 6))\n",
    "plt.subplot(1, 2, 1)\n",
    "plt.title('Deviance')\n",
    "plt.plot(np.arange(params['n_estimators']) + 1, clf.train_score_, 'b-',\n",
    "         label='Training Set Deviance')\n",
    "plt.plot(np.arange(params['n_estimators']) + 1, test_score, 'r-',\n",
    "         label='Test Set Deviance')\n",
    "plt.legend(loc='upper right')\n",
    "plt.xlabel('Boosting Iterations')\n",
    "plt.ylabel('Deviance')\n",
    "\n",
    "# Plot feature importance\n",
    "feature_importance = clf.feature_importances_\n",
    "# make importances relative to max importance\n",
    "feature_importance = 100.0 * (feature_importance / feature_importance.max())\n",
    "sorted_idx = np.argsort(feature_importance)\n",
    "pos = np.arange(sorted_idx.shape[0]) + .5\n",
    "plt.subplot(1, 2, 2)\n",
    "plt.barh(pos, feature_importance[sorted_idx], align='center')\n",
    "plt.xlabel('Relative Importance')\n",
    "plt.title('Variable Importance')\n",
    "plt.show()"
   ]
  },
  {
   "cell_type": "code",
   "execution_count": 345,
   "metadata": {},
   "outputs": [],
   "source": [
    "# Restructure the predicted results to enable us to illustrate it\n",
    "\n",
    "predicted = pd.Series(clf.predict(x_test))\n",
    "result = pd.DataFrame(predicted)\n",
    "df = pd.concat([result, y_test.reset_index()], ignore_index=True, axis=1)\n",
    "df = df.drop(columns=[1])\n",
    "df = df.rename(columns={0: 'predicted', 2: 'true'})\n",
    "df = df.sort_values('true')\n",
    "df = df.reset_index()\n",
    "df = df.drop(columns=['index'])"
   ]
  },
  {
   "cell_type": "code",
   "execution_count": 349,
   "metadata": {},
   "outputs": [
    {
     "data": {
      "image/png": "[encoded data removed]",
      "text/plain": [
       "<Figure size 576x576 with 1 Axes>"
      ]
     },
     "metadata": {
      "needs_background": "light"
     },
     "output_type": "display_data"
    }
   ],
   "source": [
    "# Let us create an illustration \n",
    "\n",
    "plt.figure(figsize=(8, 8))\n",
    "plt.scatter(df.index, df['predicted'], alpha=0.2)\n",
    "plt.plot(df.index, df['true'], color='red')\n",
    "plt.xlabel('Song hotless')\n",
    "plt.ylabel('Song')\n",
    "plt.title(\"True versus predicted song hotness\")\n",
    "plt.legend()\n",
    "plt.show()"
   ]
  },
  {
   "cell_type": "markdown",
   "metadata": {},
   "source": [
    "The predicted song hotness increase slightly as the true song hotness increase. However, this effect is very weak. The model does not predict any songs above approximately 0.65, while we in the classification section only classified songs with a score above 0.75 as hot. Hence, the regression model have not classified any songs as hot according to our earlier definition."
   ]
  },
  {
   "cell_type": "markdown",
   "metadata": {},
   "source": [
    "## Conclution"
   ]
  },
  {
   "cell_type": "markdown",
   "metadata": {},
   "source": [
    "We have checked if the artist tags can be used to predict a songs hotness. \n",
    "\n",
    "In conclution, we have achieved decent results for classification purposes, but not so decent results for the regressions. \n",
    "\n",
    "When using classification, we divided the songs into 'hot or not' by using a 0.75 treshold. In other words, a model just predicting all songs as 'not' would acheive a successrate of 75 %. Certain of our classification-models have achieved a successrate towards 90 percent, which clearly is better than the baseline. However, it also shows that artist tags by using a model just using artist tags by itself is not enough to get the desired result from a model.\n",
    "\n",
    "When it comes to the regression-models, they did not achieve satisfactory results. We can see that there is a correlation between the songs hotness and the predicted hotness, but this correlation is too weak to be useful."
   ]
  },
  {
   "cell_type": "code",
   "execution_count": null,
   "metadata": {},
   "outputs": [],
   "source": []
  }
 ],
 "metadata": {
  "kernelspec": {
   "display_name": "Python 3",
   "language": "python",
   "name": "python3"
  },
  "language_info": {
   "codemirror_mode": {
    "name": "ipython",
    "version": 3
   },
   "file_extension": ".py",
   "mimetype": "text/x-python",
   "name": "python",
   "nbconvert_exporter": "python",
   "pygments_lexer": "ipython3",
   "version": "3.7.2"
  }
 },
 "nbformat": 4,
 "nbformat_minor": 2
}
