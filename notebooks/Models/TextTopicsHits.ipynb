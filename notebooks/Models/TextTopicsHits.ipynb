{
 "cells": [
  {
   "cell_type": "code",
   "execution_count": 1,
   "metadata": {},
   "outputs": [
    {
     "name": "stderr",
     "output_type": "stream",
     "text": [
      "/home/vyelizarov/anaconda3/envs/109b4/lib/python3.6/site-packages/smart_open/ssh.py:34: UserWarning: paramiko missing, opening SSH/SCP/SFTP paths will be disabled.  `pip install paramiko` to suppress\n",
      "  warnings.warn('paramiko missing, opening SSH/SCP/SFTP paths will be disabled.  `pip install paramiko` to suppress')\n"
     ]
    }
   ],
   "source": [
    "import requests\n",
    "from IPython.core.display import HTML\n",
    "styles = requests.get(\"https://raw.githubusercontent.com/Harvard-IACS/2018-CS109A/master/content/styles/cs109.css\").text\n",
    "HTML(styles)\n",
    "import matplotlib.pyplot as plt\n",
    "import seaborn as sns\n",
    "import numpy as np\n",
    "import pandas as pd\n",
    "import glob\n",
    "import datetime\n",
    "import time\n",
    "import sys\n",
    "import os\n",
    "import tables\n",
    "import io\n",
    "from zipfile import ZipFile\n",
    "from gensim.models.ldamodel import LdaModel\n",
    "import gensim as gensim\n",
    "from sklearn.feature_extraction.text import CountVectorizer\n",
    "from sklearn.metrics import log_loss, accuracy_score\n",
    "from itertools import chain\n"
   ]
  },
  {
   "cell_type": "markdown",
   "metadata": {},
   "source": [
    "*Attempts to group song lyrics into topics and matching hot songs' words back to songs*"
   ]
  },
  {
   "cell_type": "code",
   "execution_count": 2,
   "metadata": {},
   "outputs": [],
   "source": [
    "# Path to the Million Song Dataset subset (uncompressed) - change to the location on your laptop\n",
    "# Cannot store this on github as it is too large\n",
    "msd_subset_path = '../../MSD_data/MillionSongSubset/'\n",
    "\n",
    "# Keep these - folders match the structure of the uncompressed file\n",
    "msd_subset_data_path = os.path.join(msd_subset_path, 'data')\n",
    "msd_subset_addf_path = os.path.join(msd_subset_path, 'AdditionalFiles')"
   ]
  },
  {
   "cell_type": "code",
   "execution_count": 3,
   "metadata": {},
   "outputs": [],
   "source": [
    "# Uses CountVectorizer to extract words from texts\n",
    "def getCntVect(what, stopwords) :\n",
    "    count_vect = CountVectorizer(input='fname',\n",
    "                                 stop_words=stopwords)\n",
    "    dataset = count_vect.fit_transform(what)\n",
    "    return (count_vect, dataset)\n",
    "\n",
    "# Parses MXM file (from MSD website) and returns track - reconstructed song text (obviously, without order)\n",
    "def getText(fname, check_id = None) :\n",
    "    track2i = {}\n",
    "    i = 0\n",
    "    allStr = []\n",
    "    text = []\n",
    "    with ZipFile('../../MSD_data/' + fname + '.zip') as z:\n",
    "        with z.open(fname) as src:\n",
    "            for line in src:\n",
    "                line = line.decode(\"utf-8\")\n",
    "                if line[0] == '#' :\n",
    "                    continue\n",
    "                if line[0] == '%' :\n",
    "                    all_words = line[1:].split(',')\n",
    "                    continue\n",
    "                parts = line.split(',')\n",
    "                trackid = parts[0]\n",
    "                if check_id != None and trackid not in check_id :\n",
    "                    continue\n",
    "                track2i[trackid] = i\n",
    "                i += 1\n",
    "                str = ''\n",
    "                strOnly = set()\n",
    "                for i in range(2, len(parts)) :\n",
    "                    code = parts[i].split(':')\n",
    "                    w = all_words[int(code[0]) - 1]\n",
    "                    strOnly.add(w)\n",
    "                    for j in range(int(code[1])) :\n",
    "                        str += w\n",
    "                        str += ' '\n",
    "                text.append(str)\n",
    "                allStr.append(strOnly)\n",
    "\n",
    "    return (track2i, text, all_words, allStr)\n",
    "\n",
    "(track2i, text, all_words, allStr) = getText('mxm_dataset.txt')"
   ]
  },
  {
   "cell_type": "code",
   "execution_count": 4,
   "metadata": {},
   "outputs": [],
   "source": [
    "# Runs LdaModel on MXM texts\n",
    "def doLda(text) :\n",
    "    (cnt, data) = getCntVect(text, [])\n",
    "    corpus = gensim.matutils.Sparse2Corpus(data, documents_columns=False)\n",
    "    id_map = dict((v, k) for k, v in cnt.vocabulary_.items())\n",
    "    k = 4\n",
    "    model = LdaModel(corpus, num_topics=k, id2word = id_map, passes=10)\n",
    "    top_words = [[word for word,_ in model.show_topic(topicno, topn=50)] for topicno in range(model.num_topics)]\n",
    "    top_betas = [[beta for _,beta in model.show_topic(topicno, topn=50)] for topicno in range(model.num_topics)]\n",
    "    topn = 10\n",
    "    for t in range(k) :\n",
    "        print(\"Topic\", t + 1)\n",
    "        for w, b in zip(top_words[t][:topn], top_betas[t][:topn]) :\n",
    "            print(\"\\t\", w, b)\n",
    "    return (model, corpus, id_map, top_words, top_betas, topn)"
   ]
  },
  {
   "cell_type": "code",
   "execution_count": 5,
   "metadata": {},
   "outputs": [
    {
     "name": "stdout",
     "output_type": "stream",
     "text": [
      "Topic 1\n",
      "\t de 0.022160897\n",
      "\t ich 0.018060055\n",
      "\t du 0.01805798\n",
      "\t la 0.016165841\n",
      "\t je 0.015607751\n",
      "\t und 0.014444811\n",
      "\t le 0.014070877\n",
      "\t na 0.01399028\n",
      "\t et 0.013456377\n",
      "\t les 0.012770066\n",
      "Topic 2\n",
      "\t que 0.04897225\n",
      "\t la 0.043464936\n",
      "\t de 0.03538346\n",
      "\t no 0.031064974\n",
      "\t me 0.024077276\n",
      "\t el 0.022054244\n",
      "\t mi 0.019173343\n",
      "\t te 0.01858312\n",
      "\t en 0.017377324\n",
      "\t se 0.015482152\n",
      "Topic 3\n",
      "\t the 0.084077306\n",
      "\t and 0.03258288\n",
      "\t of 0.024401527\n",
      "\t in 0.023476878\n",
      "\t to 0.0221634\n",
      "\t is 0.015325431\n",
      "\t my 0.013465866\n",
      "\t we 0.012949138\n",
      "\t on 0.012298603\n",
      "\t it 0.009627162\n",
      "Topic 4\n",
      "\t you 0.068860695\n",
      "\t not 0.027703244\n",
      "\t to 0.02769147\n",
      "\t it 0.02625265\n",
      "\t me 0.026121996\n",
      "\t and 0.019990988\n",
      "\t do 0.018758655\n",
      "\t the 0.016844038\n",
      "\t my 0.015072892\n",
      "\t that 0.013839817\n"
     ]
    }
   ],
   "source": [
    "(model, corpus, id_map, top_words, top_betas, topn) = doLda(text)"
   ]
  },
  {
   "cell_type": "code",
   "execution_count": 6,
   "metadata": {},
   "outputs": [],
   "source": [
    "subset_full = pd.read_pickle(msd_subset_path+'subset_full_clean.pkl')"
   ]
  },
  {
   "cell_type": "code",
   "execution_count": 7,
   "metadata": {},
   "outputs": [],
   "source": [
    "# For classification\n",
    "# Simplify by only setting top 25% of song_hotness to be \"hot\" and the rest \"not\"\n",
    "\n",
    "def convert_y_to_categorical(cutoff = 0.75):\n",
    "    threshold = y.quantile(cutoff)\n",
    "    Y = [0 if i < threshold else 1 for i in y]\n",
    "    return np.array(Y)"
   ]
  },
  {
   "cell_type": "code",
   "execution_count": 8,
   "metadata": {},
   "outputs": [],
   "source": [
    "# Do LDA for only hit songs\n",
    "y = subset_full['song_hotttnesss']\n",
    "y = convert_y_to_categorical()\n",
    "track_hit = subset_full[y == 1].track_id\n",
    "tr_hit_set = set()\n",
    "for tr in track_hit :\n",
    "    tr_hit_set.add(tr)\n",
    "(track2iH, textH, all_wordsH, allStrH) = getText('mxm_dataset.txt', tr_hit_set)"
   ]
  },
  {
   "cell_type": "code",
   "execution_count": 9,
   "metadata": {},
   "outputs": [
    {
     "name": "stdout",
     "output_type": "stream",
     "text": [
      "Topic 1\n",
      "\t you 0.051109936\n",
      "\t the 0.03854662\n",
      "\t to 0.026324727\n",
      "\t it 0.025889928\n",
      "\t and 0.02138989\n",
      "\t not 0.018996118\n",
      "\t my 0.018835433\n",
      "\t me 0.018000921\n",
      "\t is 0.015719961\n",
      "\t that 0.012735757\n",
      "Topic 2\n",
      "\t the 0.058687788\n",
      "\t and 0.031193392\n",
      "\t of 0.023487253\n",
      "\t to 0.02131898\n",
      "\t we 0.020014198\n",
      "\t in 0.014852025\n",
      "\t is 0.01413148\n",
      "\t will 0.01336591\n",
      "\t your 0.013263011\n",
      "\t you 0.013147092\n",
      "Topic 3\n",
      "\t it 0.025667327\n",
      "\t me 0.022456665\n",
      "\t you 0.020410355\n",
      "\t the 0.019318076\n",
      "\t and 0.019004613\n",
      "\t my 0.015383999\n",
      "\t oh 0.014782661\n",
      "\t am 0.014333639\n",
      "\t to 0.013418681\n",
      "\t get 0.0132293\n",
      "Topic 4\n",
      "\t que 0.043104775\n",
      "\t la 0.028041458\n",
      "\t de 0.02220759\n",
      "\t me 0.017549973\n",
      "\t no 0.01712435\n",
      "\t en 0.01573908\n",
      "\t el 0.014656312\n",
      "\t tu 0.013585265\n",
      "\t mi 0.013338813\n",
      "\t te 0.012018661\n"
     ]
    }
   ],
   "source": [
    "(modelH, corpusH, id_mapH, top_wordsH, top_betasH, topnH) = doLda(textH)"
   ]
  },
  {
   "cell_type": "code",
   "execution_count": 19,
   "metadata": {},
   "outputs": [
    {
     "name": "stdout",
     "output_type": "stream",
     "text": [
      "Words in hot songs: {'saturday', 'dos', 'parti', 'cada', 'turn', 'nos', 'white', 'ser', 'here', 'tanto', 'see', 'est', 'again', 'whoa', 'tengo', 'ven', 'nah', 'wait', 'togeth', 'start', 'call', 'light', 'freez'}\n"
     ]
    }
   ],
   "source": [
    "# Extract words which are present in topics of hit songs but not all songs\n",
    "allW = set(chain.from_iterable(top_words))\n",
    "hotW = set(chain.from_iterable(top_wordsH))\n",
    "keyWords = hotW - allW\n",
    "print('Words in hot songs:', keyWords)"
   ]
  },
  {
   "cell_type": "code",
   "execution_count": 20,
   "metadata": {},
   "outputs": [],
   "source": [
    "# Make sure subset_full only has tracks we have lyrics for\n",
    "track_ids = subset_full.values[:, 0]\n",
    "for i in range(subset_full.shape[0]) :\n",
    "    track = track_ids[i]\n",
    "    if track not in track2i :\n",
    "        subset_full.drop(subset_full[subset_full.track_id == track].index, inplace=True)"
   ]
  },
  {
   "cell_type": "code",
   "execution_count": 21,
   "metadata": {},
   "outputs": [],
   "source": [
    "# Predict a track to be hit if it contains key words of hit songs\n",
    "y_pred = np.zeros(subset_full.shape[0])\n",
    "track_ids = subset_full.values[:, 0]\n",
    "c = 0\n",
    "for i in range(subset_full.shape[0]) :\n",
    "    track = track_ids[i]\n",
    "    if track in track2i :\n",
    "        j = track2i[track]\n",
    "        for w in keyWords :\n",
    "            if w in allStr[j] :\n",
    "                y_pred[i] = 1\n",
    "    else :\n",
    "        print ('track not found', track)\n",
    "        c += 1"
   ]
  },
  {
   "cell_type": "code",
   "execution_count": 22,
   "metadata": {},
   "outputs": [],
   "source": [
    "y = subset_full['song_hotttnesss']\n",
    "y = convert_y_to_categorical()"
   ]
  },
  {
   "cell_type": "code",
   "execution_count": 23,
   "metadata": {},
   "outputs": [],
   "source": [
    "# Check that nothing is skipped - set was already cleaned \n",
    "assert c == 0"
   ]
  },
  {
   "cell_type": "code",
   "execution_count": 24,
   "metadata": {},
   "outputs": [
    {
     "name": "stdout",
     "output_type": "stream",
     "text": [
      "Accuracy 0.42206235011990406\n"
     ]
    }
   ],
   "source": [
    "print('Accuracy', accuracy_score(y, y_pred))"
   ]
  },
  {
   "cell_type": "markdown",
   "metadata": {},
   "source": [
    "*42% accuracy - not bad!*"
   ]
  }
 ],
 "metadata": {
  "kernelspec": {
   "display_name": "Python 3",
   "language": "python",
   "name": "python3"
  },
  "language_info": {
   "codemirror_mode": {
    "name": "ipython",
    "version": 3
   },
   "file_extension": ".py",
   "mimetype": "text/x-python",
   "name": "python",
   "nbconvert_exporter": "python",
   "pygments_lexer": "ipython3",
   "version": "3.6.8"
  }
 },
 "nbformat": 4,
 "nbformat_minor": 2
}
