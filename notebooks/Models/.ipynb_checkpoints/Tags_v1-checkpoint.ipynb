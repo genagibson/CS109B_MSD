{
 "cells": [
  {
   "cell_type": "markdown",
   "metadata": {},
   "source": [
    "## Overview"
   ]
  },
  {
   "cell_type": "code",
   "execution_count": null,
   "metadata": {},
   "outputs": [],
   "source": []
  },
  {
   "cell_type": "markdown",
   "metadata": {},
   "source": [
    "### Preparation"
   ]
  },
  {
   "cell_type": "code",
   "execution_count": 98,
   "metadata": {},
   "outputs": [
    {
     "data": {
      "text/html": [
       "<style>\n",
       "blockquote { background: #AEDE94; }\n",
       "h1 { \n",
       "    padding-top: 25px;\n",
       "    padding-bottom: 25px;\n",
       "    text-align: left; \n",
       "    padding-left: 10px;\n",
       "    background-color: #DDDDDD; \n",
       "    color: black;\n",
       "}\n",
       "h2 { \n",
       "    padding-top: 10px;\n",
       "    padding-bottom: 10px;\n",
       "    text-align: left; \n",
       "    padding-left: 5px;\n",
       "    background-color: #EEEEEE; \n",
       "    color: black;\n",
       "}\n",
       "\n",
       "div.exercise {\n",
       "\tbackground-color: #ffcccc;\n",
       "\tborder-color: #E9967A; \t\n",
       "\tborder-left: 5px solid #800080; \n",
       "\tpadding: 0.5em;\n",
       "}\n",
       "\n",
       "span.sub-q {\n",
       "\tfont-weight: bold;\n",
       "}\n",
       "div.theme {\n",
       "\tbackground-color: #DDDDDD;\n",
       "\tborder-color: #E9967A; \t\n",
       "\tborder-left: 5px solid #800080; \n",
       "\tpadding: 0.5em;\n",
       "\tfont-size: 18pt;\n",
       "}\n",
       "div.gc { \n",
       "\tbackground-color: #AEDE94;\n",
       "\tborder-color: #E9967A; \t \n",
       "\tborder-left: 5px solid #800080; \n",
       "\tpadding: 0.5em;\n",
       "\tfont-size: 12pt;\n",
       "}\n",
       "p.q1 { \n",
       "    padding-top: 5px;\n",
       "    padding-bottom: 5px;\n",
       "    text-align: left; \n",
       "    padding-left: 5px;\n",
       "    background-color: #EEEEEE; \n",
       "    color: black;\n",
       "}\n",
       "header {\n",
       "   padding-top: 35px;\n",
       "    padding-bottom: 35px;\n",
       "    text-align: left; \n",
       "    padding-left: 10px;\n",
       "    background-color: #DDDDDD; \n",
       "    color: black;\n",
       "}\n",
       "</style>\n",
       "\n"
      ],
      "text/plain": [
       "<IPython.core.display.HTML object>"
      ]
     },
     "execution_count": 98,
     "metadata": {},
     "output_type": "execute_result"
    }
   ],
   "source": [
    "import requests\n",
    "from IPython.core.display import HTML\n",
    "styles = requests.get(\"https://raw.githubusercontent.com/Harvard-IACS/2018-CS109A/master/content/styles/cs109.css\").text\n",
    "HTML(styles)"
   ]
  },
  {
   "cell_type": "code",
   "execution_count": 116,
   "metadata": {},
   "outputs": [],
   "source": [
    "import numpy as np\n",
    "import pandas as pd\n",
    "import re\n",
    "import operator\n",
    "import matplotlib.pyplot as plt\n",
    "from functools import reduce\n",
    "from collections import Counter\n",
    "\n",
    "from nltk.stem import PorterStemmer\n",
    "from nltk.tokenize import sent_tokenize, word_tokenize\n",
    "\n",
    "from sklearn.preprocessing import LabelEncoder\n",
    "from sklearn.preprocessing import OneHotEncoder\n",
    "from sklearn.preprocessing import MultiLabelBinarizer\n",
    "from sklearn.preprocessing import StandardScaler\n",
    "\n",
    "from sklearn.model_selection import cross_val_score\n",
    "from sklearn.model_selection import learning_curve\n",
    "from sklearn.model_selection import ShuffleSplit\n",
    "from sklearn.model_selection import train_test_split\n",
    "from sklearn.model_selection import learning_curve\n",
    "from sklearn.model_selection import StratifiedKFold\n",
    "\n",
    "from sklearn.feature_selection import VarianceThreshold\n",
    "from sklearn.decomposition import PCA\n",
    "from sklearn.naive_bayes import GaussianNB\n",
    "from sklearn.svm import SVC\n",
    "from sklearn.neural_network import MLPClassifier\n",
    "from sklearn.neighbors import KNeighborsClassifier\n",
    "from sklearn.gaussian_process import GaussianProcessClassifier\n",
    "from sklearn.gaussian_process.kernels import RBF\n",
    "from sklearn.tree import DecisionTreeClassifier\n",
    "from sklearn.ensemble import RandomForestClassifier, AdaBoostClassifier\n",
    "from sklearn.discriminant_analysis import QuadraticDiscriminantAnalysis\n",
    "from sklearn.pipeline import Pipeline\n",
    "\n",
    "from keras.models import Sequential\n",
    "from keras.layers import Dense\n",
    "from keras.wrappers.scikit_learn import KerasClassifier"
   ]
  },
  {
   "cell_type": "code",
   "execution_count": 2,
   "metadata": {},
   "outputs": [
    {
     "data": {
      "text/html": [
       "<style>.container { width:100% !important; }</style>"
      ],
      "text/plain": [
       "<IPython.core.display.HTML object>"
      ]
     },
     "metadata": {},
     "output_type": "display_data"
    }
   ],
   "source": [
    "#Increase notebook to take the full width of the screen\n",
    "\n",
    "from IPython.core.display import display, HTML\n",
    "display(HTML(\"<style>.container { width:100% !important; }</style>\"))"
   ]
  },
  {
   "cell_type": "markdown",
   "metadata": {},
   "source": [
    "### Load dataset"
   ]
  },
  {
   "cell_type": "code",
   "execution_count": 3,
   "metadata": {},
   "outputs": [
    {
     "name": "stdout",
     "output_type": "stream",
     "text": [
      "Number of songs missing \"song hotness\": 43.5%\n",
      "(10000, 54)\n"
     ]
    }
   ],
   "source": [
    "# Load the selected dataset, and check for missing 'song hotness'\n",
    "\n",
    "subset_full = pd.read_csv('subset_full.csv')\n",
    "subset_full = subset_full.drop(columns=['Unnamed: 0'])\n",
    "missing = subset_full['song_hotttnesss'].isna().sum() / len(subset_full)*100\n",
    "print('Number of songs missing \"song hotness\": {}%'.format(np.around(missing, 1)))\n",
    "print(subset_full.shape)"
   ]
  },
  {
   "cell_type": "code",
   "execution_count": 4,
   "metadata": {},
   "outputs": [
    {
     "name": "stdout",
     "output_type": "stream",
     "text": [
      "Number of songs missing \"song hotness\": 0.0%\n",
      "(5648, 54)\n"
     ]
    }
   ],
   "source": [
    "# Select only the data with song_hotness, and confirm\n",
    "\n",
    "subset_full = subset_full.dropna(subset = ['song_hotttnesss'])\n",
    "missing = subset_full['song_hotttnesss'].isna().sum() / len(subset_full)*100\n",
    "print('Number of songs missing \"song hotness\": {}%'.format(np.around(missing, 1)))\n",
    "print(subset_full.shape)"
   ]
  },
  {
   "cell_type": "code",
   "execution_count": 5,
   "metadata": {},
   "outputs": [
    {
     "data": {
      "text/plain": [
       "(5648, 54)"
      ]
     },
     "execution_count": 5,
     "metadata": {},
     "output_type": "execute_result"
    }
   ],
   "source": [
    "# Select only the data artist terms, as this is what will be used in this notebook\n",
    "\n",
    "subset_full = subset_full.dropna(subset = ['artist_terms'])\n",
    "subset_full.shape"
   ]
  },
  {
   "cell_type": "code",
   "execution_count": 7,
   "metadata": {},
   "outputs": [],
   "source": [
    "# Remove the columns that are not related to this. Most are covered in other notebooks\n",
    "\n",
    "tagrelated_columns = ['song_hotttnesss','track_id', 'artist_terms', 'artist_terms_freq', 'artist_terms_weight']\n",
    "data = subset_full[tagrelated_columns]\n",
    "data = data.reset_index().drop(columns=['index'])\n",
    "\n",
    "# Start process of splitting up terms\n",
    "data['artist_terms'] = data['artist_terms'].str.split('\\'')\n",
    "data['artist_terms'] = data['artist_terms'].str[1:]"
   ]
  },
  {
   "cell_type": "code",
   "execution_count": 8,
   "metadata": {},
   "outputs": [
    {
     "data": {
      "text/html": [
       "<div>\n",
       "<style scoped>\n",
       "    .dataframe tbody tr th:only-of-type {\n",
       "        vertical-align: middle;\n",
       "    }\n",
       "\n",
       "    .dataframe tbody tr th {\n",
       "        vertical-align: top;\n",
       "    }\n",
       "\n",
       "    .dataframe thead th {\n",
       "        text-align: right;\n",
       "    }\n",
       "</style>\n",
       "<table border=\"1\" class=\"dataframe\">\n",
       "  <thead>\n",
       "    <tr style=\"text-align: right;\">\n",
       "      <th></th>\n",
       "      <th>song_hotttnesss</th>\n",
       "      <th>track_id</th>\n",
       "      <th>artist_terms</th>\n",
       "      <th>artist_terms_freq</th>\n",
       "      <th>artist_terms_weight</th>\n",
       "    </tr>\n",
       "  </thead>\n",
       "  <tbody>\n",
       "    <tr>\n",
       "      <th>0</th>\n",
       "      <td>0.602120</td>\n",
       "      <td>TRAAAAW128F429D538</td>\n",
       "      <td>[hip hop,  , underground rap,  , g funk,  , al...</td>\n",
       "      <td>[1.         0.77613623 0.72966979 0.68301072 0...</td>\n",
       "      <td>[1.         0.89793596 0.88426185 0.84262975 0...</td>\n",
       "    </tr>\n",
       "    <tr>\n",
       "      <th>1</th>\n",
       "      <td>0.604501</td>\n",
       "      <td>TRAAAFD128F92F423A</td>\n",
       "      <td>[pop punk,  , ska punk,  , breakcore,  , alter...</td>\n",
       "      <td>[0.8872883  0.79020373 0.79020373 0.79020373 0...</td>\n",
       "      <td>[1.         0.96090574 0.95923662 0.94674975 0...</td>\n",
       "    </tr>\n",
       "    <tr>\n",
       "      <th>2</th>\n",
       "      <td>0.265861</td>\n",
       "      <td>TRAAARJ128F9320760</td>\n",
       "      <td>[new wave,  , progressive rock,  , space rock,...</td>\n",
       "      <td>[0.95976625 0.97039005 0.82199342 0.82199342 0...</td>\n",
       "      <td>[1.         0.98696192 0.98306453 0.96580916 0...</td>\n",
       "    </tr>\n",
       "    <tr>\n",
       "      <th>3</th>\n",
       "      <td>0.000000</td>\n",
       "      <td>TRAAAVO128F93133D4</td>\n",
       "      <td>[alternative rock,  , indie rock,  , rock,  , ...</td>\n",
       "      <td>[0.95608075 0.92130641 1.         0.68760239 0...</td>\n",
       "      <td>[1.         0.95787086 0.95089056 0.93066094 0...</td>\n",
       "    </tr>\n",
       "    <tr>\n",
       "      <th>4</th>\n",
       "      <td>0.265861</td>\n",
       "      <td>TRAABCL128F4286650</td>\n",
       "      <td>[ccm,  , religious music,  , los angeles,  , c...</td>\n",
       "      <td>[1.         0.87337884 0.82439509 0.82439509 0...</td>\n",
       "      <td>[1.         0.90446866 0.86751209 0.84218695 0...</td>\n",
       "    </tr>\n",
       "  </tbody>\n",
       "</table>\n",
       "</div>"
      ],
      "text/plain": [
       "   song_hotttnesss            track_id  \\\n",
       "0         0.602120  TRAAAAW128F429D538   \n",
       "1         0.604501  TRAAAFD128F92F423A   \n",
       "2         0.265861  TRAAARJ128F9320760   \n",
       "3         0.000000  TRAAAVO128F93133D4   \n",
       "4         0.265861  TRAABCL128F4286650   \n",
       "\n",
       "                                        artist_terms  \\\n",
       "0  [hip hop,  , underground rap,  , g funk,  , al...   \n",
       "1  [pop punk,  , ska punk,  , breakcore,  , alter...   \n",
       "2  [new wave,  , progressive rock,  , space rock,...   \n",
       "3  [alternative rock,  , indie rock,  , rock,  , ...   \n",
       "4  [ccm,  , religious music,  , los angeles,  , c...   \n",
       "\n",
       "                                   artist_terms_freq  \\\n",
       "0  [1.         0.77613623 0.72966979 0.68301072 0...   \n",
       "1  [0.8872883  0.79020373 0.79020373 0.79020373 0...   \n",
       "2  [0.95976625 0.97039005 0.82199342 0.82199342 0...   \n",
       "3  [0.95608075 0.92130641 1.         0.68760239 0...   \n",
       "4  [1.         0.87337884 0.82439509 0.82439509 0...   \n",
       "\n",
       "                                 artist_terms_weight  \n",
       "0  [1.         0.89793596 0.88426185 0.84262975 0...  \n",
       "1  [1.         0.96090574 0.95923662 0.94674975 0...  \n",
       "2  [1.         0.98696192 0.98306453 0.96580916 0...  \n",
       "3  [1.         0.95787086 0.95089056 0.93066094 0...  \n",
       "4  [1.         0.90446866 0.86751209 0.84218695 0...  "
      ]
     },
     "execution_count": 8,
     "metadata": {},
     "output_type": "execute_result"
    }
   ],
   "source": [
    "# Confirm data\n",
    "\n",
    "data.head()"
   ]
  },
  {
   "cell_type": "code",
   "execution_count": 9,
   "metadata": {},
   "outputs": [],
   "source": [
    "# Split the artist terms into separate keywords, as well as create list of all possible keywords\n",
    "\n",
    "data['terms_count'] = 0\n",
    "data = data.astype('object')\n",
    "all_terms = []\n",
    "\n",
    "for i,x in enumerate(data.iterrows()):\n",
    "    data['artist_terms'].astype(object)\n",
    "    temp = []\n",
    "    for y in x[1][2]:\n",
    "        if re.search('[a-zA-Z]', y):\n",
    "            temp.append(y)\n",
    "    data.loc[i,'artist_terms'] = temp\n",
    "    data.loc[i,'terms_count'] = len(temp)\n",
    "    all_terms.append(temp)"
   ]
  },
  {
   "cell_type": "code",
   "execution_count": 11,
   "metadata": {},
   "outputs": [],
   "source": [
    "# Each song has a separate list within a list of its terms\n",
    "# Create one large list of all possible terms \n",
    "\n",
    "flat_all_terms = reduce(operator.concat, all_terms)"
   ]
  },
  {
   "cell_type": "code",
   "execution_count": 99,
   "metadata": {},
   "outputs": [
    {
     "name": "stdout",
     "output_type": "stream",
     "text": [
      "There are a total of 3100 different artist terms used in the dataset\n"
     ]
    }
   ],
   "source": [
    "# Create a counter of how many times each term is used\n",
    "\n",
    "count_all_terms = Counter(flat_all_terms)\n",
    "print(\"There are a total of {} different artist terms used in the dataset\".format(len(count_all_terms)))"
   ]
  },
  {
   "cell_type": "markdown",
   "metadata": {},
   "source": [
    "### Select the appropriate number of terms to test for"
   ]
  },
  {
   "cell_type": "markdown",
   "metadata": {},
   "source": [
    "There are a total of 3100 artist terms in use. Some terms are used very rarely, and hence do most likely not add value to our models."
   ]
  },
  {
   "cell_type": "markdown",
   "metadata": {},
   "source": [
    "Let us first look at the distribution of the terms:"
   ]
  },
  {
   "cell_type": "code",
   "execution_count": 14,
   "metadata": {},
   "outputs": [
    {
     "data": {
      "image/png": "[encoded data removed]",
      "text/plain": [
       "<Figure size 432x288 with 1 Axes>"
      ]
     },
     "metadata": {
      "needs_background": "light"
     },
     "output_type": "display_data"
    }
   ],
   "source": [
    "keys = count_all_terms.keys()\n",
    "y_pos = np.arange(len(keys))\n",
    "x_pos = count_all_terms.values()\n",
    "\n",
    "plt.bar(y_pos, x_pos, align='center', alpha=0.4)\n",
    "plt.xlabel('Tags')\n",
    "plt.ylabel('Songs tagged by this label')\n",
    "plt.title('Distribution of tag count')\n",
    "\n",
    "plt.show()"
   ]
  },
  {
   "cell_type": "markdown",
   "metadata": {},
   "source": [
    "There are a number of tags that are used for many songs, while there is a large tail of terms not used very often. \n",
    "\n",
    "Let us limit the terms to the ones used for more than 20 songs, and we will see the distribution looks better:"
   ]
  },
  {
   "cell_type": "code",
   "execution_count": 174,
   "metadata": {},
   "outputs": [
    {
     "ename": "SyntaxError",
     "evalue": "unexpected EOF while parsing (<ipython-input-174-37671e41cd7b>, line 7)",
     "output_type": "error",
     "traceback": [
      "\u001b[0;36m  File \u001b[0;32m\"<ipython-input-174-37671e41cd7b>\"\u001b[0;36m, line \u001b[0;32m7\u001b[0m\n\u001b[0;31m    print(\"There is now {} artist terms\".format(len(count_all_terms))\u001b[0m\n\u001b[0m                                                                     ^\u001b[0m\n\u001b[0;31mSyntaxError\u001b[0m\u001b[0;31m:\u001b[0m unexpected EOF while parsing\n"
     ]
    }
   ],
   "source": [
    "min_threshold = 20\n",
    "\n",
    "for key, cnts in list(count_all_terms.items()):   # list is important here\n",
    "    if cnts < min_threshold:\n",
    "        del count_all_terms[key]\n",
    "        \n",
    "print(\"There is now {} artist terms\".format(len(count_all_terms))"
   ]
  },
  {
   "cell_type": "code",
   "execution_count": 16,
   "metadata": {},
   "outputs": [
    {
     "data": {
      "image/png": "[encoded data removed]",
      "text/plain": [
       "<Figure size 432x288 with 1 Axes>"
      ]
     },
     "metadata": {
      "needs_background": "light"
     },
     "output_type": "display_data"
    }
   ],
   "source": [
    "keys = count_all_terms.keys()\n",
    "y_pos = np.arange(len(keys))\n",
    "x_pos = count_all_terms.values()\n",
    "\n",
    "plt.bar(y_pos, x_pos, align='center', alpha=0.4)\n",
    "plt.xlabel('Tags')\n",
    "plt.ylabel('Songs tagged by this label')\n",
    "plt.title('Distribution of tag count')\n",
    "\n",
    "plt.show()"
   ]
  },
  {
   "cell_type": "markdown",
   "metadata": {},
   "source": [
    "### Stemming\n",
    "\n",
    "To ensure that the artist terms are as common as possible among the different songs, do we implement stemming. \n",
    "\n",
    "Let's build a dictionary of all the artist terms used in more than 20 songs, in stemmed form:"
   ]
  },
  {
   "cell_type": "code",
   "execution_count": 18,
   "metadata": {},
   "outputs": [],
   "source": [
    "ps = PorterStemmer()\n",
    "\n",
    "temp = []\n",
    "stem_dict = {}\n",
    "for w in count_all_terms.keys():\n",
    "    s = ps.stem(w)\n",
    "    temp.append(s)\n",
    "    stem_dict[w] = s"
   ]
  },
  {
   "cell_type": "markdown",
   "metadata": {},
   "source": [
    "We need to put the stemmed forms back into the dataset we are working with:"
   ]
  },
  {
   "cell_type": "code",
   "execution_count": 21,
   "metadata": {},
   "outputs": [],
   "source": [
    "data = data.astype('object')\n",
    "\n",
    "for i,x in enumerate(data.iterrows()):\n",
    "    temp = []\n",
    "    for y in x[1][2]:\n",
    "        if y in stem_dict.keys():\n",
    "            temp.append(stem_dict[y])\n",
    "\n",
    "    data.loc[i,'artist_terms'] = temp"
   ]
  },
  {
   "cell_type": "markdown",
   "metadata": {},
   "source": [
    "And we need to make a one hot encoded version of the dataframe, that is more suitable for the models we want to run: "
   ]
  },
  {
   "cell_type": "code",
   "execution_count": 83,
   "metadata": {},
   "outputs": [],
   "source": [
    "data2 = data.copy()\n",
    "df = pd.DataFrame()\n",
    "mlb = MultiLabelBinarizer()\n",
    "data3 = data.join(pd.DataFrame(mlb.fit_transform(data2.pop('artist_terms')),\n",
    "                          columns=mlb.classes_,\n",
    "                          index=data2.index))\n",
    "data3 = data3.drop(columns=['\\n \"rock ',' \"rock '])"
   ]
  },
  {
   "cell_type": "markdown",
   "metadata": {},
   "source": [
    "Let's split the data into target and predictor sets:"
   ]
  },
  {
   "cell_type": "code",
   "execution_count": 87,
   "metadata": {},
   "outputs": [
    {
     "name": "stderr",
     "output_type": "stream",
     "text": [
      "/usr/share/anaconda3/lib/python3.6/site-packages/sklearn/preprocessing/data.py:645: DataConversionWarning: Data with input dtype int64, object were all converted to float64 by StandardScaler.\n",
      "  return self.partial_fit(X, y)\n",
      "/usr/share/anaconda3/lib/python3.6/site-packages/sklearn/base.py:464: DataConversionWarning: Data with input dtype int64, object were all converted to float64 by StandardScaler.\n",
      "  return self.fit(X, **fit_params).transform(X)\n"
     ]
    }
   ],
   "source": [
    "y = data3['song_hotttnesss']\n",
    "\n",
    "x = data3.drop(columns=['song_hotttnesss','track_id', 'artist_terms_freq', 'artist_terms_weight', 'artist_terms'])\n",
    "\n",
    "x = StandardScaler().fit_transform(x)"
   ]
  },
  {
   "cell_type": "code",
   "execution_count": 89,
   "metadata": {},
   "outputs": [],
   "source": [
    "# Simplify by only setting top 25% of song_hotness to be \"hot\" and the rest \"not\"\n",
    "\n",
    "def convert_y_to_categorical(cutoff = 0.75):\n",
    "    threshold = y.quantile(cutoff)\n",
    "    Y = [0 if i < threshold else 1 for i in y]\n",
    "    return np.array(Y)\n",
    "y = convert_y_to_categorical()\n",
    "y = y.astype('int')\n",
    "\n",
    "print(\"{f} % of the songs are classified as hot, while the rest is not\".format(y.mean()*100))"
   ]
  },
  {
   "cell_type": "code",
   "execution_count": null,
   "metadata": {},
   "outputs": [],
   "source": [
    "# Split into training and test sets\n",
    "\n",
    "x_train, x_test, y_train, y_test = train_test_split(x, y, test_size = 0.1, random_state = 42)\n",
    "x_train.shape, y_train.shape, x_test.shape, y_test.shape"
   ]
  },
  {
   "cell_type": "markdown",
   "metadata": {},
   "source": [
    "### First, let's run a number of standard algoritms and see what we get:"
   ]
  },
  {
   "cell_type": "code",
   "execution_count": 169,
   "metadata": {},
   "outputs": [],
   "source": [
    "names = [\"Nearest Neighbors\", \"Linear SVM\", \"RBF SVM\", \"Gaussian Process\",\n",
    "         \"Decision Tree\", \"Random Forest\", \"Neural Net\", \"AdaBoost\",\n",
    "         \"Naive Bayes\", \"QDA\"]\n",
    "\n",
    "classifiers = [\n",
    "    KNeighborsClassifier(3),\n",
    "    SVC(kernel=\"linear\", C=0.025),\n",
    "    SVC(gamma=2, C=1),\n",
    "    GaussianProcessClassifier(1.0 * RBF(1.0)),\n",
    "    DecisionTreeClassifier(max_depth=5),\n",
    "    RandomForestClassifier(max_depth=5, n_estimators=10, max_features=1),\n",
    "    MLPClassifier(alpha=1),\n",
    "    AdaBoostClassifier(),\n",
    "    GaussianNB(),\n",
    "    QuadraticDiscriminantAnalysis()]"
   ]
  },
  {
   "cell_type": "code",
   "execution_count": 170,
   "metadata": {},
   "outputs": [
    {
     "name": "stdout",
     "output_type": "stream",
     "text": [
      "The test score for the Nearest Neighbors is 0.789381\n",
      "The test score for the Linear SVM is 0.775221\n",
      "The test score for the RBF SVM is 0.803540\n",
      "The test score for the Gaussian Process is 0.800000\n",
      "The test score for the Decision Tree is 0.789381\n",
      "The test score for the Random Forest is 0.757522\n",
      "The test score for the Neural Net is 0.785841\n",
      "The test score for the AdaBoost is 0.784071\n",
      "The test score for the Naive Bayes is 0.527434\n",
      "The test score for the QDA is 0.745133\n"
     ]
    },
    {
     "name": "stderr",
     "output_type": "stream",
     "text": [
      "/usr/share/anaconda3/lib/python3.6/site-packages/sklearn/discriminant_analysis.py:692: UserWarning: Variables are collinear\n",
      "  warnings.warn(\"Variables are collinear\")\n"
     ]
    }
   ],
   "source": [
    "    # iterate over classifiers\n",
    "    for name, clf in zip(names, classifiers):\n",
    "        clf.fit(x_train, y_train)\n",
    "        score = clf.score(x_test, y_test)\n",
    "        print(\"The test score for the {} is {:f}\".format(name, score))"
   ]
  },
  {
   "cell_type": "markdown",
   "metadata": {},
   "source": [
    "### Let us select two of the algoritms above, and run them with cross validation"
   ]
  },
  {
   "cell_type": "code",
   "execution_count": null,
   "metadata": {},
   "outputs": [],
   "source": [
    "def plot_learning_curve(estimator, title, X, y, ylim=None, cv=None,\n",
    "                        n_jobs=None, train_sizes=np.linspace(.1, 1.0, 5)):\n",
    "    \"\"\"\n",
    "    Generate plot of the test and training learning curve.\n",
    "\n",
    "    \"\"\"\n",
    "    plt.figure()\n",
    "    plt.title(title)\n",
    "    if ylim is not None:\n",
    "        plt.ylim(*ylim)\n",
    "    plt.xlabel(\"Training examples\")\n",
    "    plt.ylabel(\"Score\")\n",
    "    train_sizes, train_scores, test_scores = learning_curve(estimator, X, y, cv=cv, n_jobs=n_jobs, train_sizes=train_sizes)\n",
    "    train_scores_mean = np.mean(train_scores, axis=1)\n",
    "    train_scores_std = np.std(train_scores, axis=1)\n",
    "    test_scores_mean = np.mean(test_scores, axis=1)\n",
    "    test_scores_std = np.std(test_scores, axis=1)\n",
    "    plt.grid()\n",
    "\n",
    "    plt.fill_between(train_sizes, train_scores_mean - train_scores_std,\n",
    "                     train_scores_mean + train_scores_std, alpha=0.1,\n",
    "                     color=\"r\")\n",
    "    plt.fill_between(train_sizes, test_scores_mean - test_scores_std,\n",
    "                     test_scores_mean + test_scores_std, alpha=0.1, color=\"g\")\n",
    "    plt.plot(train_sizes, train_scores_mean, 'o-', color=\"r\",\n",
    "             label=\"Training score\")\n",
    "    plt.plot(train_sizes, test_scores_mean, 'o-', color=\"g\",\n",
    "             label=\"Cross-validation score\")\n",
    "\n",
    "    plt.legend(loc=\"best\")\n",
    "    return plt\n",
    "\n",
    "# First model\n",
    "title = \"Learning Curves KNeighborsClassifier K=3\"\n",
    "cv = ShuffleSplit(n_splits=10, test_size=0.2, random_state=0)\n",
    "estimator = KNeighborsClassifier(3)\n",
    "plot_learning_curve(estimator, title, x_train, y_train, ylim=(0.7, 1.01), cv=cv, n_jobs=4)\n",
    "\n",
    "# Second model\n",
    "title = r\"Learning Curves (SVM, RBF kernel, $\\gamma=0.001$)\"\n",
    "cv = ShuffleSplit(n_splits=10, test_size=0.2, random_state=0)\n",
    "estimator = SVC(gamma=0.001)\n",
    "plot_learning_curve(estimator, title, x_train, y_train, (0.7, 1.01), cv=cv, n_jobs=4)\n",
    "\n",
    "plt.show()"
   ]
  },
  {
   "cell_type": "markdown",
   "metadata": {},
   "source": [
    "### Let us then try neural networks, and see if the results may improve"
   ]
  },
  {
   "cell_type": "code",
   "execution_count": 127,
   "metadata": {},
   "outputs": [],
   "source": [
    "# Set random seed for reproducibility\n",
    "\n",
    "seed = 7\n",
    "numpy.random.seed(seed)"
   ]
  },
  {
   "cell_type": "code",
   "execution_count": 132,
   "metadata": {},
   "outputs": [],
   "source": [
    "# Create a baseline model, to see what results we may get\n",
    "\n",
    "def create_baseline():\n",
    "    model = Sequential()\n",
    "    model.add(Dense(817, input_dim=817, kernel_initializer='normal', activation='relu'))\n",
    "    model.add(Dense(1, kernel_initializer='normal', activation='sigmoid'))\n",
    "    model.compile(loss='binary_crossentropy', optimizer='adam', metrics=['accuracy'])\n",
    "    return model"
   ]
  },
  {
   "cell_type": "code",
   "execution_count": 135,
   "metadata": {
    "scrolled": true
   },
   "outputs": [
    {
     "name": "stdout",
     "output_type": "stream",
     "text": [
      "Epoch 1/5\n",
      "3388/3388 [==============================] - 3s 907us/step - loss: 0.6851 - acc: 0.7583\n",
      "Epoch 2/5\n",
      "3388/3388 [==============================] - 2s 736us/step - loss: 0.3755 - acc: 0.8442\n",
      "Epoch 3/5\n",
      "3388/3388 [==============================] - 3s 812us/step - loss: 0.3483 - acc: 0.8536\n",
      "Epoch 4/5\n",
      "3388/3388 [==============================] - 3s 753us/step - loss: 0.3156 - acc: 0.8687\n",
      "Epoch 5/5\n",
      "3388/3388 [==============================] - 2s 736us/step - loss: 0.3186 - acc: 0.8719\n",
      "1695/1695 [==============================] - 1s 380us/step\n",
      "Epoch 1/5\n",
      "3389/3389 [==============================] - 3s 966us/step - loss: 0.6673 - acc: 0.7572\n",
      "Epoch 2/5\n",
      "3389/3389 [==============================] - 3s 760us/step - loss: 0.3709 - acc: 0.8472\n",
      "Epoch 3/5\n",
      "3389/3389 [==============================] - 3s 744us/step - loss: 0.3327 - acc: 0.8687\n",
      "Epoch 4/5\n",
      "3389/3389 [==============================] - 3s 741us/step - loss: 0.3190 - acc: 0.8743\n",
      "Epoch 5/5\n",
      "3389/3389 [==============================] - 3s 779us/step - loss: 0.3058 - acc: 0.8834\n",
      "1694/1694 [==============================] - 1s 422us/step\n",
      "Epoch 1/5\n",
      "3389/3389 [==============================] - 3s 933us/step - loss: 0.6917 - acc: 0.7577\n",
      "Epoch 2/5\n",
      "3389/3389 [==============================] - 3s 741us/step - loss: 0.3793 - acc: 0.8522\n",
      "Epoch 3/5\n",
      "3389/3389 [==============================] - 3s 785us/step - loss: 0.3268 - acc: 0.8696\n",
      "Epoch 4/5\n",
      "3389/3389 [==============================] - 3s 779us/step - loss: 0.3183 - acc: 0.8772\n",
      "Epoch 5/5\n",
      "3389/3389 [==============================] - 3s 739us/step - loss: 0.3158 - acc: 0.8823\n",
      "1694/1694 [==============================] - 1s 405us/step\n",
      "Results: 78.69% (0.25%)\n"
     ]
    }
   ],
   "source": [
    "estimator = KerasClassifier(build_fn=create_baseline, epochs=5, batch_size=5, verbose=1)\n",
    "kfold = StratifiedKFold(n_splits=3, shuffle=True, random_state=seed)\n",
    "results = cross_val_score(estimator, x_train, y_train, cv=kfold)\n",
    "print(\"A mean of %.2f%%  with a standard deviation of %.2f%%\" % (results.mean()*100, results.std()*100))"
   ]
  },
  {
   "cell_type": "code",
   "execution_count": 173,
   "metadata": {
    "scrolled": true
   },
   "outputs": [
    {
     "name": "stdout",
     "output_type": "stream",
     "text": [
      "Epoch 1/5\n",
      "4065/4065 [==============================] - 6s 2ms/step - loss: 0.4690 - acc: 0.7934\n",
      "Epoch 2/5\n",
      "4065/4065 [==============================] - 4s 965us/step - loss: 0.3545 - acc: 0.8399\n",
      "Epoch 3/5\n",
      "4065/4065 [==============================] - 4s 930us/step - loss: 0.3016 - acc: 0.8659\n",
      "Epoch 4/5\n",
      "4065/4065 [==============================] - 4s 1ms/step - loss: 0.2537 - acc: 0.8792\n",
      "Epoch 5/5\n",
      "4065/4065 [==============================] - 4s 931us/step - loss: 0.2339 - acc: 0.8834\n",
      "1018/1018 [==============================] - 1s 1ms/step\n",
      "Epoch 1/5\n",
      "4066/4066 [==============================] - 7s 2ms/step - loss: 0.4722 - acc: 0.7863\n",
      "Epoch 2/5\n",
      "4066/4066 [==============================] - 4s 935us/step - loss: 0.3566 - acc: 0.8433\n",
      "Epoch 3/5\n",
      "4066/4066 [==============================] - 4s 1ms/step - loss: 0.2954 - acc: 0.8556\n",
      "Epoch 4/5\n",
      "4066/4066 [==============================] - 4s 935us/step - loss: 0.2494 - acc: 0.8743\n",
      "Epoch 5/5\n",
      "4066/4066 [==============================] - 4s 968us/step - loss: 0.2484 - acc: 0.8770\n",
      "1017/1017 [==============================] - 2s 2ms/step\n",
      "Epoch 1/5\n",
      "4067/4067 [==============================] - 7s 2ms/step - loss: 0.4633 - acc: 0.7976\n",
      "Epoch 2/5\n",
      "4067/4067 [==============================] - 4s 1ms/step - loss: 0.3527 - acc: 0.8495\n",
      "Epoch 3/5\n",
      "4067/4067 [==============================] - 4s 939us/step - loss: 0.2930 - acc: 0.8660\n",
      "Epoch 4/5\n",
      "4067/4067 [==============================] - 4s 981us/step - loss: 0.2454 - acc: 0.8812\n",
      "Epoch 5/5\n",
      "4067/4067 [==============================] - 4s 962us/step - loss: 0.2242 - acc: 0.8879\n",
      "1016/1016 [==============================] - 2s 2ms/step\n",
      "Epoch 1/5\n",
      "4067/4067 [==============================] - 7s 2ms/step - loss: 0.4706 - acc: 0.7819\n",
      "Epoch 2/5\n",
      "4067/4067 [==============================] - 4s 937us/step - loss: 0.3593 - acc: 0.8402\n",
      "Epoch 3/5\n",
      "4067/4067 [==============================] - 4s 996us/step - loss: 0.3050 - acc: 0.8603\n",
      "Epoch 4/5\n",
      "4067/4067 [==============================] - 4s 950us/step - loss: 0.2587 - acc: 0.8790\n",
      "Epoch 5/5\n",
      "4067/4067 [==============================] - 4s 953us/step - loss: 0.2312 - acc: 0.8881\n",
      "1016/1016 [==============================] - 2s 2ms/step\n",
      "Epoch 1/5\n",
      "4067/4067 [==============================] - 7s 2ms/step - loss: 0.4728 - acc: 0.7898\n",
      "Epoch 2/5\n",
      "4067/4067 [==============================] - 4s 987us/step - loss: 0.3578 - acc: 0.8389\n",
      "Epoch 3/5\n",
      "4067/4067 [==============================] - 4s 940us/step - loss: 0.2972 - acc: 0.8645\n",
      "Epoch 4/5\n",
      "4067/4067 [==============================] - 4s 970us/step - loss: 0.2582 - acc: 0.8790\n",
      "Epoch 5/5\n",
      "4067/4067 [==============================] - 4s 965us/step - loss: 0.2205 - acc: 0.8849\n",
      "1016/1016 [==============================] - 2s 2ms/step\n",
      "Larger: 80.86% (0.67%)\n"
     ]
    }
   ],
   "source": [
    "# Create a larger model, to see if the results may be improved\n",
    "def create_larger():\n",
    "    model = Sequential()\n",
    "    model.add(Dense(817, input_dim=817, kernel_initializer='normal', activation='relu'))\n",
    "    model.add(Dense(30, kernel_initializer='normal', activation='relu'))\n",
    "    model.add(Dense(1, kernel_initializer='normal', activation='sigmoid'))\n",
    "    model.compile(loss='binary_crossentropy', optimizer='adam', metrics=['accuracy'])\n",
    "    return model\n",
    "\n",
    "estimators = []\n",
    "estimators.append(('standardize', StandardScaler()))\n",
    "estimators.append(('mlp', KerasClassifier(build_fn=create_larger, epochs=5, batch_size=5, verbose=1)))\n",
    "pipeline = Pipeline(estimators)\n",
    "kfold = StratifiedKFold(n_splits=5, shuffle=True, random_state=seed)\n",
    "results = cross_val_score(pipeline, x_train, y_train, cv=kfold)\n",
    "print(\"A mean of %.2f%% with a standard deviation of %.2f%%\" % (results.mean()*100, results.std()*100))"
   ]
  },
  {
   "cell_type": "code",
   "execution_count": 112,
   "metadata": {},
   "outputs": [
    {
     "data": {
      "text/plain": [
       "array([1.84716069e-02, 1.69379378e-02, 1.40786195e-02, 1.25247096e-02,\n",
       "       1.14755055e-02, 1.09660247e-02, 1.02795156e-02, 9.79184911e-03,\n",
       "       9.32172346e-03, 8.73483903e-03, 8.64407461e-03, 8.11433684e-03,\n",
       "       7.93920779e-03, 7.31021595e-03, 6.73987394e-03, 6.47597308e-03,\n",
       "       6.35716144e-03, 6.03926868e-03, 5.90004375e-03, 5.63005024e-03,\n",
       "       5.53725476e-03, 5.37664193e-03, 5.25525215e-03, 5.11773403e-03,\n",
       "       4.99395700e-03, 4.80611703e-03, 4.65717311e-03, 4.58715515e-03,\n",
       "       4.50668433e-03, 4.47027163e-03, 4.35667994e-03, 4.28022655e-03,\n",
       "       4.22711016e-03, 4.13766739e-03, 4.11218718e-03, 4.07629848e-03,\n",
       "       4.04605809e-03, 4.02367365e-03, 3.90787868e-03, 3.83413190e-03,\n",
       "       3.76987085e-03, 3.69299147e-03, 3.66211595e-03, 3.62328013e-03,\n",
       "       3.55356701e-03, 3.52369251e-03, 3.46178468e-03, 3.42783351e-03,\n",
       "       3.39920096e-03, 3.36663555e-03, 3.32711477e-03, 3.31326796e-03,\n",
       "       3.29467194e-03, 3.25125342e-03, 3.21680849e-03, 3.18997719e-03,\n",
       "       3.16322153e-03, 3.11595723e-03, 3.08607377e-03, 3.06107919e-03,\n",
       "       3.03863214e-03, 3.02658762e-03, 2.97860418e-03, 2.96343251e-03,\n",
       "       2.92358292e-03, 2.90163002e-03, 2.87734012e-03, 2.84743741e-03,\n",
       "       2.79989628e-03, 2.78397990e-03, 2.78006652e-03, 2.75564301e-03,\n",
       "       2.73765932e-03, 2.71568866e-03, 2.69213169e-03, 2.68147672e-03,\n",
       "       2.65388418e-03, 2.64273253e-03, 2.63243484e-03, 2.60464542e-03,\n",
       "       2.58318715e-03, 2.55723655e-03, 2.54020389e-03, 2.53214591e-03,\n",
       "       2.52371982e-03, 2.51398423e-03, 2.48531157e-03, 2.45749588e-03,\n",
       "       2.44467583e-03, 2.43710957e-03, 2.41778925e-03, 2.40386761e-03,\n",
       "       2.39237725e-03, 2.37927205e-03, 2.37294491e-03, 2.35816039e-03,\n",
       "       2.33957532e-03, 2.32746391e-03, 2.31252140e-03, 2.30960399e-03,\n",
       "       2.29041429e-03, 2.27416990e-03, 2.26742683e-03, 2.24695607e-03,\n",
       "       2.23473665e-03, 2.21353688e-03, 2.21150641e-03, 2.19090031e-03,\n",
       "       2.17902350e-03, 2.16976728e-03, 2.16135658e-03, 2.14967664e-03,\n",
       "       2.14524866e-03, 2.13505993e-03, 2.12931716e-03, 2.11590645e-03,\n",
       "       2.11045093e-03, 2.09011539e-03, 2.08474873e-03, 2.06398073e-03,\n",
       "       2.05881854e-03, 2.04567674e-03, 2.03832155e-03, 2.03679885e-03,\n",
       "       2.03198526e-03, 2.01208545e-03, 2.00281749e-03, 1.99756448e-03,\n",
       "       1.98300255e-03, 1.97222760e-03, 1.97069574e-03, 1.95740080e-03,\n",
       "       1.94645469e-03, 1.94056494e-03, 1.93350320e-03, 1.92888905e-03,\n",
       "       1.92328281e-03, 1.91534594e-03, 1.89421886e-03, 1.88369044e-03,\n",
       "       1.87466415e-03, 1.86525367e-03, 1.85727730e-03, 1.85280598e-03,\n",
       "       1.84835102e-03, 1.83887201e-03, 1.83302761e-03, 1.82411498e-03,\n",
       "       1.81467821e-03, 1.80025120e-03, 1.80023276e-03, 1.79852361e-03,\n",
       "       1.78509414e-03, 1.78089253e-03, 1.77483567e-03, 1.76479402e-03,\n",
       "       1.75982948e-03, 1.75627044e-03, 1.73625423e-03, 1.73328025e-03,\n",
       "       1.72766735e-03, 1.72228687e-03, 1.71932538e-03, 1.71300872e-03,\n",
       "       1.70525752e-03, 1.69700762e-03, 1.69069830e-03, 1.68346656e-03,\n",
       "       1.67938381e-03, 1.66838924e-03, 1.66324832e-03, 1.65636101e-03,\n",
       "       1.64435249e-03, 1.63786452e-03, 1.63065418e-03, 1.62500745e-03,\n",
       "       1.61626502e-03, 1.61368909e-03, 1.60770154e-03, 1.60080157e-03,\n",
       "       1.59269585e-03, 1.58961001e-03, 1.57323698e-03, 1.57155497e-03,\n",
       "       1.56677910e-03, 1.56217809e-03, 1.55354003e-03, 1.54545845e-03,\n",
       "       1.54169505e-03, 1.53800905e-03, 1.53215401e-03, 1.52601997e-03,\n",
       "       1.52050830e-03, 1.51492288e-03, 1.50986419e-03, 1.50089998e-03,\n",
       "       1.49538631e-03, 1.48470819e-03, 1.48441692e-03, 1.47843226e-03,\n",
       "       1.47369566e-03, 1.46385400e-03, 1.46134561e-03, 1.44896294e-03,\n",
       "       1.44717859e-03, 1.44368077e-03, 1.43742741e-03, 1.43175727e-03,\n",
       "       1.42826911e-03, 1.42059072e-03, 1.41649053e-03, 1.41316026e-03,\n",
       "       1.41089492e-03, 1.40362810e-03, 1.39806768e-03, 1.38488899e-03,\n",
       "       1.38448667e-03, 1.37661168e-03, 1.36777222e-03, 1.36712032e-03,\n",
       "       1.36286020e-03, 1.35643008e-03, 1.35489097e-03, 1.35147799e-03,\n",
       "       1.34411858e-03, 1.34066527e-03, 1.33632801e-03, 1.33168575e-03,\n",
       "       1.32646601e-03, 1.32022966e-03, 1.31272822e-03, 1.30884655e-03,\n",
       "       1.30187602e-03, 1.30050125e-03, 1.29514796e-03, 1.29079172e-03,\n",
       "       1.28394191e-03, 1.27937332e-03, 1.27643798e-03, 1.27256048e-03,\n",
       "       1.26481843e-03, 1.26140836e-03, 1.25731504e-03, 1.25418564e-03,\n",
       "       1.25199589e-03, 1.24746536e-03, 1.24004820e-03, 1.23613774e-03,\n",
       "       1.23456304e-03, 1.23175482e-03, 1.22874767e-03, 1.22625866e-03,\n",
       "       1.22339024e-03, 1.21562730e-03, 1.20980679e-03, 1.20840598e-03,\n",
       "       1.20428686e-03, 1.19712909e-03, 1.19530368e-03, 1.18909560e-03,\n",
       "       1.18373743e-03, 1.18201189e-03, 1.17611263e-03, 1.17050946e-03,\n",
       "       1.16482731e-03, 1.15829466e-03, 1.15762854e-03, 1.15410546e-03,\n",
       "       1.15151315e-03, 1.14266617e-03, 1.13847520e-03, 1.13823816e-03,\n",
       "       1.13435550e-03, 1.12979962e-03, 1.12750720e-03, 1.12322087e-03,\n",
       "       1.11885383e-03, 1.11636500e-03, 1.11245716e-03, 1.10644796e-03,\n",
       "       1.10350175e-03, 1.09410627e-03, 1.09101600e-03, 1.08666778e-03,\n",
       "       1.08532545e-03, 1.07685841e-03, 1.07564232e-03, 1.07326051e-03,\n",
       "       1.07021483e-03, 1.06836614e-03, 1.06335152e-03, 1.05707089e-03,\n",
       "       1.05229744e-03, 1.05122043e-03, 1.04860373e-03, 1.04330679e-03,\n",
       "       1.03920936e-03, 1.03609311e-03, 1.03574539e-03, 1.03029346e-03,\n",
       "       1.02862111e-03, 1.02482298e-03, 1.02399727e-03, 1.01916652e-03,\n",
       "       1.01559924e-03, 1.00878422e-03, 1.00642031e-03, 1.00404429e-03,\n",
       "       9.98429980e-04, 9.95889302e-04, 9.91556222e-04, 9.90221789e-04,\n",
       "       9.88771245e-04, 9.83647826e-04, 9.79655844e-04, 9.77478331e-04,\n",
       "       9.75107028e-04, 9.74035023e-04, 9.65848043e-04, 9.63715366e-04,\n",
       "       9.59422415e-04, 9.56387062e-04, 9.54815172e-04, 9.53160322e-04,\n",
       "       9.47994179e-04, 9.45284033e-04, 9.43072489e-04, 9.41432710e-04,\n",
       "       9.34628032e-04, 9.32432227e-04, 9.29960088e-04, 9.29173423e-04,\n",
       "       9.23487465e-04, 9.18222802e-04, 9.12481238e-04, 9.10288578e-04,\n",
       "       9.09539904e-04, 9.02539763e-04, 8.97939747e-04, 8.96493122e-04,\n",
       "       8.94049938e-04, 8.92703439e-04, 8.89860303e-04, 8.86677839e-04,\n",
       "       8.84322786e-04, 8.83378464e-04, 8.76277453e-04, 8.72960630e-04,\n",
       "       8.69254181e-04, 8.67226853e-04, 8.64336897e-04, 8.60110262e-04,\n",
       "       8.58302412e-04, 8.51332912e-04, 8.49198326e-04, 8.47618330e-04,\n",
       "       8.44585128e-04, 8.42158185e-04, 8.40510193e-04, 8.37754523e-04,\n",
       "       8.35318806e-04, 8.33757936e-04, 8.28000265e-04, 8.26114221e-04,\n",
       "       8.22554770e-04, 8.18035532e-04, 8.16332366e-04, 8.15920932e-04,\n",
       "       8.13370868e-04, 8.10406745e-04, 8.09996058e-04, 8.04229490e-04,\n",
       "       8.01449390e-04, 8.00121060e-04, 7.94434168e-04, 7.93419074e-04,\n",
       "       7.90204422e-04, 7.89487532e-04, 7.84784733e-04, 7.83218547e-04,\n",
       "       7.80509024e-04, 7.75793677e-04, 7.73180546e-04, 7.71735305e-04,\n",
       "       7.68086248e-04, 7.67542189e-04, 7.65845494e-04, 7.62922561e-04,\n",
       "       7.57866060e-04, 7.54959837e-04, 7.53544867e-04, 7.52447692e-04,\n",
       "       7.49772352e-04, 7.47762854e-04, 7.46774184e-04, 7.43619997e-04,\n",
       "       7.41842937e-04, 7.36302556e-04, 7.31708108e-04, 7.29430369e-04,\n",
       "       7.27235891e-04, 7.24223328e-04, 7.22422976e-04, 7.20414678e-04,\n",
       "       7.18483767e-04, 7.14130308e-04, 7.10225459e-04, 7.09033976e-04,\n",
       "       7.07462537e-04, 7.02925008e-04, 7.01798459e-04, 7.00083676e-04,\n",
       "       6.96224188e-04, 6.94897898e-04, 6.92435797e-04, 6.91498952e-04,\n",
       "       6.90012366e-04, 6.88283105e-04, 6.84648929e-04, 6.83532564e-04,\n",
       "       6.82123197e-04, 6.79649365e-04, 6.77048023e-04, 6.72773191e-04,\n",
       "       6.69714019e-04, 6.66823574e-04, 6.65130766e-04, 6.63161612e-04,\n",
       "       6.59811687e-04, 6.56756110e-04, 6.56715899e-04, 6.55398418e-04,\n",
       "       6.54892350e-04, 6.50789776e-04, 6.47773230e-04, 6.44093214e-04,\n",
       "       6.41724905e-04, 6.40560894e-04, 6.38441387e-04, 6.34558898e-04,\n",
       "       6.31675007e-04, 6.30441428e-04, 6.26749337e-04, 6.25665074e-04,\n",
       "       6.24042883e-04, 6.21020328e-04, 6.20546828e-04, 6.17574720e-04,\n",
       "       6.17075644e-04, 6.15910852e-04, 6.09732985e-04, 6.07937599e-04,\n",
       "       6.07183595e-04, 6.04955963e-04, 6.03916833e-04, 6.00111186e-04,\n",
       "       5.99049947e-04, 5.97202059e-04, 5.95795016e-04, 5.92456414e-04,\n",
       "       5.90467733e-04, 5.88891437e-04, 5.86815361e-04, 5.84364182e-04,\n",
       "       5.81494388e-04, 5.79238307e-04, 5.76213089e-04, 5.75675667e-04,\n",
       "       5.74785888e-04, 5.71039525e-04, 5.70791894e-04, 5.70211616e-04,\n",
       "       5.65787852e-04, 5.65421573e-04, 5.63667365e-04, 5.60774408e-04,\n",
       "       5.57229858e-04, 5.57099515e-04, 5.55775213e-04, 5.53073235e-04,\n",
       "       5.50515992e-04, 5.48670560e-04, 5.45524908e-04, 5.44332787e-04,\n",
       "       5.42467100e-04, 5.41374113e-04, 5.39480157e-04, 5.35558382e-04,\n",
       "       5.33607337e-04, 5.32854708e-04, 5.30754249e-04, 5.29956930e-04,\n",
       "       5.26882286e-04, 5.25485480e-04, 5.23861317e-04, 5.21401627e-04,\n",
       "       5.19680103e-04, 5.17780830e-04, 5.15440899e-04, 5.14285057e-04,\n",
       "       5.13203411e-04, 5.10367105e-04, 5.07560841e-04, 5.06491745e-04,\n",
       "       5.05406939e-04, 5.03981579e-04, 5.02279625e-04, 5.00365244e-04,\n",
       "       4.99636116e-04, 4.98512742e-04, 4.94818618e-04, 4.93041957e-04,\n",
       "       4.92053527e-04, 4.89062791e-04, 4.87459314e-04, 4.84916279e-04,\n",
       "       4.82784545e-04, 4.81590157e-04, 4.80461616e-04, 4.79608106e-04,\n",
       "       4.77467045e-04, 4.75754844e-04, 4.72047779e-04, 4.70010529e-04,\n",
       "       4.67684436e-04, 4.66842714e-04, 4.66533182e-04, 4.62316790e-04,\n",
       "       4.61860718e-04, 4.60439883e-04, 4.59750213e-04, 4.55697963e-04,\n",
       "       4.54185489e-04, 4.53649154e-04, 4.52002309e-04, 4.49745392e-04,\n",
       "       4.49131438e-04, 4.47194835e-04, 4.45243934e-04, 4.44968711e-04,\n",
       "       4.43747105e-04, 4.42502826e-04, 4.39578814e-04, 4.38934626e-04,\n",
       "       4.36754181e-04, 4.35029737e-04, 4.33535935e-04, 4.30950110e-04,\n",
       "       4.30113568e-04, 4.27346323e-04, 4.26304716e-04, 4.23654207e-04,\n",
       "       4.23163513e-04, 4.19329434e-04, 4.18845191e-04, 4.16769471e-04,\n",
       "       4.15460723e-04, 4.13859371e-04, 4.12542153e-04, 4.11888974e-04,\n",
       "       4.10745738e-04, 4.07981527e-04, 4.07283800e-04, 4.05212611e-04,\n",
       "       4.04548169e-04, 4.03749748e-04, 4.02234057e-04, 4.00477056e-04,\n",
       "       3.98977716e-04, 3.98753581e-04, 3.97000971e-04, 3.95273285e-04,\n",
       "       3.93772905e-04, 3.92903419e-04, 3.91424281e-04, 3.88551518e-04,\n",
       "       3.87617791e-04, 3.84676147e-04, 3.83970811e-04, 3.82477759e-04,\n",
       "       3.81671064e-04, 3.79589208e-04, 3.77404658e-04, 3.76793086e-04,\n",
       "       3.75138102e-04, 3.74972346e-04, 3.73338764e-04, 3.72605014e-04,\n",
       "       3.70218140e-04, 3.67810551e-04, 3.67724747e-04, 3.66461725e-04,\n",
       "       3.63461553e-04, 3.61903853e-04, 3.61042724e-04, 3.59478771e-04,\n",
       "       3.58334338e-04, 3.57398591e-04, 3.55680394e-04, 3.53108238e-04,\n",
       "       3.52815775e-04, 3.51739370e-04, 3.50671541e-04, 3.49956141e-04,\n",
       "       3.48203112e-04, 3.46070130e-04, 3.45332001e-04, 3.44754985e-04,\n",
       "       3.42165043e-04, 3.39941148e-04, 3.39822967e-04, 3.39380426e-04,\n",
       "       3.36606425e-04, 3.34704519e-04, 3.33817932e-04, 3.33406315e-04,\n",
       "       3.31869728e-04, 3.30409490e-04, 3.29370683e-04, 3.28393555e-04,\n",
       "       3.26413939e-04, 3.25220788e-04, 3.24504323e-04, 3.22675313e-04,\n",
       "       3.20688537e-04, 3.19612913e-04, 3.18303707e-04, 3.15265107e-04,\n",
       "       3.14778745e-04, 3.14578805e-04, 3.13425933e-04, 3.12194583e-04,\n",
       "       3.09091490e-04, 3.08106543e-04, 3.07644247e-04, 3.06522387e-04,\n",
       "       3.04437535e-04, 3.03778679e-04, 3.02320441e-04, 3.01798794e-04,\n",
       "       3.00531579e-04, 2.98629057e-04, 2.97328090e-04, 2.96923466e-04,\n",
       "       2.95975032e-04, 2.93582871e-04, 2.92792024e-04, 2.91456201e-04,\n",
       "       2.90442393e-04, 2.89828910e-04, 2.87928730e-04, 2.86734305e-04,\n",
       "       2.85913046e-04, 2.83841039e-04, 2.83147513e-04, 2.82290166e-04,\n",
       "       2.81831570e-04, 2.80302067e-04, 2.79280091e-04, 2.76694236e-04,\n",
       "       2.75994226e-04, 2.74805599e-04, 2.74134327e-04, 2.72111268e-04,\n",
       "       2.71279112e-04, 2.69747081e-04, 2.68012307e-04, 2.66495808e-04,\n",
       "       2.65906743e-04, 2.63979734e-04, 2.62417079e-04, 2.61244089e-04,\n",
       "       2.59839671e-04, 2.59099900e-04, 2.58537006e-04, 2.58044945e-04,\n",
       "       2.57470957e-04, 2.55976332e-04, 2.53552442e-04, 2.52375424e-04,\n",
       "       2.50721365e-04, 2.49650312e-04, 2.48497845e-04, 2.48423726e-04,\n",
       "       2.47113778e-04, 2.46149815e-04, 2.44929955e-04, 2.42884885e-04,\n",
       "       2.41878895e-04, 2.40707047e-04, 2.39770792e-04, 2.38793612e-04,\n",
       "       2.38024454e-04, 2.36971481e-04, 2.34732292e-04, 2.34322923e-04,\n",
       "       2.32560511e-04, 2.32000088e-04, 2.31567051e-04, 2.31432752e-04,\n",
       "       2.30437797e-04, 2.28233564e-04, 2.26330453e-04, 2.25232381e-04,\n",
       "       2.23699339e-04, 2.23178563e-04, 2.22086239e-04, 2.21215937e-04,\n",
       "       2.20122950e-04, 2.18912075e-04, 2.17107484e-04, 2.17073886e-04,\n",
       "       2.16786404e-04, 2.15038827e-04, 2.13419743e-04, 2.12700667e-04,\n",
       "       2.11726825e-04, 2.09162976e-04, 2.07803302e-04, 2.06080753e-04,\n",
       "       2.05704254e-04, 2.05410441e-04, 2.02925947e-04, 2.02688895e-04,\n",
       "       2.01293704e-04, 2.00589443e-04, 1.99567158e-04, 1.97749824e-04,\n",
       "       1.95984928e-04, 1.94779486e-04, 1.94267751e-04, 1.92962376e-04,\n",
       "       1.92517161e-04, 1.91520806e-04, 1.90616057e-04, 1.88942528e-04,\n",
       "       1.88419058e-04, 1.87461847e-04, 1.85727286e-04, 1.84573762e-04,\n",
       "       1.83219266e-04, 1.81985057e-04, 1.81733541e-04, 1.79568438e-04,\n",
       "       1.78722923e-04, 1.77220458e-04, 1.76787787e-04, 1.74285141e-04,\n",
       "       1.74105158e-04, 1.73272362e-04, 1.72183102e-04, 1.70542749e-04,\n",
       "       1.69499542e-04, 1.68467312e-04, 1.67445242e-04, 1.66419664e-04,\n",
       "       1.66031080e-04, 1.64638215e-04, 1.62097528e-04, 1.60698006e-04,\n",
       "       1.60343524e-04, 1.59696389e-04, 1.58492594e-04, 1.57182097e-04,\n",
       "       1.56711179e-04, 1.56320942e-04, 1.54399358e-04, 1.53292050e-04,\n",
       "       1.52673777e-04, 1.50082534e-04, 1.48586219e-04, 1.47794430e-04,\n",
       "       1.47109605e-04, 1.45760613e-04, 1.44240851e-04, 1.43418724e-04,\n",
       "       1.42313269e-04, 1.41960411e-04, 1.40867240e-04, 1.39978648e-04,\n",
       "       1.38469714e-04, 1.36452831e-04, 1.35836141e-04, 1.33725137e-04,\n",
       "       1.33047692e-04, 1.32333016e-04, 1.30910484e-04, 1.28650158e-04,\n",
       "       1.27992671e-04, 1.25960657e-04, 1.23695951e-04, 1.22815707e-04,\n",
       "       1.21143346e-04, 1.20560785e-04, 1.20147209e-04, 1.18657155e-04,\n",
       "       1.17084263e-04, 1.16270314e-04, 1.15612438e-04, 1.13034737e-04,\n",
       "       1.09934417e-04, 1.09289110e-04, 1.06462029e-04, 1.06353963e-04,\n",
       "       1.03135496e-04, 1.01598562e-04, 1.00937457e-04, 9.99145963e-05,\n",
       "       9.54510152e-05, 9.37201682e-05, 9.06008258e-05, 6.84247562e-05,\n",
       "       6.80484758e-05, 6.45696299e-05, 6.10681597e-05, 5.76013748e-05,\n",
       "       1.30551521e-05])"
      ]
     },
     "execution_count": 112,
     "metadata": {},
     "output_type": "execute_result"
    }
   ],
   "source": [
    "# Lastly, check PCA if any predictors are very dominating\n",
    "pca_all = PCA()\n",
    "pca_all.fit(x_train)\n",
    "pca_all.explained_variance_ratio_"
   ]
  }
 ],
 "metadata": {
  "kernelspec": {
   "display_name": "Python 3",
   "language": "python",
   "name": "python3"
  },
  "language_info": {
   "codemirror_mode": {
    "name": "ipython",
    "version": 3
   },
   "file_extension": ".py",
   "mimetype": "text/x-python",
   "name": "python",
   "nbconvert_exporter": "python",
   "pygments_lexer": "ipython3",
   "version": "3.7.2"
  }
 },
 "nbformat": 4,
 "nbformat_minor": 2
}
