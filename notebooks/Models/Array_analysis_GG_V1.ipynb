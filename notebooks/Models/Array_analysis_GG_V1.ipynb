{
 "cells": [
  {
   "cell_type": "code",
   "execution_count": 1,
   "metadata": {},
   "outputs": [
    {
     "data": {
      "text/html": [
       "<style>\n",
       "blockquote { background: #AEDE94; }\n",
       "h1 { \n",
       "    padding-top: 25px;\n",
       "    padding-bottom: 25px;\n",
       "    text-align: left; \n",
       "    padding-left: 10px;\n",
       "    background-color: #DDDDDD; \n",
       "    color: black;\n",
       "}\n",
       "h2 { \n",
       "    padding-top: 10px;\n",
       "    padding-bottom: 10px;\n",
       "    text-align: left; \n",
       "    padding-left: 5px;\n",
       "    background-color: #EEEEEE; \n",
       "    color: black;\n",
       "}\n",
       "\n",
       "div.exercise {\n",
       "\tbackground-color: #ffcccc;\n",
       "\tborder-color: #E9967A; \t\n",
       "\tborder-left: 5px solid #800080; \n",
       "\tpadding: 0.5em;\n",
       "}\n",
       "\n",
       "span.sub-q {\n",
       "\tfont-weight: bold;\n",
       "}\n",
       "div.theme {\n",
       "\tbackground-color: #DDDDDD;\n",
       "\tborder-color: #E9967A; \t\n",
       "\tborder-left: 5px solid #800080; \n",
       "\tpadding: 0.5em;\n",
       "\tfont-size: 18pt;\n",
       "}\n",
       "div.gc { \n",
       "\tbackground-color: #AEDE94;\n",
       "\tborder-color: #E9967A; \t \n",
       "\tborder-left: 5px solid #800080; \n",
       "\tpadding: 0.5em;\n",
       "\tfont-size: 12pt;\n",
       "}\n",
       "p.q1 { \n",
       "    padding-top: 5px;\n",
       "    padding-bottom: 5px;\n",
       "    text-align: left; \n",
       "    padding-left: 5px;\n",
       "    background-color: #EEEEEE; \n",
       "    color: black;\n",
       "}\n",
       "header {\n",
       "   padding-top: 35px;\n",
       "    padding-bottom: 35px;\n",
       "    text-align: left; \n",
       "    padding-left: 10px;\n",
       "    background-color: #DDDDDD; \n",
       "    color: black;\n",
       "}\n",
       "</style>\n",
       "\n"
      ],
      "text/plain": [
       "<IPython.core.display.HTML object>"
      ]
     },
     "execution_count": 1,
     "metadata": {},
     "output_type": "execute_result"
    }
   ],
   "source": [
    "import requests\n",
    "from IPython.core.display import HTML\n",
    "styles = requests.get(\"https://raw.githubusercontent.com/Harvard-IACS/2018-CS109A/master/content/styles/cs109.css\").text\n",
    "HTML(styles)"
   ]
  },
  {
   "cell_type": "code",
   "execution_count": 2,
   "metadata": {},
   "outputs": [],
   "source": [
    "import matplotlib.pyplot as plt\n",
    "import seaborn as sns\n",
    "import numpy as np\n",
    "import pandas as pd\n",
    "import glob\n",
    "import datetime\n",
    "import time\n",
    "import sys\n",
    "import os\n",
    "import tables\n",
    "\n",
    "pd.set_option('display.max_columns', None)"
   ]
  },
  {
   "cell_type": "code",
   "execution_count": 3,
   "metadata": {},
   "outputs": [
    {
     "name": "stderr",
     "output_type": "stream",
     "text": [
      "Using TensorFlow backend.\n"
     ]
    },
    {
     "name": "stdout",
     "output_type": "stream",
     "text": [
      "2.2.4\n",
      "1.13.0-rc2\n"
     ]
    }
   ],
   "source": [
    "import keras\n",
    "import tensorflow as tf\n",
    "tf.logging.set_verbosity(tf.logging.ERROR)\n",
    "\n",
    "from sklearn.model_selection import cross_val_score, KFold, train_test_split, StratifiedKFold \n",
    "from sklearn.metrics import classification_report, confusion_matrix, mean_squared_error, accuracy_score\n",
    "from sklearn.preprocessing import StandardScaler\n",
    "\n",
    "from keras.preprocessing.sequence import pad_sequences\n",
    "from keras.utils import to_categorical,np_utils\n",
    "from keras import backend\n",
    "from keras.layers import Bidirectional, concatenate, SpatialDropout1D, GlobalMaxPooling1D\n",
    "\n",
    "from keras.models import Model, Input, Sequential,model_from_json\n",
    "from keras.layers import SimpleRNN, Embedding, Dense, GRU, LSTM, TimeDistributed, GRU, Lambda, \\\n",
    "                         Dropout, Bidirectional, Conv1D, Conv2D, BatchNormalization, Flatten, Activation\n",
    "from keras.optimizers import SGD, Adam, RMSprop\n",
    "from keras.optimizers import *\n",
    "from keras.regularizers import l2\n",
    "from keras.wrappers.scikit_learn import KerasClassifier\n",
    "\n",
    "from keras.layers.convolutional import MaxPooling1D, MaxPooling2D\n",
    "print(keras.__version__)\n",
    "print(tf.__version__)"
   ]
  },
  {
   "cell_type": "markdown",
   "metadata": {},
   "source": [
    "# Overview\n",
    "\n",
    "This notebook extracts the numerical information in arrays (i.e. segment pitch, loudness, timbre) and explored whether it has any predictive power for song hotness. I have looked at the numerical arrays on their own (without using any song metadata or other data) in order to assess whether they should be included in the model or not. \n",
    "\n",
    "The conclusions of this analysis are that the raw data in arrays does not seem to be predictive. However, the lessons learned from designing the network architecture in a way that can ingest the time series of track features could be applied to other features.  "
   ]
  },
  {
   "cell_type": "markdown",
   "metadata": {},
   "source": [
    "# Load all of the subset data\n",
    "\n",
    "This loads the subset_full.pkl obtained by running the EDA notebook."
   ]
  },
  {
   "cell_type": "code",
   "execution_count": 4,
   "metadata": {},
   "outputs": [
    {
     "name": "stdout",
     "output_type": "stream",
     "text": [
      "current dir: /Users/gena/Documents/GitHub/CS109B_MSD/notebooks/EDA\n"
     ]
    }
   ],
   "source": [
    "# Check current working directory\n",
    "cur_dir = os.getcwd()\n",
    "print(\"current dir:\", cur_dir)"
   ]
  },
  {
   "cell_type": "code",
   "execution_count": 5,
   "metadata": {},
   "outputs": [],
   "source": [
    "# Path to the Million Song Dataset subset (uncompressed) - change to the location on your laptop\n",
    "# Cannot store this on github as it is too large\n",
    "msd_subset_path = '../../../MSD_data/MillionSongSubset/'\n",
    "\n",
    "# Keep these - folders match the structure of the uncompressed file\n",
    "msd_subset_data_path = os.path.join(msd_subset_path, 'data')\n",
    "msd_subset_addf_path = os.path.join(msd_subset_path, 'AdditionalFiles')"
   ]
  },
  {
   "cell_type": "code",
   "execution_count": 6,
   "metadata": {},
   "outputs": [],
   "source": [
    "# Load previously saved file (see EDA notebook)\n",
    "subset_full = pd.read_pickle(msd_subset_path+'subset_full.pkl')"
   ]
  },
  {
   "cell_type": "code",
   "execution_count": 7,
   "metadata": {},
   "outputs": [],
   "source": [
    "# Select only the data with song_hotness\n",
    "data = subset_full.dropna(subset = ['song_hotttnesss']).reset_index()"
   ]
  },
  {
   "cell_type": "markdown",
   "metadata": {},
   "source": [
    "As previously noted in the EDA, the segment data has the most detailed information out of all of the arrays - containing not only start times and confidence, but also loudness, pitches and timbre. Therefore, it is this information that is explored further"
   ]
  },
  {
   "cell_type": "code",
   "execution_count": 8,
   "metadata": {},
   "outputs": [],
   "source": [
    "# Identify the columns that have arrays\n",
    "segment_array_list = [\n",
    "                        'segments_confidence',\n",
    "                        'segments_loudness_max',\n",
    "                        'segments_loudness_max_time',\n",
    "                        'segments_loudness_start',\n",
    "                        'segments_pitches',\n",
    "                        'segments_start',\n",
    "                        'segments_timbre',\n",
    "\n",
    "                       ]\n",
    "\n",
    "# Create lookups\n",
    "lookups = dict(enumerate(segment_array_list))\n"
   ]
  },
  {
   "cell_type": "code",
   "execution_count": 9,
   "metadata": {},
   "outputs": [
    {
     "data": {
      "image/png": "[encoded data removed]",
      "text/plain": [
       "<Figure size 432x288 with 1 Axes>"
      ]
     },
     "metadata": {
      "needs_background": "light"
     },
     "output_type": "display_data"
    }
   ],
   "source": [
    "# Check distribution of lengths\n",
    "lengths = [len(i) for i in data['segments_confidence']]\n",
    "plt.hist(lengths, bins = 50)\n",
    "plt.title('Length of segment arrays in the sample');"
   ]
  },
  {
   "cell_type": "markdown",
   "metadata": {},
   "source": [
    "# Creation of cropped arrays for segment data\n",
    "\n",
    "This version of the data contains a 26 dimensional vector for each included segment, consisting of concantenated data in the following order:\n",
    "* loudness at start of segment \n",
    "* maximum loudness in each segment\n",
    "* 12 timbre features \n",
    "* 12 chroma features\n",
    "\n",
    "For eaasier analysis, I have created fixed-length arrays by taking the first 350 segments and excluding tracks that don't have at least this number of segments. This should be sufficient to capture the main parts of each song.\n",
    "\n",
    "Each of the inputs has been scaled using min max scaling."
   ]
  },
  {
   "cell_type": "code",
   "execution_count": 10,
   "metadata": {},
   "outputs": [
    {
     "data": {
      "text/plain": [
       "5648"
      ]
     },
     "execution_count": 10,
     "metadata": {},
     "output_type": "execute_result"
    }
   ],
   "source": [
    "# There are 5648 songs with hotness data\n",
    "len(data)"
   ]
  },
  {
   "cell_type": "code",
   "execution_count": 11,
   "metadata": {},
   "outputs": [],
   "source": [
    "# Function to create the arrays\n",
    "def create_arrays(max_len = 100):\n",
    "    ''' Creates array data for tracks that have at least max_len segments '''\n",
    "    segment_data = []\n",
    "    y = []\n",
    "    for i in range(0, len(data)):\n",
    "        \n",
    "        # Check if array has at least max_len elements - skip if not\n",
    "        if len(data['segments_loudness_start'][i]) < max_len:\n",
    "            pass\n",
    "        else:\n",
    "            # Get the segment arrays\n",
    "            loudness = data['segments_loudness_start'][i][:max_len].reshape(-1, 1)\n",
    "            max_loudness = data['segments_loudness_max'][i][:max_len].reshape(-1, 1)\n",
    "            timbre = data['segments_timbre'][i][:max_len]\n",
    "            pitches = data['segments_pitches'][i][:max_len]\n",
    "            \n",
    "            # Concatenate to make a max_len x 25 array\n",
    "            temp = np.concatenate((loudness, max_loudness, timbre, pitches), axis = 1)\n",
    "            segment_data.append(temp)\n",
    "            \n",
    "            # Get the target variable\n",
    "            y.append(data['song_hotttnesss'][i])\n",
    "            \n",
    "    print('{} tracks converted'.format(len(y)))\n",
    "    return pd.Series(y), np.array(segment_data)            \n",
    "            "
   ]
  },
  {
   "cell_type": "markdown",
   "metadata": {},
   "source": [
    "Choosing a longer length to include means that we drop more tracks since not all of them have sufficient length."
   ]
  },
  {
   "cell_type": "code",
   "execution_count": 12,
   "metadata": {},
   "outputs": [
    {
     "name": "stdout",
     "output_type": "stream",
     "text": [
      "5289 tracks converted\n"
     ]
    }
   ],
   "source": [
    "# Create data\n",
    "y, segment_data = create_arrays(max_len = 350)"
   ]
  },
  {
   "cell_type": "code",
   "execution_count": 13,
   "metadata": {},
   "outputs": [
    {
     "data": {
      "text/plain": [
       "(5289, 350, 26)"
      ]
     },
     "execution_count": 13,
     "metadata": {},
     "output_type": "execute_result"
    }
   ],
   "source": [
    "# Shape is [samples, timesteps, features]\n",
    "segment_data.shape"
   ]
  },
  {
   "cell_type": "markdown",
   "metadata": {},
   "source": [
    "# Create training and test sets\n",
    "\n",
    "This part creates training and test sets for both regression and classification tasks. \n",
    "\n",
    "It is turned into a classification problem by setting the songs with the highests 25% of hotnesss values to be hot, and the rest not. "
   ]
  },
  {
   "cell_type": "code",
   "execution_count": 14,
   "metadata": {},
   "outputs": [
    {
     "data": {
      "text/plain": [
       "((4760, 350, 26), (4760,))"
      ]
     },
     "execution_count": 14,
     "metadata": {},
     "output_type": "execute_result"
    }
   ],
   "source": [
    "# Train and test split\n",
    "x_train, x_test, y_train, y_test = train_test_split(segment_data, y, test_size = 0.1, random_state = 42)\n",
    "x_train.shape, y_train.shape"
   ]
  },
  {
   "cell_type": "code",
   "execution_count": 15,
   "metadata": {},
   "outputs": [
    {
     "name": "stdout",
     "output_type": "stream",
     "text": [
      "Min and max before: (-497.745, 508.462)\n",
      "Min and max after scaling: (0.0, 1.0)\n"
     ]
    }
   ],
   "source": [
    "# Scale the data\n",
    "print('Min and max before: ({}, {})'.format(x_train.min(), x_train.max()))\n",
    "x_min = x_train.min(keepdims = True)\n",
    "x_max = x_train.max(keepdims = True)\n",
    "\n",
    "x_train = (x_train - x_min)/(x_max - x_min)\n",
    "x_test = (x_test - x_min)/(x_max - x_min)\n",
    "\n",
    "print('Min and max after scaling: ({}, {})'.format(x_train.min(), x_train.max()))"
   ]
  },
  {
   "cell_type": "code",
   "execution_count": 16,
   "metadata": {},
   "outputs": [],
   "source": [
    "# Simplify by only setting top 25% of song_hotness to be \"hot\" and the rest \"not\"\n",
    "\n",
    "def convert_y_to_categorical(cutoff = 0.75):\n",
    "    threshold = y.quantile(cutoff)\n",
    "    Y = [0 if i < threshold else 1 for i in y]\n",
    "    return np.array(Y)\n",
    "Y = convert_y_to_categorical()\n",
    "\n",
    "# y values for classification\n",
    "Y_cat_train, Y_cat_test = train_test_split(Y, test_size = 0.1, random_state = 42)\n",
    "\n",
    "# y values for regression\n",
    "Y_reg_train, Y_reg_test = y_train, y_test"
   ]
  },
  {
   "cell_type": "markdown",
   "metadata": {},
   "source": [
    "# Model architectures\n",
    "\n",
    "The code below is flexible to perform classification (set classification = True) or regression. \n",
    "\n",
    "## CRNN\n",
    "\n",
    "The model architecture below is a CRNN network. It first passes the data through a seriess of convolutions before feeding to a Gated Reucurrent Unit (GRU). Given the imbalance in the training data, the classes are balanced in the model fitting.\n",
    "\n",
    "* I have used __1D convolution layers__ that perform convolution operations just across the time dimension. This is to extract features from each time slice (rather than 2D convolution more frequently seen in image processing).  Dropout and max pooling are used to prevent overfitting. \n",
    "* The output of the CNN step is fed into a __GRU, which should find the short and long term structure of the audio features__. Recurrent neural networks (RNN) are used for understanding sequential data. They make a hidden state t dependent on the hidden state in the previous time step. \n",
    "\n"
   ]
  },
  {
   "cell_type": "code",
   "execution_count": 17,
   "metadata": {},
   "outputs": [],
   "source": [
    "# C-RNN\n",
    "def build_train_CRNN(x_train, y_train, \n",
    "                      n_layers, n_conv_filters, filter_size,\n",
    "                      n_RNN, n_hidden, \n",
    "                      drop_rate = 0.2,\n",
    "                      activation = 'relu',\n",
    "                      optimizer = 'adam',\n",
    "                      loss = 'binary_crossentropy',\n",
    "                      metrics = ['accuracy'],\n",
    "                      num_classes = 1, # For simplified classification model\n",
    "                      n_features = x_train.shape[2],\n",
    "                      n_time = x_train.shape[1],\n",
    "                      batch_size = 32,\n",
    "                      epochs = 10,\n",
    "                      validation_split = 0.1,\n",
    "                      verbose = 1,\n",
    "                      print_summary = False,\n",
    "                     classification = True):\n",
    "    '''\n",
    "    Builds and trains a CNN-RNN model. Prints model performance graphs and metrics\n",
    "    \n",
    "    Params:\n",
    "        x_train, y_train = training data - choose Y_reg_train/test or Y_cat_train/test for classification and regression respectively\n",
    "        n_layers = number of convolution layers\n",
    "        n_conv_filters = number of filters in each conv layer\n",
    "        filter_size = size of conv filters\n",
    "        n_RNN = number of units in the GRU\n",
    "        n_hidden = number of units in the dense layer\n",
    "        drop_rate = dropout rate\n",
    "    Returns:\n",
    "        Model and model history\n",
    "    '''\n",
    "    \n",
    "    print('Building model...')\n",
    "    input_shape = (None, n_features)\n",
    "    model_input = Input(input_shape, name = 'input')\n",
    "    layer = model_input\n",
    "    \n",
    "    # 1D convolutions\n",
    "    for i in range(n_layers):\n",
    "        layer = Conv1D(\n",
    "                filters = n_conv_filters,\n",
    "                kernel_size = filter_size,\n",
    "                name = 'convolution_' + str(i + 1)\n",
    "            )(layer)\n",
    "        layer = BatchNormalization(momentum = 0.9)(layer)\n",
    "        layer = Activation(activation)(layer)\n",
    "        layer = MaxPooling1D(2)(layer)\n",
    "        layer = Dropout(drop_rate)(layer)\n",
    "    \n",
    "    # GRU Layer\n",
    "    layer = GRU(n_RNN, return_sequences = False)(layer)\n",
    "    layer = Dropout(drop_rate)(layer)\n",
    "    \n",
    "    # Dense Layer\n",
    "    layer = Dense(n_hidden, name = 'dense1')(layer)\n",
    "    layer = Dropout(drop_rate)(layer)\n",
    "    \n",
    "    # Output\n",
    "    if classification:\n",
    "        layer = Dense(num_classes)(layer)\n",
    "        layer = Activation('sigmoid')(layer)\n",
    "    else:\n",
    "        layer = Dense(1)(layer)\n",
    "    model_output = layer\n",
    "    model = Model(model_input, model_output)\n",
    "    \n",
    "    # Compile\n",
    "    model.compile(\n",
    "            loss = loss,\n",
    "            optimizer = optimizer,\n",
    "            metrics = metrics\n",
    "        )\n",
    "    if print_summary:\n",
    "        print(model.summary())\n",
    "    \n",
    "    # Fit\n",
    "    print('Training model...')\n",
    "    history = model.fit(x_train, y_train, \n",
    "                    epochs = epochs,\n",
    "                    batch_size = batch_size,\n",
    "                   validation_split = validation_split,\n",
    "                   verbose = verbose,\n",
    "                       class_weight = 'balanced')\n",
    "    # Plot the accuracy / loss depending on classification or regression\n",
    "    if classification:\n",
    "        plot_summary(history)\n",
    "        \n",
    "        # Get test set confusion matrix for the classification model\n",
    "        y_pred = model.predict(x_test).argmax(axis = 1)\n",
    "        print('Confusion matrix:')\n",
    "        print(confusion_matrix(y_pred, y_test))\n",
    "        print('Model test accuracy: {}'.format(accuracy_score(y_pred, y_test)))\n",
    "    else:\n",
    "        plot_summary(history, metric = 'loss')\n",
    "        \n",
    "        # Get test MSE for regression model\n",
    "        y_pred = model.predict(x_test)\n",
    "        print('Model test MSE: {}'.format(mean_squared_error(y_pred, y_test)))\n",
    "    \n",
    "    return model, history\n",
    "\n",
    "\n",
    "def plot_summary(history, metric = 'acc'):\n",
    "    plt.plot(history.history[metric])\n",
    "    plt.plot(history.history['val_'+metric])\n",
    "    plt.title('Model performance')\n",
    "    plt.ylabel(metric)\n",
    "    plt.xlabel('epoch')\n",
    "    plt.legend(['train', 'validation'], loc = 'upper left')\n",
    "    plt.show()"
   ]
  },
  {
   "cell_type": "markdown",
   "metadata": {},
   "source": [
    "## Parallel CNN-RNN \n",
    "\n",
    "The CRNN model above uses RNNs as a temporal summariser, but the GRU uses the output of the CNNs. \n",
    "\n",
    "In a parallel CNN-RNN model, the artchitecture has the following structure:\n",
    "* The signals are passed through 2D convolutions followed by max pooling and the final output is flattened. This is similar to image processing where the signals are now processed in 2D. \n",
    "* Separately, the signals are passed through RNN\n",
    "* The outputs of both steps are concatenated and passed to a dense network. \n",
    "\n",
    "This approach allows us to preserve the temporal relationships of the original signals and use CNN and RNN in parallel."
   ]
  },
  {
   "cell_type": "code",
   "execution_count": 18,
   "metadata": {},
   "outputs": [],
   "source": [
    "# Parallel CNN RNN\n",
    "def build_train_parallel(x_train, y_train, \n",
    "                      n_layers, n_conv_filters, filter_size,\n",
    "                      n_RNN, n_hidden, \n",
    "                      drop_rate = 0.2,\n",
    "                      activation = 'relu',\n",
    "                      optimizer = 'adam',\n",
    "                      num_classes = 1, # For simplified model\n",
    "                      n_features = x_train.shape[2],\n",
    "                      n_time = x_train.shape[1],\n",
    "                      batch_size = 32,\n",
    "                      epochs = 10,\n",
    "                      validation_split = 0.1,\n",
    "                      verbose = 1,\n",
    "                      print_summary = False,\n",
    "                     classification = True):\n",
    "    '''\n",
    "    Builds and trains a parallel CNN/RNN model. Prints model performance graphs and metrics\n",
    "    \n",
    "    Params:\n",
    "        x_train, y_train = training data - choose Y_reg_train/test or Y_cat_train/test for classification and regression respectively\n",
    "        n_layers = number of convolution layers\n",
    "        n_conv_filters = number of filters in each conv layer\n",
    "        filter_size = size of conv filters\n",
    "        n_RNN = number of units in the GRU\n",
    "        n_hidden = number of units in the dense layer\n",
    "        drop_rate = dropout rate\n",
    "    Returns:\n",
    "        Model and model history\n",
    "    '''\n",
    "    \n",
    "    print('Building model...')\n",
    "    \n",
    "    # Inputs for Conv2D need to be reshaped\n",
    "    x_train = np.expand_dims(x_train, axis = -1)\n",
    "    \n",
    "    input_shape = (n_time, n_features, 1)\n",
    "    model_input = Input(input_shape, name = 'input')\n",
    "    layer = model_input\n",
    "    \n",
    "    # 2D convolutions\n",
    "    for i in range(n_layers):\n",
    "        layer = Conv2D(\n",
    "                filters = n_conv_filters,\n",
    "                kernel_size = filter_size,\n",
    "                strides = 1, padding = 'same',\n",
    "                name = 'convolution_' + str(i + 1)\n",
    "            )(layer)\n",
    "        layer = BatchNormalization(momentum = 0.9)(layer)\n",
    "        layer = Activation(activation)(layer)\n",
    "        layer = MaxPooling2D((2, 2))(layer)\n",
    "        layer = Dropout(drop_rate)(layer)\n",
    "        \n",
    "    flatten1 = Flatten()(layer)\n",
    "    \n",
    "    # GRU Layer\n",
    "    squeezed = Lambda(lambda x: K.squeeze(x, axis= -1))(model_input)\n",
    "    GRU_block = GRU(n_RNN, return_sequences = False)(squeezed)\n",
    "    GRU_block = Dropout(drop_rate)(GRU_block)\n",
    "    \n",
    "    # Concatenate\n",
    "    concat = concatenate([flatten1, GRU_block], axis = -1, name = 'concat')\n",
    "    \n",
    "    # Dense layer\n",
    "    concat = Dense(n_hidden)(concat)\n",
    "    \n",
    "    # Output\n",
    "    if classification:\n",
    "        concat = Dense(num_classes)(concat)\n",
    "        concat = Activation('sigmoid', name = 'output')(concat)\n",
    "    else:\n",
    "        concat = Dense(1)(concat)\n",
    "    model_output = concat\n",
    "    model = Model(model_input, model_output)\n",
    "    \n",
    "    # Compile\n",
    "    if classification:\n",
    "        model.compile(\n",
    "                loss = 'binary_crossentropy',\n",
    "                optimizer = optimizer,\n",
    "                metrics = ['accuracy']\n",
    "            )\n",
    "    else:\n",
    "        model.compile(\n",
    "                loss = 'mean_squared_error',\n",
    "                optimizer = optimizer,\n",
    "                metrics = []\n",
    "            )        \n",
    "    if print_summary:\n",
    "        print(model.summary())\n",
    "    \n",
    "    # Fit\n",
    "    print('Training model...')\n",
    "    history = model.fit(x_train, y_train, \n",
    "                    epochs = epochs,\n",
    "                    batch_size = batch_size,\n",
    "                   validation_split = validation_split,\n",
    "                   verbose = verbose,\n",
    "                       class_weight = 'balanced')\n",
    "    # Plot the accuracy / loss depending on classification or regression\n",
    "    if classification:\n",
    "        plot_summary(history)\n",
    "        \n",
    "        # Get test set confusion matrix for the classification model\n",
    "        y_pred = model.predict(np.expand_dims(x_test, axis = -1)).argmax(axis = 1)\n",
    "        print('Confusion matrix:')\n",
    "        print(confusion_matrix(y_pred, y_test))\n",
    "        print('Model test accuracy: {}'.format(accuracy_score(y_pred, y_test)))\n",
    "    else:\n",
    "        plot_summary(history, metric = 'loss')\n",
    "        \n",
    "        # Get test MSE for regression model\n",
    "        y_pred = model.predict(np.expand_dims(x_test, axis = -1))\n",
    "        print('Model test MSE: {}'.format(mean_squared_error(y_pred, y_test)))\n",
    "    \n",
    "    return model, history\n"
   ]
  },
  {
   "cell_type": "markdown",
   "metadata": {},
   "source": [
    "# Classification model\n",
    "\n",
    "As noted earlier, the y variable is changed to a classification task by labelling all songs in the top 25% of hotness as \"hot\" and the rest as \"not hot\". "
   ]
  },
  {
   "cell_type": "code",
   "execution_count": 29,
   "metadata": {},
   "outputs": [],
   "source": [
    "# Set y to classification variables\n",
    "y_train, y_test = Y_cat_train, Y_cat_test"
   ]
  },
  {
   "cell_type": "code",
   "execution_count": 20,
   "metadata": {},
   "outputs": [
    {
     "name": "stdout",
     "output_type": "stream",
     "text": [
      "Building model...\n",
      "Training model...\n"
     ]
    },
    {
     "data": {
      "image/png": "[encoded data removed]",
      "text/plain": [
       "<Figure size 432x288 with 1 Axes>"
      ]
     },
     "metadata": {
      "needs_background": "light"
     },
     "output_type": "display_data"
    },
    {
     "name": "stdout",
     "output_type": "stream",
     "text": [
      "Confusion matrix:\n",
      "[[400 129]\n",
      " [  0   0]]\n",
      "Model test accuracy: 0.7561436672967864\n"
     ]
    }
   ],
   "source": [
    "# Run the CRNN classification model\n",
    "model_params = dict(classification = True,\n",
    "                      n_layers = 3, # Number of convolution layers\n",
    "                      n_conv_filters = 64, # Number of filters in each conv\n",
    "                      filter_size = 3, # Size of conv filters\n",
    "                      n_RNN = 64, # GRU units\n",
    "                      n_hidden = 128, # Number of units in the dense layer\n",
    "                      drop_rate = 0.3, # Dropout rate\n",
    "                      activation = 'relu',\n",
    "                      optimizer = Adam(lr = 0.00001),\n",
    "                      batch_size = 32,\n",
    "                      epochs = 20,\n",
    "                      verbose = 0)\n",
    "\n",
    "model, history = build_train_CRNN(x_train, y_train, **model_params)"
   ]
  },
  {
   "cell_type": "markdown",
   "metadata": {},
   "source": [
    "This classification model is pretty useless - it is just predicting all songs are not hot. This may because the process of creating the hot or not tags was not appropriate. We will have to try another approach."
   ]
  },
  {
   "cell_type": "code",
   "execution_count": 30,
   "metadata": {},
   "outputs": [
    {
     "name": "stdout",
     "output_type": "stream",
     "text": [
      "Building model...\n",
      "Training model...\n"
     ]
    },
    {
     "data": {
      "image/png": "[encoded data removed]",
      "text/plain": [
       "<Figure size 432x288 with 1 Axes>"
      ]
     },
     "metadata": {
      "needs_background": "light"
     },
     "output_type": "display_data"
    },
    {
     "name": "stdout",
     "output_type": "stream",
     "text": [
      "Confusion matrix:\n",
      "[[400 129]\n",
      " [  0   0]]\n",
      "Model test accuracy: 0.7561436672967864\n"
     ]
    }
   ],
   "source": [
    "# Try the parallel CNN/RNN model with the same parameters as the CRNN model\n",
    "# This takes ages to run on CPU\n",
    "model_params.update(dict(classification = True, \n",
    "                         epochs = 40,\n",
    "                        optimizer = 'adam')) # Some compatability problems with adam - maybe due to tf version\n",
    "backend.clear_session()\n",
    "model, history = build_train_parallel(x_train, y_train, **model_params)"
   ]
  },
  {
   "cell_type": "markdown",
   "metadata": {},
   "source": [
    "**Conclusions:**\n",
    "\n",
    "This approach to classification has been unsuccessful. We will try the same models and data below, but this time using a regression approach. "
   ]
  },
  {
   "cell_type": "markdown",
   "metadata": {},
   "source": [
    "# Regression model\n",
    "\n",
    "Given the finding above that the classification model is not performing any useful analysis, this section returns to a regression model. It uses the same network architecture and train/test split as before. "
   ]
  },
  {
   "cell_type": "code",
   "execution_count": 22,
   "metadata": {},
   "outputs": [],
   "source": [
    "# Set y variables to the regression data\n",
    "y_train, y_test = Y_reg_train, Y_reg_test"
   ]
  },
  {
   "cell_type": "code",
   "execution_count": 23,
   "metadata": {},
   "outputs": [
    {
     "name": "stdout",
     "output_type": "stream",
     "text": [
      "Baseline MSE: 0.06124312000239842\n"
     ]
    }
   ],
   "source": [
    "# Baseline regression performance\n",
    "y_bar = np.mean(y_train)\n",
    "baseline_mse = mean_squared_error(np.repeat(y_bar, len(y_train)), y_train)\n",
    "print('Baseline MSE: {}'.format(baseline_mse))"
   ]
  },
  {
   "cell_type": "code",
   "execution_count": 24,
   "metadata": {},
   "outputs": [
    {
     "name": "stdout",
     "output_type": "stream",
     "text": [
      "Building model...\n",
      "Training model...\n"
     ]
    },
    {
     "data": {
      "image/png": "[encoded data removed]",
      "text/plain": [
       "<Figure size 432x288 with 1 Axes>"
      ]
     },
     "metadata": {
      "needs_background": "light"
     },
     "output_type": "display_data"
    },
    {
     "name": "stdout",
     "output_type": "stream",
     "text": [
      "Model test MSE: 0.06855475599420417\n"
     ]
    }
   ],
   "source": [
    "# Use the same parameters as before, but change to regression\n",
    "backend.clear_session()\n",
    "model_params.update(dict(classification = False))\n",
    "\n",
    "model, history = build_train_CRNN(x_train, y_train, **model_params)"
   ]
  },
  {
   "cell_type": "code",
   "execution_count": 25,
   "metadata": {
    "scrolled": false
   },
   "outputs": [
    {
     "name": "stdout",
     "output_type": "stream",
     "text": [
      "Building model...\n",
      "Training model...\n"
     ]
    },
    {
     "data": {
      "image/png": "[encoded data removed]",
      "text/plain": [
       "<Figure size 432x288 with 1 Axes>"
      ]
     },
     "metadata": {
      "needs_background": "light"
     },
     "output_type": "display_data"
    },
    {
     "name": "stdout",
     "output_type": "stream",
     "text": [
      "Model test MSE: 0.059241948140060494\n"
     ]
    }
   ],
   "source": [
    "# And again with the parallel model\n",
    "backend.clear_session()\n",
    "model_params.update(dict(classification = False))\n",
    "model, history = build_train_parallel(x_train, y_train, **model_params)"
   ]
  },
  {
   "cell_type": "markdown",
   "metadata": {},
   "source": [
    "# Conclusions\n",
    "\n",
    "We have not been able to find any predictive power in using the segment array data from the MSD to predict song hotness. We tried both classification and regression models, but they did not perform well. We tried to design the networks to take advantage of the time series in two ways:\n",
    "\n",
    "1. Using CRNN model. This is where 1D convolutions are performed on the segment data in order to capture features from each time slice. The output of the CNN step is fed into a GRU, which should find the short and long term structure of the audio features. \n",
    "2. Using parallel CNN and RNN model. \n",
    "    * The signals are passed through 2D convolutions followed by max pooling and the final output is flattened. This is similar to image processing where the signals are now processed in 2D.\n",
    "    * Separately, the signals are passed through RNN.\n",
    "    * The outputs of both steps are concatenated for prediction.\n",
    "\n",
    "Therefore it seems that these variables can be dropped from further analysis.\n",
    "\n",
    "However, the lessons learned in designing the model architecture and applying it to the time series of track audio features may be useful and can be applied to some of the other features we have been investigating. "
   ]
  },
  {
   "cell_type": "code",
   "execution_count": null,
   "metadata": {},
   "outputs": [],
   "source": []
  }
 ],
 "metadata": {
  "kernelspec": {
   "display_name": "Python 3",
   "language": "python",
   "name": "python3"
  },
  "language_info": {
   "codemirror_mode": {
    "name": "ipython",
    "version": 3
   },
   "file_extension": ".py",
   "mimetype": "text/x-python",
   "name": "python",
   "nbconvert_exporter": "python",
   "pygments_lexer": "ipython3",
   "version": "3.7.2"
  }
 },
 "nbformat": 4,
 "nbformat_minor": 2
}
