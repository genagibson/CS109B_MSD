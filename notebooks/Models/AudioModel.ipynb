{
 "cells": [
  {
   "cell_type": "code",
   "execution_count": 1,
   "metadata": {},
   "outputs": [
    {
     "data": {
      "text/html": [
       "<style>\n",
       "blockquote { background: #AEDE94; }\n",
       "h1 { \n",
       "    padding-top: 25px;\n",
       "    padding-bottom: 25px;\n",
       "    text-align: left; \n",
       "    padding-left: 10px;\n",
       "    background-color: #DDDDDD; \n",
       "    color: black;\n",
       "}\n",
       "h2 { \n",
       "    padding-top: 10px;\n",
       "    padding-bottom: 10px;\n",
       "    text-align: left; \n",
       "    padding-left: 5px;\n",
       "    background-color: #EEEEEE; \n",
       "    color: black;\n",
       "}\n",
       "\n",
       "div.exercise {\n",
       "\tbackground-color: #ffcccc;\n",
       "\tborder-color: #E9967A; \t\n",
       "\tborder-left: 5px solid #800080; \n",
       "\tpadding: 0.5em;\n",
       "}\n",
       "\n",
       "span.sub-q {\n",
       "\tfont-weight: bold;\n",
       "}\n",
       "div.theme {\n",
       "\tbackground-color: #DDDDDD;\n",
       "\tborder-color: #E9967A; \t\n",
       "\tborder-left: 5px solid #800080; \n",
       "\tpadding: 0.5em;\n",
       "\tfont-size: 18pt;\n",
       "}\n",
       "div.gc { \n",
       "\tbackground-color: #AEDE94;\n",
       "\tborder-color: #E9967A; \t \n",
       "\tborder-left: 5px solid #800080; \n",
       "\tpadding: 0.5em;\n",
       "\tfont-size: 12pt;\n",
       "}\n",
       "p.q1 { \n",
       "    padding-top: 5px;\n",
       "    padding-bottom: 5px;\n",
       "    text-align: left; \n",
       "    padding-left: 5px;\n",
       "    background-color: #EEEEEE; \n",
       "    color: black;\n",
       "}\n",
       "header {\n",
       "   padding-top: 35px;\n",
       "    padding-bottom: 35px;\n",
       "    text-align: left; \n",
       "    padding-left: 10px;\n",
       "    background-color: #DDDDDD; \n",
       "    color: black;\n",
       "}\n",
       "</style>\n",
       "\n"
      ],
      "text/plain": [
       "<IPython.core.display.HTML object>"
      ]
     },
     "execution_count": 1,
     "metadata": {},
     "output_type": "execute_result"
    }
   ],
   "source": [
    "import requests\n",
    "from IPython.core.display import HTML\n",
    "styles = requests.get(\"https://raw.githubusercontent.com/Harvard-IACS/2018-CS109A/master/content/styles/cs109.css\").text\n",
    "HTML(styles)"
   ]
  },
  {
   "cell_type": "code",
   "execution_count": 2,
   "metadata": {},
   "outputs": [
    {
     "name": "stderr",
     "output_type": "stream",
     "text": [
      "Using TensorFlow backend.\n"
     ]
    }
   ],
   "source": [
    "import matplotlib.pyplot as plt\n",
    "import seaborn as sns\n",
    "import numpy as np\n",
    "import pandas as pd\n",
    "import glob\n",
    "import datetime\n",
    "import time\n",
    "import sys\n",
    "import os\n",
    "import tables\n",
    "import io\n",
    "import gzip\n",
    "from sklearn.model_selection import train_test_split\n",
    "from keras.models import Sequential\n",
    "from keras.layers.normalization import BatchNormalization\n",
    "from keras.layers.convolutional import Conv2D\n",
    "from keras.layers.convolutional import MaxPooling2D\n",
    "from keras.layers.core import Activation\n",
    "from keras.layers.core import Dropout\n",
    "from keras.layers.core import Dense\n",
    "from keras.layers import Flatten\n",
    "from keras.layers import Input\n",
    "from keras.models import Model\n",
    "from keras import backend as K,objectives\n",
    "from keras.optimizers import Adam\n",
    "from keras.models import model_from_json\n",
    "from sklearn.metrics import classification_report, confusion_matrix, mean_squared_error, accuracy_score\n",
    "from sklearn.preprocessing import MinMaxScaler\n",
    "from keras.callbacks import CSVLogger\n",
    "\n",
    "pd.set_option('display.max_columns', None)"
   ]
  },
  {
   "cell_type": "code",
   "execution_count": 4,
   "metadata": {},
   "outputs": [],
   "source": [
    "# Path to the Million Song Dataset subset (uncompressed) - change to the location on your laptop\n",
    "# Cannot store this on github as it is too large\n",
    "msd_subset_path = '../../MSD_data/MillionSongSubset/'\n",
    "\n",
    "# Keep these - folders match the structure of the uncompressed file\n",
    "msd_subset_data_path = os.path.join(msd_subset_path, 'data')\n",
    "msd_subset_addf_path = os.path.join(msd_subset_path, 'AdditionalFiles')"
   ]
  },
  {
   "cell_type": "markdown",
   "metadata": {},
   "source": [
    "*Use Rhythm Histogram and Statistical Spectrum Descriptor data from http://www.ifs.tuwien.ac.at/mir/audiofeatureextraction.html to attempt to predict hotness*"
   ]
  },
  {
   "cell_type": "code",
   "execution_count": 5,
   "metadata": {},
   "outputs": [],
   "source": [
    "rh_hotness_clean = pd.read_pickle(msd_subset_path+'rh_and_hotness_clean.pkl')\n",
    "ssd_hotness_clean = pd.read_pickle(msd_subset_path+'ssd_and_hotness_clean.pkl')"
   ]
  },
  {
   "cell_type": "markdown",
   "metadata": {},
   "source": [
    "*Check for duplicate tracks*"
   ]
  },
  {
   "cell_type": "code",
   "execution_count": 6,
   "metadata": {},
   "outputs": [],
   "source": [
    "assert (ssd_hotness_clean.groupby('song_id').count()['track_id'] > 1).sum() == 0 \n",
    "assert (rh_hotness_clean.groupby('song_id').count()['track_id'] > 1).sum() == 0"
   ]
  },
  {
   "cell_type": "code",
   "execution_count": 52,
   "metadata": {},
   "outputs": [],
   "source": [
    "# Outline taken from https://www.pyimagesearch.com/2019/01/28/keras-regression-and-cnns/\n",
    "\n",
    "def create_cnn(width, height, depth, filters=(16, 32, 64), regress=True):\n",
    "    # initialize the input shape and channel dimension, assuming\n",
    "    # TensorFlow/channels-last ordering\n",
    "    inputShape = (width, height, depth)\n",
    "    chanDim = -1\n",
    "    # define the model input\n",
    "    inputs = Input(shape=inputShape)\n",
    "    # loop over the number of filters\n",
    "    for (i, f) in enumerate(filters):\n",
    "    # if this is the first CONV layer then set the input appropriately\n",
    "        if i == 0:\n",
    "            x = inputs\n",
    "        x = Conv2D(f, (3, 3), padding=\"same\")(x)\n",
    "        x = Activation(\"relu\")(x)\n",
    "        x = BatchNormalization(axis=chanDim)(x)\n",
    "        x = MaxPooling2D(pool_size=(2, 2))(x)\n",
    "    # flatten the volume, then FC => RELU => BN => DROPOUT\n",
    "    x = Flatten()(x)\n",
    "    x = Dense(16)(x)\n",
    "    x = Activation(\"relu\")(x)\n",
    "    x = BatchNormalization(axis=chanDim)(x)\n",
    "    x = Dropout(0.5)(x)\n",
    "    # apply another FC layer, this one to match the number of nodes coming out of the MLP\n",
    "    x = Dense(4)(x)\n",
    "    x = Activation(\"relu\")(x)\n",
    "    # check to see if the regression node should be added\n",
    "    if regress:\n",
    "        x = Dense(1, activation=\"linear\")(x)\n",
    "    # construct the CNN\n",
    "    model = Model(inputs, x)\n",
    "    return model"
   ]
  },
  {
   "cell_type": "markdown",
   "metadata": {},
   "source": [
    "*Combine features into single dataset for training*"
   ]
  },
  {
   "cell_type": "code",
   "execution_count": 34,
   "metadata": {},
   "outputs": [],
   "source": [
    "y = rh_hotness_clean.song_hotttnesss\n",
    "x_rh = rh_hotness_clean.drop(['track_id', 'song_id', 'song_hotttnesss'], axis = 1)\n",
    "x_ssd = ssd_hotness_clean.drop(['track_id', 'song_id', 'song_hotttnesss'], axis = 1)\n",
    "x = np.concatenate((x_rh, x_ssd), axis = 1)\n",
    "# df = ssd_hotness_clean # rh_hotness_clean\n",
    "# x = df.drop(['track_id', 'song_id', 'song_hotttnesss'], axis = 1)"
   ]
  },
  {
   "cell_type": "code",
   "execution_count": 36,
   "metadata": {},
   "outputs": [],
   "source": [
    "w_rh = 12 # 21 15\n",
    "h_rh = 19 # 8  4\n",
    "csv_logger = CSVLogger('history.log', separator=',', append=False)\n",
    "\n",
    "x = MinMaxScaler().fit_transform(x)\n",
    "(trainX, testX, trainY, testY) = train_test_split(x, y.values, test_size=0.25, random_state=109)\n"
   ]
  },
  {
   "cell_type": "code",
   "execution_count": 37,
   "metadata": {},
   "outputs": [],
   "source": [
    "trainX = np.expand_dims(trainX.reshape(trainX.shape[0], w_rh, h_rh), axis = -1)\n",
    "testX = np.expand_dims(testX.reshape(testX.shape[0], w_rh, h_rh), axis = -1)"
   ]
  },
  {
   "cell_type": "code",
   "execution_count": 38,
   "metadata": {},
   "outputs": [
    {
     "name": "stdout",
     "output_type": "stream",
     "text": [
      "_________________________________________________________________\n",
      "Layer (type)                 Output Shape              Param #   \n",
      "=================================================================\n",
      "input_1 (InputLayer)         (None, 12, 19, 1)         0         \n",
      "_________________________________________________________________\n",
      "conv2d_1 (Conv2D)            (None, 12, 19, 16)        160       \n",
      "_________________________________________________________________\n",
      "activation_1 (Activation)    (None, 12, 19, 16)        0         \n",
      "_________________________________________________________________\n",
      "batch_normalization_1 (Batch (None, 12, 19, 16)        64        \n",
      "_________________________________________________________________\n",
      "max_pooling2d_1 (MaxPooling2 (None, 6, 9, 16)          0         \n",
      "_________________________________________________________________\n",
      "conv2d_2 (Conv2D)            (None, 6, 9, 32)          4640      \n",
      "_________________________________________________________________\n",
      "activation_2 (Activation)    (None, 6, 9, 32)          0         \n",
      "_________________________________________________________________\n",
      "batch_normalization_2 (Batch (None, 6, 9, 32)          128       \n",
      "_________________________________________________________________\n",
      "max_pooling2d_2 (MaxPooling2 (None, 3, 4, 32)          0         \n",
      "_________________________________________________________________\n",
      "conv2d_3 (Conv2D)            (None, 3, 4, 64)          18496     \n",
      "_________________________________________________________________\n",
      "activation_3 (Activation)    (None, 3, 4, 64)          0         \n",
      "_________________________________________________________________\n",
      "batch_normalization_3 (Batch (None, 3, 4, 64)          256       \n",
      "_________________________________________________________________\n",
      "max_pooling2d_3 (MaxPooling2 (None, 1, 2, 64)          0         \n",
      "_________________________________________________________________\n",
      "flatten_1 (Flatten)          (None, 128)               0         \n",
      "_________________________________________________________________\n",
      "dense_1 (Dense)              (None, 16)                2064      \n",
      "_________________________________________________________________\n",
      "activation_4 (Activation)    (None, 16)                0         \n",
      "_________________________________________________________________\n",
      "batch_normalization_4 (Batch (None, 16)                64        \n",
      "_________________________________________________________________\n",
      "dropout_1 (Dropout)          (None, 16)                0         \n",
      "_________________________________________________________________\n",
      "dense_2 (Dense)              (None, 4)                 68        \n",
      "_________________________________________________________________\n",
      "activation_5 (Activation)    (None, 4)                 0         \n",
      "_________________________________________________________________\n",
      "dense_3 (Dense)              (None, 1)                 5         \n",
      "=================================================================\n",
      "Total params: 25,945\n",
      "Trainable params: 25,689\n",
      "Non-trainable params: 256\n",
      "_________________________________________________________________\n"
     ]
    }
   ],
   "source": [
    "K.clear_session()\n",
    "\n",
    "model = create_cnn(w_rh, h_rh, 1, regress=True)\n",
    "opt = Adam(lr=1e-3, decay=1e-3 / 200)\n",
    "model.compile(loss=\"mean_absolute_percentage_error\", optimizer=opt, metrics = ['accuracy'])\n",
    "model.summary()"
   ]
  },
  {
   "cell_type": "code",
   "execution_count": 39,
   "metadata": {},
   "outputs": [
    {
     "name": "stdout",
     "output_type": "stream",
     "text": [
      "Train on 4236 samples, validate on 1412 samples\n",
      "Epoch 1/100\n",
      "4236/4236 [==============================] - 7s 2ms/step - loss: 11122137.0086 - acc: 0.2455 - val_loss: 11161730934.9169 - val_acc: 0.0000e+00\n",
      "Epoch 2/100\n",
      "4236/4236 [==============================] - 6s 2ms/step - loss: 59524.7981 - acc: 0.2524 - val_loss: 48981814.7880 - val_acc: 0.2585\n",
      "Epoch 3/100\n",
      "4236/4236 [==============================] - 6s 2ms/step - loss: 45537.0386 - acc: 0.2524 - val_loss: 10513515.1793 - val_acc: 0.2585\n",
      "Epoch 4/100\n",
      "4236/4236 [==============================] - 6s 2ms/step - loss: 66747.1027 - acc: 0.2524 - val_loss: 10075946.5765 - val_acc: 0.2585\n",
      "Epoch 5/100\n",
      "4236/4236 [==============================] - 6s 1ms/step - loss: 47350.7094 - acc: 0.2524 - val_loss: 10077985.6018 - val_acc: 0.2585\n",
      "Epoch 6/100\n",
      "4236/4236 [==============================] - 6s 1ms/step - loss: 39390.6199 - acc: 0.2524 - val_loss: 9463629.2063 - val_acc: 0.2585\n",
      "Epoch 7/100\n",
      "4236/4236 [==============================] - 6s 1ms/step - loss: 45978.2990 - acc: 0.2524 - val_loss: 6373689.2005 - val_acc: 0.2585\n",
      "Epoch 8/100\n",
      "4236/4236 [==============================] - 6s 2ms/step - loss: 64409.8961 - acc: 0.2524 - val_loss: 6270130.0762 - val_acc: 0.2585\n",
      "Epoch 9/100\n",
      "4236/4236 [==============================] - 6s 2ms/step - loss: 59284.1820 - acc: 0.2524 - val_loss: 6137798.0793 - val_acc: 0.2585\n",
      "Epoch 10/100\n",
      "4236/4236 [==============================] - 6s 1ms/step - loss: 50906.6305 - acc: 0.2524 - val_loss: 6181874.0566 - val_acc: 0.2585\n",
      "Epoch 11/100\n",
      "4236/4236 [==============================] - 6s 1ms/step - loss: 50640.9745 - acc: 0.2524 - val_loss: 6075060.5359 - val_acc: 0.2585\n",
      "Epoch 12/100\n",
      "4236/4236 [==============================] - 6s 2ms/step - loss: 50883.5635 - acc: 0.2524 - val_loss: 6245627.0163 - val_acc: 0.2585\n",
      "Epoch 13/100\n",
      "4236/4236 [==============================] - 6s 1ms/step - loss: 60918.8829 - acc: 0.2524 - val_loss: 6099923.8763 - val_acc: 0.2585\n",
      "Epoch 14/100\n",
      "4236/4236 [==============================] - 6s 1ms/step - loss: 70637.9390 - acc: 0.2524 - val_loss: 6168405.8029 - val_acc: 0.2585\n",
      "Epoch 15/100\n",
      "4236/4236 [==============================] - 6s 1ms/step - loss: 58015.0271 - acc: 0.2524 - val_loss: 6150582.8528 - val_acc: 0.2585\n",
      "Epoch 16/100\n",
      "4236/4236 [==============================] - 6s 2ms/step - loss: 60802.8771 - acc: 0.2524 - val_loss: 6166558.0722 - val_acc: 0.2585\n",
      "Epoch 17/100\n",
      "4236/4236 [==============================] - 6s 2ms/step - loss: 52843.0844 - acc: 0.2524 - val_loss: 6079790.4717 - val_acc: 0.2585\n",
      "Epoch 18/100\n",
      "4236/4236 [==============================] - 6s 1ms/step - loss: 49295.6619 - acc: 0.2524 - val_loss: 6138762.2421 - val_acc: 0.2585\n",
      "Epoch 19/100\n",
      "4236/4236 [==============================] - 6s 2ms/step - loss: 56688.9354 - acc: 0.2524 - val_loss: 6115898.0886 - val_acc: 0.2585\n",
      "Epoch 20/100\n",
      "4236/4236 [==============================] - 6s 1ms/step - loss: 55752.5286 - acc: 0.2524 - val_loss: 6172750.6283 - val_acc: 0.2585\n",
      "Epoch 21/100\n",
      "4236/4236 [==============================] - 6s 2ms/step - loss: 55431.9410 - acc: 0.2524 - val_loss: 6188720.6225 - val_acc: 0.2585\n",
      "Epoch 22/100\n",
      "4236/4236 [==============================] - 7s 2ms/step - loss: 51232.9311 - acc: 0.2524 - val_loss: 6182444.8214 - val_acc: 0.2585\n",
      "Epoch 23/100\n",
      "4236/4236 [==============================] - 6s 1ms/step - loss: 57390.8080 - acc: 0.2524 - val_loss: 6157937.6538 - val_acc: 0.2585\n",
      "Epoch 24/100\n",
      "4236/4236 [==============================] - 6s 2ms/step - loss: 52851.4085 - acc: 0.2524 - val_loss: 6037064.3286 - val_acc: 0.2585\n",
      "Epoch 25/100\n",
      "4236/4236 [==============================] - 6s 2ms/step - loss: 59793.7023 - acc: 0.2524 - val_loss: 6186431.8904 - val_acc: 0.2585\n",
      "Epoch 26/100\n",
      "4236/4236 [==============================] - 6s 2ms/step - loss: 76026.4392 - acc: 0.2524 - val_loss: 5969884.6950 - val_acc: 0.2585\n",
      "Epoch 27/100\n",
      "4236/4236 [==============================] - 6s 2ms/step - loss: 55573.7650 - acc: 0.2524 - val_loss: 6156555.1979 - val_acc: 0.2585\n",
      "Epoch 28/100\n",
      "4236/4236 [==============================] - 6s 2ms/step - loss: 60029.9058 - acc: 0.2524 - val_loss: 6256556.3297 - val_acc: 0.2585\n",
      "Epoch 29/100\n",
      "4236/4236 [==============================] - 6s 1ms/step - loss: 56139.6433 - acc: 0.2524 - val_loss: 6002097.8052 - val_acc: 0.2585\n",
      "Epoch 30/100\n",
      "4236/4236 [==============================] - 6s 1ms/step - loss: 60294.1400 - acc: 0.2524 - val_loss: 6142756.0179 - val_acc: 0.2585\n",
      "Epoch 31/100\n",
      "4236/4236 [==============================] - 6s 1ms/step - loss: 54092.4888 - acc: 0.2524 - val_loss: 6205148.2611 - val_acc: 0.2585\n",
      "Epoch 32/100\n",
      "4236/4236 [==============================] - 6s 1ms/step - loss: 61914.2753 - acc: 0.2524 - val_loss: 6124736.1103 - val_acc: 0.2585\n",
      "Epoch 33/100\n",
      "4236/4236 [==============================] - 6s 2ms/step - loss: 49579.3688 - acc: 0.2524 - val_loss: 6244920.7982 - val_acc: 0.2585\n",
      "Epoch 34/100\n",
      "4236/4236 [==============================] - 6s 1ms/step - loss: 51209.3092 - acc: 0.2524 - val_loss: 6014824.6665 - val_acc: 0.2585\n",
      "Epoch 35/100\n",
      "4236/4236 [==============================] - 6s 2ms/step - loss: 55472.6635 - acc: 0.2524 - val_loss: 6166923.6062 - val_acc: 0.2585\n",
      "Epoch 36/100\n",
      "4236/4236 [==============================] - 6s 2ms/step - loss: 41494.4140 - acc: 0.2524 - val_loss: 6109964.0339 - val_acc: 0.2585\n",
      "Epoch 37/100\n",
      "4236/4236 [==============================] - 6s 1ms/step - loss: 66294.1858 - acc: 0.2524 - val_loss: 6195318.0821 - val_acc: 0.2585\n",
      "Epoch 38/100\n",
      "4236/4236 [==============================] - 6s 2ms/step - loss: 49962.7660 - acc: 0.2524 - val_loss: 6027933.1043 - val_acc: 0.2585\n",
      "Epoch 39/100\n",
      "4236/4236 [==============================] - 5s 1ms/step - loss: 59939.5140 - acc: 0.2524 - val_loss: 6172590.3648 - val_acc: 0.2585\n",
      "Epoch 40/100\n",
      "4236/4236 [==============================] - 6s 1ms/step - loss: 58873.0778 - acc: 0.2524 - val_loss: 6130393.1268 - val_acc: 0.2585\n",
      "Epoch 41/100\n",
      "4236/4236 [==============================] - 6s 2ms/step - loss: 70845.1756 - acc: 0.2524 - val_loss: 6097994.9827 - val_acc: 0.2585\n",
      "Epoch 42/100\n",
      "4236/4236 [==============================] - 6s 1ms/step - loss: 77358.9517 - acc: 0.2524 - val_loss: 6142798.4683 - val_acc: 0.2585\n",
      "Epoch 43/100\n",
      "4236/4236 [==============================] - 6s 2ms/step - loss: 43832.9719 - acc: 0.2524 - val_loss: 6033466.0287 - val_acc: 0.2585\n",
      "Epoch 44/100\n",
      "4236/4236 [==============================] - 6s 2ms/step - loss: 60367.2632 - acc: 0.2524 - val_loss: 6148274.4990 - val_acc: 0.2585\n",
      "Epoch 45/100\n",
      "4236/4236 [==============================] - 6s 2ms/step - loss: 69553.3388 - acc: 0.2524 - val_loss: 6119487.0259 - val_acc: 0.2585\n",
      "Epoch 46/100\n",
      "4236/4236 [==============================] - 6s 2ms/step - loss: 35186.4817 - acc: 0.2524 - val_loss: 6137437.6898 - val_acc: 0.2585\n",
      "Epoch 47/100\n",
      "4236/4236 [==============================] - 6s 2ms/step - loss: 45936.4401 - acc: 0.2524 - val_loss: 6200777.5717 - val_acc: 0.2585\n",
      "Epoch 48/100\n",
      "4236/4236 [==============================] - 6s 2ms/step - loss: 55814.8337 - acc: 0.2524 - val_loss: 6032422.7809 - val_acc: 0.2585\n",
      "Epoch 49/100\n",
      "4236/4236 [==============================] - 6s 1ms/step - loss: 57822.4306 - acc: 0.2524 - val_loss: 6137666.7790 - val_acc: 0.2585\n",
      "Epoch 50/100\n",
      "4236/4236 [==============================] - 6s 1ms/step - loss: 60769.5160 - acc: 0.2524 - val_loss: 6136055.2693 - val_acc: 0.2585\n",
      "Epoch 51/100\n",
      "4236/4236 [==============================] - 6s 2ms/step - loss: 53640.4293 - acc: 0.2524 - val_loss: 5946288.5061 - val_acc: 0.2585\n",
      "Epoch 52/100\n",
      "4236/4236 [==============================] - 6s 2ms/step - loss: 70021.4488 - acc: 0.2524 - val_loss: 6096863.2533 - val_acc: 0.2585\n",
      "Epoch 53/100\n",
      "4236/4236 [==============================] - 6s 1ms/step - loss: 55714.4216 - acc: 0.2524 - val_loss: 6074242.0728 - val_acc: 0.2585\n",
      "Epoch 54/100\n",
      "4236/4236 [==============================] - 6s 2ms/step - loss: 41575.3180 - acc: 0.2524 - val_loss: 6087025.3492 - val_acc: 0.2585\n",
      "Epoch 55/100\n",
      "4236/4236 [==============================] - 6s 1ms/step - loss: 45881.5694 - acc: 0.2524 - val_loss: 6021884.7720 - val_acc: 0.2585\n",
      "Epoch 56/100\n",
      "4236/4236 [==============================] - 6s 1ms/step - loss: 58544.7951 - acc: 0.2524 - val_loss: 6113272.8154 - val_acc: 0.2585\n"
     ]
    },
    {
     "name": "stdout",
     "output_type": "stream",
     "text": [
      "Epoch 57/100\n",
      "4236/4236 [==============================] - 6s 2ms/step - loss: 62546.7399 - acc: 0.2524 - val_loss: 6154441.7151 - val_acc: 0.2585\n",
      "Epoch 58/100\n",
      "4236/4236 [==============================] - 6s 2ms/step - loss: 41634.0523 - acc: 0.2524 - val_loss: 6169412.3637 - val_acc: 0.2585\n",
      "Epoch 59/100\n",
      "4236/4236 [==============================] - 6s 1ms/step - loss: 49469.7343 - acc: 0.2524 - val_loss: 6093748.8627 - val_acc: 0.2585\n",
      "Epoch 60/100\n",
      "4236/4236 [==============================] - 6s 2ms/step - loss: 49302.9886 - acc: 0.2524 - val_loss: 6162251.4707 - val_acc: 0.2585\n",
      "Epoch 61/100\n",
      "4236/4236 [==============================] - 6s 2ms/step - loss: 43140.5787 - acc: 0.2524 - val_loss: 6151303.0808 - val_acc: 0.2585\n",
      "Epoch 62/100\n",
      "4236/4236 [==============================] - 6s 2ms/step - loss: 58630.8238 - acc: 0.2524 - val_loss: 6157351.8649 - val_acc: 0.2585\n",
      "Epoch 63/100\n",
      "4236/4236 [==============================] - 6s 1ms/step - loss: 48900.5680 - acc: 0.2524 - val_loss: 6101059.7416 - val_acc: 0.2585\n",
      "Epoch 64/100\n",
      "4236/4236 [==============================] - 6s 2ms/step - loss: 50577.2717 - acc: 0.2524 - val_loss: 6105170.4366 - val_acc: 0.2585\n",
      "Epoch 65/100\n",
      "4236/4236 [==============================] - 6s 2ms/step - loss: 62005.1973 - acc: 0.2524 - val_loss: 6158308.3719 - val_acc: 0.2585\n",
      "Epoch 66/100\n",
      "4236/4236 [==============================] - 6s 1ms/step - loss: 67706.4734 - acc: 0.2524 - val_loss: 6091689.6745 - val_acc: 0.2585\n",
      "Epoch 67/100\n",
      "4236/4236 [==============================] - 6s 1ms/step - loss: 59340.7043 - acc: 0.2524 - val_loss: 6102333.1565 - val_acc: 0.2585\n",
      "Epoch 68/100\n",
      "4236/4236 [==============================] - 6s 2ms/step - loss: 62446.8260 - acc: 0.2524 - val_loss: 6059066.1508 - val_acc: 0.2585\n",
      "Epoch 69/100\n",
      "4236/4236 [==============================] - 6s 2ms/step - loss: 50519.1159 - acc: 0.2524 - val_loss: 6201755.6792 - val_acc: 0.2585\n",
      "Epoch 70/100\n",
      "4236/4236 [==============================] - 6s 1ms/step - loss: 55158.3038 - acc: 0.2524 - val_loss: 6122122.1729 - val_acc: 0.2585\n",
      "Epoch 71/100\n",
      "4236/4236 [==============================] - 6s 2ms/step - loss: 55825.5947 - acc: 0.2524 - val_loss: 6149381.3742 - val_acc: 0.2585\n",
      "Epoch 72/100\n",
      "4236/4236 [==============================] - 6s 1ms/step - loss: 55689.3076 - acc: 0.2524 - val_loss: 5987995.1139 - val_acc: 0.2585\n",
      "Epoch 73/100\n",
      "4236/4236 [==============================] - 6s 2ms/step - loss: 51680.2212 - acc: 0.2524 - val_loss: 6129143.5448 - val_acc: 0.2585\n",
      "Epoch 74/100\n",
      "4236/4236 [==============================] - 6s 2ms/step - loss: 54758.6924 - acc: 0.2524 - val_loss: 6077969.1305 - val_acc: 0.2585\n",
      "Epoch 75/100\n",
      "4236/4236 [==============================] - 6s 1ms/step - loss: 48207.1583 - acc: 0.2524 - val_loss: 6196493.7336 - val_acc: 0.2585\n",
      "Epoch 76/100\n",
      "4236/4236 [==============================] - 6s 2ms/step - loss: 44827.9562 - acc: 0.2524 - val_loss: 6138828.4177 - val_acc: 0.2585\n",
      "Epoch 77/100\n",
      "4236/4236 [==============================] - 6s 2ms/step - loss: 49860.7824 - acc: 0.2524 - val_loss: 6271629.3395 - val_acc: 0.2585\n",
      "Epoch 78/100\n",
      "4236/4236 [==============================] - 6s 2ms/step - loss: 49798.7013 - acc: 0.2524 - val_loss: 6135756.4350 - val_acc: 0.2585\n",
      "Epoch 79/100\n",
      "4236/4236 [==============================] - 6s 1ms/step - loss: 49677.1467 - acc: 0.2524 - val_loss: 6045674.4468 - val_acc: 0.2585\n",
      "Epoch 80/100\n",
      "4236/4236 [==============================] - 6s 1ms/step - loss: 45979.3894 - acc: 0.2524 - val_loss: 6128858.6793 - val_acc: 0.2585\n",
      "Epoch 81/100\n",
      "4236/4236 [==============================] - 6s 2ms/step - loss: 35817.9159 - acc: 0.2524 - val_loss: 6067712.8993 - val_acc: 0.2585\n",
      "Epoch 82/100\n",
      "4236/4236 [==============================] - 6s 2ms/step - loss: 57900.4340 - acc: 0.2524 - val_loss: 6181689.4971 - val_acc: 0.2585\n",
      "Epoch 83/100\n",
      "4236/4236 [==============================] - 6s 2ms/step - loss: 48622.9871 - acc: 0.2524 - val_loss: 6167574.4716 - val_acc: 0.2585\n",
      "Epoch 84/100\n",
      "4236/4236 [==============================] - 6s 1ms/step - loss: 57070.2618 - acc: 0.2524 - val_loss: 6196798.7619 - val_acc: 0.2585\n",
      "Epoch 85/100\n",
      "4236/4236 [==============================] - 6s 1ms/step - loss: 64027.7949 - acc: 0.2524 - val_loss: 6104419.6832 - val_acc: 0.2585\n",
      "Epoch 86/100\n",
      "4236/4236 [==============================] - 6s 1ms/step - loss: 58502.5636 - acc: 0.2524 - val_loss: 6157717.4074 - val_acc: 0.2585\n",
      "Epoch 87/100\n",
      "4236/4236 [==============================] - 6s 1ms/step - loss: 47717.8019 - acc: 0.2524 - val_loss: 6139674.2463 - val_acc: 0.2585\n",
      "Epoch 88/100\n",
      "4236/4236 [==============================] - 6s 2ms/step - loss: 41632.0431 - acc: 0.2524 - val_loss: 6066869.1600 - val_acc: 0.2585\n",
      "Epoch 89/100\n",
      "4236/4236 [==============================] - 6s 1ms/step - loss: 58775.6447 - acc: 0.2524 - val_loss: 6127278.7362 - val_acc: 0.2585\n",
      "Epoch 90/100\n",
      "4236/4236 [==============================] - 6s 1ms/step - loss: 39079.5575 - acc: 0.2524 - val_loss: 6175951.8688 - val_acc: 0.2585\n",
      "Epoch 91/100\n",
      "4236/4236 [==============================] - 6s 1ms/step - loss: 60214.0510 - acc: 0.2524 - val_loss: 6123186.1643 - val_acc: 0.2585\n",
      "Epoch 92/100\n",
      "4236/4236 [==============================] - 6s 1ms/step - loss: 40253.8232 - acc: 0.2524 - val_loss: 6090062.1789 - val_acc: 0.2585\n",
      "Epoch 93/100\n",
      "4236/4236 [==============================] - 6s 1ms/step - loss: 39006.9203 - acc: 0.2524 - val_loss: 6160235.7357 - val_acc: 0.2585\n",
      "Epoch 94/100\n",
      "4236/4236 [==============================] - 6s 1ms/step - loss: 42079.0723 - acc: 0.2524 - val_loss: 6163031.6533 - val_acc: 0.2585\n",
      "Epoch 95/100\n",
      "4236/4236 [==============================] - 6s 2ms/step - loss: 50890.1803 - acc: 0.2524 - val_loss: 6020008.1122 - val_acc: 0.2585\n",
      "Epoch 96/100\n",
      "4236/4236 [==============================] - 6s 1ms/step - loss: 58763.5937 - acc: 0.2524 - val_loss: 6193181.7991 - val_acc: 0.2585\n",
      "Epoch 97/100\n",
      "4236/4236 [==============================] - 6s 1ms/step - loss: 47870.3693 - acc: 0.2524 - val_loss: 6042805.0632 - val_acc: 0.2585\n",
      "Epoch 98/100\n",
      "4236/4236 [==============================] - 6s 2ms/step - loss: 45999.1911 - acc: 0.2524 - val_loss: 6168819.9431 - val_acc: 0.2585\n",
      "Epoch 99/100\n",
      "4236/4236 [==============================] - 6s 2ms/step - loss: 34437.1177 - acc: 0.2524 - val_loss: 6087175.8124 - val_acc: 0.2585\n",
      "Epoch 100/100\n",
      "4236/4236 [==============================] - 6s 2ms/step - loss: 55728.6153 - acc: 0.2524 - val_loss: 6158782.9129 - val_acc: 0.2585\n"
     ]
    }
   ],
   "source": [
    "history = model.fit(trainX, trainY, validation_data=(testX, testY), epochs=100, batch_size=8,\n",
    "                                 callbacks=[csv_logger]);"
   ]
  },
  {
   "cell_type": "code",
   "execution_count": 40,
   "metadata": {},
   "outputs": [],
   "source": [
    "model.save_weights(\"audio_model1.h5\")\n",
    "model_json = model.to_json()\n",
    "with open(\"audio_model1.json\", \"w\") as json_file:\n",
    "    json_file.write(model_json)"
   ]
  },
  {
   "cell_type": "code",
   "execution_count": 43,
   "metadata": {},
   "outputs": [
    {
     "name": "stdout",
     "output_type": "stream",
     "text": [
      "Test loss: 6.16e+06\n",
      "Test accuracy: 0.258\n"
     ]
    },
    {
     "data": {
      "image/png": "[encoded data removed]",
      "text/plain": [
       "<Figure size 360x360 with 1 Axes>"
      ]
     },
     "metadata": {
      "needs_background": "light"
     },
     "output_type": "display_data"
    }
   ],
   "source": [
    "loss, accuracy  = model.evaluate(testX, testY, verbose=False)\n",
    "print(f'Test loss: {loss:.3}')\n",
    "print(f'Test accuracy: {accuracy:.3}')\n",
    "fig, ax = plt.subplots(1, 1, figsize=(5,5))\n",
    "ax.plot((history.history['acc']), 'r', label='train')\n",
    "ax.plot((history.history['val_acc']), 'b' ,label='val')\n",
    "ax.set_xlabel(r'Epoch', fontsize=20)\n",
    "ax.set_ylabel(r'Accuracy', fontsize=20)\n",
    "ax.legend()\n",
    "ax.tick_params(labelsize=20)"
   ]
  },
  {
   "cell_type": "code",
   "execution_count": 45,
   "metadata": {},
   "outputs": [],
   "source": [
    "y_pred = model.predict(np.expand_dims(x.reshape(x.shape[0], w_rh, h_rh), axis = -1))\n"
   ]
  },
  {
   "cell_type": "code",
   "execution_count": 46,
   "metadata": {},
   "outputs": [
    {
     "name": "stdout",
     "output_type": "stream",
     "text": [
      "Model test MSE: 0.16286570165047512\n"
     ]
    }
   ],
   "source": [
    "print('Model test MSE: {}'.format(mean_squared_error(y_pred, y)))\n"
   ]
  },
  {
   "cell_type": "code",
   "execution_count": 49,
   "metadata": {},
   "outputs": [
    {
     "data": {
      "text/plain": [
       "0"
      ]
     },
     "execution_count": 49,
     "metadata": {},
     "output_type": "execute_result"
    }
   ],
   "source": [
    "(y_pred > 0.1).sum()"
   ]
  },
  {
   "cell_type": "markdown",
   "metadata": {},
   "source": [
    "*Not good - no hotness predicted*"
   ]
  }
 ],
 "metadata": {
  "kernelspec": {
   "display_name": "Python 3",
   "language": "python",
   "name": "python3"
  },
  "language_info": {
   "codemirror_mode": {
    "name": "ipython",
    "version": 3
   },
   "file_extension": ".py",
   "mimetype": "text/x-python",
   "name": "python",
   "nbconvert_exporter": "python",
   "pygments_lexer": "ipython3",
   "version": "3.6.8"
  }
 },
 "nbformat": 4,
 "nbformat_minor": 2
}
