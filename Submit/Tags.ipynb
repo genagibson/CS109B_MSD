{
 "cells": [
  {
   "cell_type": "markdown",
   "metadata": {},
   "source": [
    "## Overview"
   ]
  },
  {
   "cell_type": "markdown",
   "metadata": {},
   "source": [
    "In this notebook, we will look at the artist tag information in the subset of the Million Song Dataset. \n",
    "\n",
    "We will see if this information can be used to predict a songs hotness (or 'song_hotttnesss' as it is called in the dataset). The artist tags will be changed into stemmed form, and we will use both classification as well as regression models to check the usefulness of this information in the dataset."
   ]
  },
  {
   "cell_type": "markdown",
   "metadata": {},
   "source": [
    "### Preparation"
   ]
  },
  {
   "cell_type": "code",
   "execution_count": 1,
   "metadata": {},
   "outputs": [
    {
     "data": {
      "text/html": [
       "<style>\n",
       "blockquote { background: #AEDE94; }\n",
       "h1 { \n",
       "    padding-top: 25px;\n",
       "    padding-bottom: 25px;\n",
       "    text-align: left; \n",
       "    padding-left: 10px;\n",
       "    background-color: #DDDDDD; \n",
       "    color: black;\n",
       "}\n",
       "h2 { \n",
       "    padding-top: 10px;\n",
       "    padding-bottom: 10px;\n",
       "    text-align: left; \n",
       "    padding-left: 5px;\n",
       "    background-color: #EEEEEE; \n",
       "    color: black;\n",
       "}\n",
       "\n",
       "div.exercise {\n",
       "\tbackground-color: #ffcccc;\n",
       "\tborder-color: #E9967A; \t\n",
       "\tborder-left: 5px solid #800080; \n",
       "\tpadding: 0.5em;\n",
       "}\n",
       "\n",
       "span.sub-q {\n",
       "\tfont-weight: bold;\n",
       "}\n",
       "div.theme {\n",
       "\tbackground-color: #DDDDDD;\n",
       "\tborder-color: #E9967A; \t\n",
       "\tborder-left: 5px solid #800080; \n",
       "\tpadding: 0.5em;\n",
       "\tfont-size: 18pt;\n",
       "}\n",
       "div.gc { \n",
       "\tbackground-color: #AEDE94;\n",
       "\tborder-color: #E9967A; \t \n",
       "\tborder-left: 5px solid #800080; \n",
       "\tpadding: 0.5em;\n",
       "\tfont-size: 12pt;\n",
       "}\n",
       "p.q1 { \n",
       "    padding-top: 5px;\n",
       "    padding-bottom: 5px;\n",
       "    text-align: left; \n",
       "    padding-left: 5px;\n",
       "    background-color: #EEEEEE; \n",
       "    color: black;\n",
       "}\n",
       "header {\n",
       "   padding-top: 35px;\n",
       "    padding-bottom: 35px;\n",
       "    text-align: left; \n",
       "    padding-left: 10px;\n",
       "    background-color: #DDDDDD; \n",
       "    color: black;\n",
       "}\n",
       "</style>\n",
       "\n"
      ],
      "text/plain": [
       "<IPython.core.display.HTML object>"
      ]
     },
     "execution_count": 1,
     "metadata": {},
     "output_type": "execute_result"
    }
   ],
   "source": [
    "import requests\n",
    "from IPython.core.display import HTML\n",
    "styles = requests.get(\"https://raw.githubusercontent.com/Harvard-IACS/2018-CS109A/master/content/styles/cs109.css\").text\n",
    "HTML(styles)"
   ]
  },
  {
   "cell_type": "code",
   "execution_count": 27,
   "metadata": {},
   "outputs": [],
   "source": [
    "import numpy as np\n",
    "import pandas as pd\n",
    "import re\n",
    "import operator\n",
    "import matplotlib.pyplot as plt\n",
    "from functools import reduce\n",
    "from collections import Counter\n",
    "\n",
    "from nltk.stem import PorterStemmer\n",
    "from nltk.tokenize import sent_tokenize, word_tokenize\n",
    "\n",
    "from sklearn.preprocessing import LabelEncoder\n",
    "from sklearn.preprocessing import OneHotEncoder\n",
    "from sklearn.preprocessing import MultiLabelBinarizer\n",
    "from sklearn.preprocessing import StandardScaler\n",
    "\n",
    "from sklearn.model_selection import cross_val_score\n",
    "from sklearn.model_selection import learning_curve\n",
    "from sklearn.model_selection import ShuffleSplit\n",
    "from sklearn.model_selection import train_test_split\n",
    "from sklearn.model_selection import learning_curve\n",
    "from sklearn.model_selection import StratifiedKFold\n",
    "from sklearn.model_selection import KFold\n",
    "\n",
    "from sklearn.feature_selection import VarianceThreshold\n",
    "from sklearn.decomposition import PCA\n",
    "from sklearn.naive_bayes import GaussianNB\n",
    "from sklearn.svm import SVC\n",
    "from sklearn import ensemble\n",
    "from sklearn.utils import shuffle\n",
    "from sklearn.neural_network import MLPClassifier\n",
    "from sklearn.neighbors import KNeighborsClassifier\n",
    "from sklearn.gaussian_process import GaussianProcessClassifier\n",
    "from sklearn.gaussian_process.kernels import RBF\n",
    "from sklearn.tree import DecisionTreeClassifier\n",
    "from sklearn.ensemble import RandomForestClassifier, AdaBoostClassifier\n",
    "from sklearn.discriminant_analysis import QuadraticDiscriminantAnalysis\n",
    "from sklearn.pipeline import Pipeline\n",
    "from sklearn.metrics import classification_report, confusion_matrix, mean_squared_error, accuracy_score\n",
    "    \n",
    "from keras.layers.convolutional import MaxPooling1D#, MaxPooling2D\n",
    "from keras.wrappers.scikit_learn import KerasRegressor\n",
    "from keras.models import Sequential, Input, Model\n",
    "from keras.layers import Dense, Conv1D, BatchNormalization, Activation, Dropout, GRU\n",
    "from keras.optimizers import SGD, Adam, RMSprop\n",
    "from keras.wrappers.scikit_learn import KerasClassifier\n",
    "from keras import backend"
   ]
  },
  {
   "cell_type": "code",
   "execution_count": 3,
   "metadata": {},
   "outputs": [
    {
     "data": {
      "text/html": [
       "<style>.container { width:100% !important; }</style>"
      ],
      "text/plain": [
       "<IPython.core.display.HTML object>"
      ]
     },
     "metadata": {},
     "output_type": "display_data"
    }
   ],
   "source": [
    "#Increase notebook size to take the full width of the screen\n",
    "\n",
    "from IPython.core.display import display, HTML\n",
    "display(HTML(\"<style>.container { width:100% !important; }</style>\"))"
   ]
  },
  {
   "cell_type": "markdown",
   "metadata": {},
   "source": [
    "### Load dataset"
   ]
  },
  {
   "cell_type": "code",
   "execution_count": 4,
   "metadata": {},
   "outputs": [
    {
     "name": "stdout",
     "output_type": "stream",
     "text": [
      "Number of songs missing \"song hotness\": 43.5%\n",
      "(10000, 54)\n"
     ]
    }
   ],
   "source": [
    "# Load the selected dataset, and check for missing 'song hotness'\n",
    "\n",
    "subset_full = pd.read_csv('subset_full.csv')\n",
    "subset_full = subset_full.drop(columns=['Unnamed: 0'])\n",
    "missing = subset_full['song_hotttnesss'].isna().sum() / len(subset_full)*100\n",
    "print('Number of songs missing \"song hotness\": {}%'.format(np.around(missing, 1)))\n",
    "print(subset_full.shape)"
   ]
  },
  {
   "cell_type": "code",
   "execution_count": 5,
   "metadata": {},
   "outputs": [
    {
     "name": "stdout",
     "output_type": "stream",
     "text": [
      "Number of songs missing \"song hotness\": 0.0%\n",
      "(5648, 54)\n"
     ]
    }
   ],
   "source": [
    "# Select only the data with song_hotness, and confirm\n",
    "\n",
    "subset_full = subset_full.dropna(subset = ['song_hotttnesss'])\n",
    "missing = subset_full['song_hotttnesss'].isna().sum() / len(subset_full)*100\n",
    "print('Number of songs missing \"song hotness\": {}%'.format(np.around(missing, 1)))\n",
    "print(subset_full.shape)"
   ]
  },
  {
   "cell_type": "code",
   "execution_count": 6,
   "metadata": {},
   "outputs": [
    {
     "data": {
      "text/plain": [
       "(5648, 54)"
      ]
     },
     "execution_count": 6,
     "metadata": {},
     "output_type": "execute_result"
    }
   ],
   "source": [
    "# Select only the data artist terms, as this is what will be used in this notebook\n",
    "\n",
    "subset_full = subset_full.dropna(subset = ['artist_terms'])\n",
    "subset_full.shape"
   ]
  },
  {
   "cell_type": "code",
   "execution_count": 7,
   "metadata": {},
   "outputs": [],
   "source": [
    "# Remove the columns that are not related to this. Most are covered in other notebooks\n",
    "\n",
    "tagrelated_columns = ['song_hotttnesss','track_id', 'artist_terms', 'artist_terms_freq', 'artist_terms_weight']\n",
    "data = subset_full[tagrelated_columns]\n",
    "data = data.reset_index().drop(columns=['index'])\n",
    "\n",
    "# Start process of splitting up terms\n",
    "data['artist_terms'] = data['artist_terms'].str.split('\\'')\n",
    "data['artist_terms'] = data['artist_terms'].str[1:]"
   ]
  },
  {
   "cell_type": "code",
   "execution_count": 8,
   "metadata": {},
   "outputs": [
    {
     "data": {
      "text/html": [
       "<div>\n",
       "<style scoped>\n",
       "    .dataframe tbody tr th:only-of-type {\n",
       "        vertical-align: middle;\n",
       "    }\n",
       "\n",
       "    .dataframe tbody tr th {\n",
       "        vertical-align: top;\n",
       "    }\n",
       "\n",
       "    .dataframe thead th {\n",
       "        text-align: right;\n",
       "    }\n",
       "</style>\n",
       "<table border=\"1\" class=\"dataframe\">\n",
       "  <thead>\n",
       "    <tr style=\"text-align: right;\">\n",
       "      <th></th>\n",
       "      <th>song_hotttnesss</th>\n",
       "      <th>track_id</th>\n",
       "      <th>artist_terms</th>\n",
       "      <th>artist_terms_freq</th>\n",
       "      <th>artist_terms_weight</th>\n",
       "    </tr>\n",
       "  </thead>\n",
       "  <tbody>\n",
       "    <tr>\n",
       "      <th>0</th>\n",
       "      <td>0.602120</td>\n",
       "      <td>TRAAAAW128F429D538</td>\n",
       "      <td>[hip hop,  , underground rap,  , g funk,  , al...</td>\n",
       "      <td>[1.         0.77613623 0.72966979 0.68301072 0...</td>\n",
       "      <td>[1.         0.89793596 0.88426185 0.84262975 0...</td>\n",
       "    </tr>\n",
       "    <tr>\n",
       "      <th>1</th>\n",
       "      <td>0.604501</td>\n",
       "      <td>TRAAAFD128F92F423A</td>\n",
       "      <td>[pop punk,  , ska punk,  , breakcore,  , alter...</td>\n",
       "      <td>[0.8872883  0.79020373 0.79020373 0.79020373 0...</td>\n",
       "      <td>[1.         0.96090574 0.95923662 0.94674975 0...</td>\n",
       "    </tr>\n",
       "    <tr>\n",
       "      <th>2</th>\n",
       "      <td>0.265861</td>\n",
       "      <td>TRAAARJ128F9320760</td>\n",
       "      <td>[new wave,  , progressive rock,  , space rock,...</td>\n",
       "      <td>[0.95976625 0.97039005 0.82199342 0.82199342 0...</td>\n",
       "      <td>[1.         0.98696192 0.98306453 0.96580916 0...</td>\n",
       "    </tr>\n",
       "    <tr>\n",
       "      <th>3</th>\n",
       "      <td>0.000000</td>\n",
       "      <td>TRAAAVO128F93133D4</td>\n",
       "      <td>[alternative rock,  , indie rock,  , rock,  , ...</td>\n",
       "      <td>[0.95608075 0.92130641 1.         0.68760239 0...</td>\n",
       "      <td>[1.         0.95787086 0.95089056 0.93066094 0...</td>\n",
       "    </tr>\n",
       "    <tr>\n",
       "      <th>4</th>\n",
       "      <td>0.265861</td>\n",
       "      <td>TRAABCL128F4286650</td>\n",
       "      <td>[ccm,  , religious music,  , los angeles,  , c...</td>\n",
       "      <td>[1.         0.87337884 0.82439509 0.82439509 0...</td>\n",
       "      <td>[1.         0.90446866 0.86751209 0.84218695 0...</td>\n",
       "    </tr>\n",
       "  </tbody>\n",
       "</table>\n",
       "</div>"
      ],
      "text/plain": [
       "   song_hotttnesss            track_id  \\\n",
       "0         0.602120  TRAAAAW128F429D538   \n",
       "1         0.604501  TRAAAFD128F92F423A   \n",
       "2         0.265861  TRAAARJ128F9320760   \n",
       "3         0.000000  TRAAAVO128F93133D4   \n",
       "4         0.265861  TRAABCL128F4286650   \n",
       "\n",
       "                                        artist_terms  \\\n",
       "0  [hip hop,  , underground rap,  , g funk,  , al...   \n",
       "1  [pop punk,  , ska punk,  , breakcore,  , alter...   \n",
       "2  [new wave,  , progressive rock,  , space rock,...   \n",
       "3  [alternative rock,  , indie rock,  , rock,  , ...   \n",
       "4  [ccm,  , religious music,  , los angeles,  , c...   \n",
       "\n",
       "                                   artist_terms_freq  \\\n",
       "0  [1.         0.77613623 0.72966979 0.68301072 0...   \n",
       "1  [0.8872883  0.79020373 0.79020373 0.79020373 0...   \n",
       "2  [0.95976625 0.97039005 0.82199342 0.82199342 0...   \n",
       "3  [0.95608075 0.92130641 1.         0.68760239 0...   \n",
       "4  [1.         0.87337884 0.82439509 0.82439509 0...   \n",
       "\n",
       "                                 artist_terms_weight  \n",
       "0  [1.         0.89793596 0.88426185 0.84262975 0...  \n",
       "1  [1.         0.96090574 0.95923662 0.94674975 0...  \n",
       "2  [1.         0.98696192 0.98306453 0.96580916 0...  \n",
       "3  [1.         0.95787086 0.95089056 0.93066094 0...  \n",
       "4  [1.         0.90446866 0.86751209 0.84218695 0...  "
      ]
     },
     "execution_count": 8,
     "metadata": {},
     "output_type": "execute_result"
    }
   ],
   "source": [
    "# Confirm data\n",
    "\n",
    "data.head()"
   ]
  },
  {
   "cell_type": "code",
   "execution_count": 9,
   "metadata": {},
   "outputs": [],
   "source": [
    "# Split the artist terms into separate keywords, as well as create list of all possible keywords\n",
    "\n",
    "data['terms_count'] = 0\n",
    "data = data.astype('object')\n",
    "all_terms = []\n",
    "\n",
    "for i,x in enumerate(data.iterrows()):\n",
    "    data['artist_terms'].astype(object)\n",
    "    temp = []\n",
    "    for y in x[1][2]:\n",
    "        if re.search('[a-zA-Z]', y):\n",
    "            temp.append(y)\n",
    "    data.loc[i,'artist_terms'] = temp\n",
    "    data.loc[i,'terms_count'] = len(temp)\n",
    "    all_terms.append(temp)"
   ]
  },
  {
   "cell_type": "code",
   "execution_count": 10,
   "metadata": {},
   "outputs": [],
   "source": [
    "# Each song has a separate list within a list of its terms\n",
    "# Create one large list of all possible terms \n",
    "\n",
    "flat_all_terms = reduce(operator.concat, all_terms)"
   ]
  },
  {
   "cell_type": "code",
   "execution_count": 11,
   "metadata": {},
   "outputs": [
    {
     "name": "stdout",
     "output_type": "stream",
     "text": [
      "There are a total of 3100 different artist terms used in the dataset\n"
     ]
    }
   ],
   "source": [
    "# Create a counter of how many times each term is used\n",
    "\n",
    "count_all_terms = Counter(flat_all_terms)\n",
    "print(\"There are a total of {} different artist terms used in the dataset\".format(len(count_all_terms)))"
   ]
  },
  {
   "cell_type": "markdown",
   "metadata": {},
   "source": [
    "### Select the appropriate number of terms to test for"
   ]
  },
  {
   "cell_type": "markdown",
   "metadata": {},
   "source": [
    "There are a total of 3100 artist terms in use. Some terms are used very rarely, and hence do most likely not add value to our models."
   ]
  },
  {
   "cell_type": "markdown",
   "metadata": {},
   "source": [
    "Let us first look at the distribution of the terms:"
   ]
  },
  {
   "cell_type": "code",
   "execution_count": 12,
   "metadata": {},
   "outputs": [
    {
     "data": {
      "image/png": "[encoded data removed]",
      "text/plain": [
       "<Figure size 432x288 with 1 Axes>"
      ]
     },
     "metadata": {
      "needs_background": "light"
     },
     "output_type": "display_data"
    }
   ],
   "source": [
    "keys = count_all_terms.keys()\n",
    "y_pos = np.arange(len(keys))\n",
    "x_pos = count_all_terms.values()\n",
    "\n",
    "plt.bar(y_pos, x_pos, align='center', alpha=0.4)\n",
    "plt.xlabel('Tags')\n",
    "plt.ylabel('Songs tagged by this label')\n",
    "plt.title('Distribution of tag count')\n",
    "\n",
    "plt.show()"
   ]
  },
  {
   "cell_type": "markdown",
   "metadata": {},
   "source": [
    "There are a number of tags that are used for many songs, while there is a large tail of terms not used very often. \n",
    "\n",
    "Let us limit the terms to the ones used for more than 20 songs, and we will see the distribution looks better:"
   ]
  },
  {
   "cell_type": "code",
   "execution_count": 13,
   "metadata": {},
   "outputs": [
    {
     "name": "stdout",
     "output_type": "stream",
     "text": [
      "There is now 824 artist terms\n"
     ]
    }
   ],
   "source": [
    "min_threshold = 20\n",
    "\n",
    "for key, cnts in list(count_all_terms.items()):   \n",
    "    if cnts < min_threshold:\n",
    "        del count_all_terms[key]\n",
    "        \n",
    "print(\"There is now {} artist terms\".format(len(count_all_terms)))"
   ]
  },
  {
   "cell_type": "code",
   "execution_count": 14,
   "metadata": {},
   "outputs": [
    {
     "data": {
      "image/png": "[encoded data removed]",
      "text/plain": [
       "<Figure size 432x288 with 1 Axes>"
      ]
     },
     "metadata": {
      "needs_background": "light"
     },
     "output_type": "display_data"
    }
   ],
   "source": [
    "keys = count_all_terms.keys()\n",
    "y_pos = np.arange(len(keys))\n",
    "x_pos = count_all_terms.values()\n",
    "\n",
    "plt.bar(y_pos, x_pos, align='center', alpha=0.4)\n",
    "plt.xlabel('Tags')\n",
    "plt.ylabel('Songs tagged by this label')\n",
    "plt.title('Distribution of tag count')\n",
    "\n",
    "plt.show()"
   ]
  },
  {
   "cell_type": "markdown",
   "metadata": {},
   "source": [
    "### Stemming\n",
    "\n",
    "To ensure that the artist terms are as common as possible among the different songs, do we implement stemming. \n",
    "\n",
    "Let's build a dictionary of all the artist terms used in more than 20 songs, in stemmed form:"
   ]
  },
  {
   "cell_type": "code",
   "execution_count": 15,
   "metadata": {},
   "outputs": [],
   "source": [
    "ps = PorterStemmer()\n",
    "\n",
    "temp = []\n",
    "stem_dict = {}\n",
    "for w in count_all_terms.keys():\n",
    "    s = ps.stem(w)\n",
    "    temp.append(s)\n",
    "    stem_dict[w] = s"
   ]
  },
  {
   "cell_type": "markdown",
   "metadata": {},
   "source": [
    "We need to put the stemmed forms back into the dataset we are working with:"
   ]
  },
  {
   "cell_type": "code",
   "execution_count": 16,
   "metadata": {},
   "outputs": [],
   "source": [
    "data = data.astype('object')\n",
    "\n",
    "for i,x in enumerate(data.iterrows()):\n",
    "    temp = []\n",
    "    for y in x[1][2]:\n",
    "        if y in stem_dict.keys():\n",
    "            temp.append(stem_dict[y])\n",
    "\n",
    "    data.loc[i,'artist_terms'] = temp"
   ]
  },
  {
   "cell_type": "markdown",
   "metadata": {},
   "source": [
    "And we need to make a one hot encoded version of the dataframe, that is more suitable for the models we want to run: "
   ]
  },
  {
   "cell_type": "code",
   "execution_count": 17,
   "metadata": {},
   "outputs": [],
   "source": [
    "data2 = data.copy()\n",
    "df = pd.DataFrame()\n",
    "mlb = MultiLabelBinarizer()\n",
    "data3 = data.join(pd.DataFrame(mlb.fit_transform(data2.pop('artist_terms')),\n",
    "                          columns=mlb.classes_,\n",
    "                          index=data2.index))\n",
    "data3 = data3.drop(columns=['\\n \"rock ',' \"rock '])"
   ]
  },
  {
   "cell_type": "markdown",
   "metadata": {},
   "source": [
    "Let's split the data into target and predictor sets:"
   ]
  },
  {
   "cell_type": "code",
   "execution_count": 21,
   "metadata": {},
   "outputs": [
    {
     "name": "stderr",
     "output_type": "stream",
     "text": [
      "/usr/share/anaconda3/lib/python3.6/site-packages/sklearn/preprocessing/data.py:645: DataConversionWarning: Data with input dtype int64, object were all converted to float64 by StandardScaler.\n",
      "  return self.partial_fit(X, y)\n",
      "/usr/share/anaconda3/lib/python3.6/site-packages/sklearn/base.py:464: DataConversionWarning: Data with input dtype int64, object were all converted to float64 by StandardScaler.\n",
      "  return self.fit(X, **fit_params).transform(X)\n"
     ]
    }
   ],
   "source": [
    "y = data3['song_hotttnesss']\n",
    "\n",
    "x = data3.drop(columns=['song_hotttnesss','track_id', 'artist_terms_freq', 'artist_terms_weight', 'artist_terms'])\n",
    "\n",
    "x = StandardScaler().fit_transform(x)"
   ]
  },
  {
   "cell_type": "markdown",
   "metadata": {},
   "source": [
    "Let us also create two sets; one for classification, and one for regressions:"
   ]
  },
  {
   "cell_type": "code",
   "execution_count": 22,
   "metadata": {},
   "outputs": [],
   "source": [
    "# For regression\n",
    "y_regression = y.copy()"
   ]
  },
  {
   "cell_type": "code",
   "execution_count": 23,
   "metadata": {},
   "outputs": [
    {
     "name": "stdout",
     "output_type": "stream",
     "text": [
      "25.106232294617563 % of the songs are classified as hot, while the rest is not\n"
     ]
    }
   ],
   "source": [
    "# For classification\n",
    "# Simplify by only setting top 25% of song_hotness to be \"hot\" and the rest \"not\"\n",
    "\n",
    "def convert_y_to_categorical(cutoff = 0.75):\n",
    "    threshold = y.quantile(cutoff)\n",
    "    Y = [0 if i < threshold else 1 for i in y]\n",
    "    return np.array(Y)\n",
    "y = convert_y_to_categorical()\n",
    "y = y.astype('int')\n",
    "\n",
    "print(\"{} % of the songs are classified as hot, while the rest is not\".format(y.mean()*100))"
   ]
  },
  {
   "cell_type": "code",
   "execution_count": 25,
   "metadata": {},
   "outputs": [
    {
     "data": {
      "text/plain": [
       "((5083, 817), (5083,), (565, 817), (565,))"
      ]
     },
     "execution_count": 25,
     "metadata": {},
     "output_type": "execute_result"
    }
   ],
   "source": [
    "# Split into training and test sets\n",
    "\n",
    "x_train, x_test, y_train, y_test = train_test_split(x, y, test_size = 0.1, random_state = 42)\n",
    "x_train.shape, y_train.shape, x_test.shape, y_test.shape"
   ]
  },
  {
   "cell_type": "code",
   "execution_count": 29,
   "metadata": {
    "scrolled": true
   },
   "outputs": [
    {
     "name": "stdout",
     "output_type": "stream",
     "text": [
      "[1.84716069e-02 1.69379378e-02 1.40786195e-02 1.25247096e-02\n",
      " 1.14755055e-02 1.09660247e-02 1.02795156e-02 9.79184911e-03\n",
      " 9.32172346e-03 8.73483903e-03 8.64407461e-03 8.11433684e-03\n",
      " 7.93920779e-03 7.31021595e-03 6.73987394e-03 6.47597308e-03\n",
      " 6.35716144e-03 6.03926868e-03 5.90004375e-03 5.63005024e-03\n",
      " 5.53725476e-03 5.37664193e-03 5.25525215e-03 5.11773403e-03\n",
      " 4.99395700e-03 4.80611703e-03 4.65717311e-03 4.58715515e-03\n",
      " 4.50668433e-03 4.47027163e-03 4.35667994e-03 4.28022655e-03\n",
      " 4.22711016e-03 4.13766739e-03 4.11218718e-03 4.07629848e-03\n",
      " 4.04605809e-03 4.02367365e-03 3.90787868e-03 3.83413190e-03\n",
      " 3.76987085e-03 3.69299147e-03 3.66211595e-03 3.62328013e-03\n",
      " 3.55356701e-03 3.52369251e-03 3.46178468e-03 3.42783351e-03\n",
      " 3.39920096e-03 3.36663555e-03 3.32711477e-03 3.31326796e-03\n",
      " 3.29467194e-03 3.25125342e-03 3.21680849e-03 3.18997719e-03\n",
      " 3.16322153e-03 3.11595723e-03 3.08607377e-03 3.06107919e-03\n",
      " 3.03863214e-03 3.02658762e-03 2.97860418e-03 2.96343251e-03\n",
      " 2.92358292e-03 2.90163002e-03 2.87734012e-03 2.84743741e-03\n",
      " 2.79989628e-03 2.78397990e-03 2.78006652e-03 2.75564301e-03\n",
      " 2.73765932e-03 2.71568866e-03 2.69213169e-03 2.68147672e-03\n",
      " 2.65388418e-03 2.64273253e-03 2.63243484e-03 2.60464542e-03\n",
      " 2.58318715e-03 2.55723655e-03 2.54020389e-03 2.53214591e-03\n",
      " 2.52371982e-03 2.51398423e-03 2.48531157e-03 2.45749588e-03\n",
      " 2.44467583e-03 2.43710957e-03 2.41778925e-03 2.40386761e-03\n",
      " 2.39237725e-03 2.37927205e-03 2.37294491e-03 2.35816039e-03\n",
      " 2.33957532e-03 2.32746391e-03 2.31252140e-03 2.30960399e-03\n",
      " 2.29041429e-03 2.27416990e-03 2.26742683e-03 2.24695607e-03\n",
      " 2.23473665e-03 2.21353688e-03 2.21150641e-03 2.19090031e-03\n",
      " 2.17902350e-03 2.16976728e-03 2.16135658e-03 2.14967664e-03\n",
      " 2.14524866e-03 2.13505993e-03 2.12931716e-03 2.11590645e-03\n",
      " 2.11045093e-03 2.09011539e-03 2.08474873e-03 2.06398073e-03\n",
      " 2.05881854e-03 2.04567674e-03 2.03832155e-03 2.03679885e-03\n",
      " 2.03198526e-03 2.01208545e-03 2.00281749e-03 1.99756448e-03\n",
      " 1.98300255e-03 1.97222760e-03 1.97069574e-03 1.95740080e-03\n",
      " 1.94645469e-03 1.94056494e-03 1.93350320e-03 1.92888905e-03\n",
      " 1.92328281e-03 1.91534594e-03 1.89421886e-03 1.88369044e-03\n",
      " 1.87466415e-03 1.86525367e-03 1.85727730e-03 1.85280598e-03\n",
      " 1.84835102e-03 1.83887201e-03 1.83302761e-03 1.82411498e-03\n",
      " 1.81467821e-03 1.80025120e-03 1.80023276e-03 1.79852361e-03\n",
      " 1.78509414e-03 1.78089253e-03 1.77483567e-03 1.76479402e-03\n",
      " 1.75982948e-03 1.75627044e-03 1.73625423e-03 1.73328025e-03\n",
      " 1.72766735e-03 1.72228687e-03 1.71932538e-03 1.71300872e-03\n",
      " 1.70525752e-03 1.69700762e-03 1.69069830e-03 1.68346656e-03\n",
      " 1.67938381e-03 1.66838924e-03 1.66324832e-03 1.65636101e-03\n",
      " 1.64435249e-03 1.63786452e-03 1.63065418e-03 1.62500745e-03\n",
      " 1.61626502e-03 1.61368909e-03 1.60770154e-03 1.60080157e-03\n",
      " 1.59269585e-03 1.58961001e-03 1.57323698e-03 1.57155497e-03\n",
      " 1.56677910e-03 1.56217809e-03 1.55354003e-03 1.54545845e-03\n",
      " 1.54169505e-03 1.53800905e-03 1.53215401e-03 1.52601997e-03\n",
      " 1.52050830e-03 1.51492288e-03 1.50986419e-03 1.50089998e-03\n",
      " 1.49538631e-03 1.48470819e-03 1.48441692e-03 1.47843226e-03\n",
      " 1.47369566e-03 1.46385400e-03 1.46134561e-03 1.44896294e-03\n",
      " 1.44717859e-03 1.44368077e-03 1.43742741e-03 1.43175727e-03\n",
      " 1.42826911e-03 1.42059072e-03 1.41649053e-03 1.41316026e-03\n",
      " 1.41089492e-03 1.40362810e-03 1.39806768e-03 1.38488899e-03\n",
      " 1.38448667e-03 1.37661168e-03 1.36777222e-03 1.36712032e-03\n",
      " 1.36286020e-03 1.35643008e-03 1.35489097e-03 1.35147799e-03\n",
      " 1.34411858e-03 1.34066527e-03 1.33632801e-03 1.33168575e-03\n",
      " 1.32646601e-03 1.32022966e-03 1.31272822e-03 1.30884655e-03\n",
      " 1.30187602e-03 1.30050125e-03 1.29514796e-03 1.29079172e-03\n",
      " 1.28394191e-03 1.27937332e-03 1.27643798e-03 1.27256048e-03\n",
      " 1.26481843e-03 1.26140836e-03 1.25731504e-03 1.25418564e-03\n",
      " 1.25199589e-03 1.24746536e-03 1.24004820e-03 1.23613774e-03\n",
      " 1.23456304e-03 1.23175482e-03 1.22874767e-03 1.22625866e-03\n",
      " 1.22339024e-03 1.21562730e-03 1.20980679e-03 1.20840598e-03\n",
      " 1.20428686e-03 1.19712909e-03 1.19530368e-03 1.18909560e-03\n",
      " 1.18373743e-03 1.18201189e-03 1.17611263e-03 1.17050946e-03\n",
      " 1.16482731e-03 1.15829466e-03 1.15762854e-03 1.15410546e-03\n",
      " 1.15151315e-03 1.14266617e-03 1.13847520e-03 1.13823816e-03\n",
      " 1.13435550e-03 1.12979962e-03 1.12750720e-03 1.12322087e-03\n",
      " 1.11885383e-03 1.11636500e-03 1.11245716e-03 1.10644796e-03\n",
      " 1.10350175e-03 1.09410627e-03 1.09101600e-03 1.08666778e-03\n",
      " 1.08532545e-03 1.07685841e-03 1.07564232e-03 1.07326051e-03\n",
      " 1.07021483e-03 1.06836614e-03 1.06335152e-03 1.05707089e-03\n",
      " 1.05229744e-03 1.05122043e-03 1.04860373e-03 1.04330679e-03\n",
      " 1.03920936e-03 1.03609311e-03 1.03574539e-03 1.03029346e-03\n",
      " 1.02862111e-03 1.02482298e-03 1.02399727e-03 1.01916652e-03\n",
      " 1.01559924e-03 1.00878422e-03 1.00642031e-03 1.00404429e-03\n",
      " 9.98429980e-04 9.95889302e-04 9.91556222e-04 9.90221789e-04\n",
      " 9.88771245e-04 9.83647826e-04 9.79655844e-04 9.77478331e-04\n",
      " 9.75107028e-04 9.74035023e-04 9.65848043e-04 9.63715366e-04\n",
      " 9.59422415e-04 9.56387062e-04 9.54815172e-04 9.53160322e-04\n",
      " 9.47994179e-04 9.45284033e-04 9.43072489e-04 9.41432710e-04\n",
      " 9.34628032e-04 9.32432227e-04 9.29960088e-04 9.29173423e-04\n",
      " 9.23487465e-04 9.18222802e-04 9.12481238e-04 9.10288578e-04\n",
      " 9.09539904e-04 9.02539763e-04 8.97939747e-04 8.96493122e-04\n",
      " 8.94049938e-04 8.92703439e-04 8.89860303e-04 8.86677839e-04\n",
      " 8.84322786e-04 8.83378464e-04 8.76277453e-04 8.72960630e-04\n",
      " 8.69254181e-04 8.67226853e-04 8.64336897e-04 8.60110262e-04\n",
      " 8.58302412e-04 8.51332912e-04 8.49198326e-04 8.47618330e-04\n",
      " 8.44585128e-04 8.42158185e-04 8.40510193e-04 8.37754523e-04\n",
      " 8.35318806e-04 8.33757936e-04 8.28000265e-04 8.26114221e-04\n",
      " 8.22554770e-04 8.18035532e-04 8.16332366e-04 8.15920932e-04\n",
      " 8.13370868e-04 8.10406745e-04 8.09996058e-04 8.04229490e-04\n",
      " 8.01449390e-04 8.00121060e-04 7.94434168e-04 7.93419074e-04\n",
      " 7.90204422e-04 7.89487532e-04 7.84784733e-04 7.83218547e-04\n",
      " 7.80509024e-04 7.75793677e-04 7.73180546e-04 7.71735305e-04\n",
      " 7.68086248e-04 7.67542189e-04 7.65845494e-04 7.62922561e-04\n",
      " 7.57866060e-04 7.54959837e-04 7.53544867e-04 7.52447692e-04\n",
      " 7.49772352e-04 7.47762854e-04 7.46774184e-04 7.43619997e-04\n",
      " 7.41842937e-04 7.36302556e-04 7.31708108e-04 7.29430369e-04\n",
      " 7.27235891e-04 7.24223328e-04 7.22422976e-04 7.20414678e-04\n",
      " 7.18483767e-04 7.14130308e-04 7.10225459e-04 7.09033976e-04\n",
      " 7.07462537e-04 7.02925008e-04 7.01798459e-04 7.00083676e-04\n",
      " 6.96224188e-04 6.94897898e-04 6.92435797e-04 6.91498952e-04\n",
      " 6.90012366e-04 6.88283105e-04 6.84648929e-04 6.83532564e-04\n",
      " 6.82123197e-04 6.79649365e-04 6.77048023e-04 6.72773191e-04\n",
      " 6.69714019e-04 6.66823574e-04 6.65130766e-04 6.63161612e-04\n",
      " 6.59811687e-04 6.56756110e-04 6.56715899e-04 6.55398418e-04\n",
      " 6.54892350e-04 6.50789776e-04 6.47773230e-04 6.44093214e-04\n",
      " 6.41724905e-04 6.40560894e-04 6.38441387e-04 6.34558898e-04\n",
      " 6.31675007e-04 6.30441428e-04 6.26749337e-04 6.25665074e-04\n",
      " 6.24042883e-04 6.21020328e-04 6.20546828e-04 6.17574720e-04\n",
      " 6.17075644e-04 6.15910852e-04 6.09732985e-04 6.07937599e-04\n",
      " 6.07183595e-04 6.04955963e-04 6.03916833e-04 6.00111186e-04\n",
      " 5.99049947e-04 5.97202059e-04 5.95795016e-04 5.92456414e-04\n",
      " 5.90467733e-04 5.88891437e-04 5.86815361e-04 5.84364182e-04\n",
      " 5.81494388e-04 5.79238307e-04 5.76213089e-04 5.75675667e-04\n",
      " 5.74785888e-04 5.71039525e-04 5.70791894e-04 5.70211616e-04\n",
      " 5.65787852e-04 5.65421573e-04 5.63667365e-04 5.60774408e-04\n",
      " 5.57229858e-04 5.57099515e-04 5.55775213e-04 5.53073235e-04\n",
      " 5.50515992e-04 5.48670560e-04 5.45524908e-04 5.44332787e-04\n",
      " 5.42467100e-04 5.41374113e-04 5.39480157e-04 5.35558382e-04\n",
      " 5.33607337e-04 5.32854708e-04 5.30754249e-04 5.29956930e-04\n",
      " 5.26882286e-04 5.25485480e-04 5.23861317e-04 5.21401627e-04\n",
      " 5.19680103e-04 5.17780830e-04 5.15440899e-04 5.14285057e-04\n",
      " 5.13203411e-04 5.10367105e-04 5.07560841e-04 5.06491745e-04\n",
      " 5.05406939e-04 5.03981579e-04 5.02279625e-04 5.00365244e-04\n",
      " 4.99636116e-04 4.98512742e-04 4.94818618e-04 4.93041957e-04\n",
      " 4.92053527e-04 4.89062791e-04 4.87459314e-04 4.84916279e-04\n",
      " 4.82784545e-04 4.81590157e-04 4.80461616e-04 4.79608106e-04\n",
      " 4.77467045e-04 4.75754844e-04 4.72047779e-04 4.70010529e-04\n",
      " 4.67684436e-04 4.66842714e-04 4.66533182e-04 4.62316790e-04\n",
      " 4.61860718e-04 4.60439883e-04 4.59750213e-04 4.55697963e-04\n",
      " 4.54185489e-04 4.53649154e-04 4.52002309e-04 4.49745392e-04\n",
      " 4.49131438e-04 4.47194835e-04 4.45243934e-04 4.44968711e-04\n",
      " 4.43747105e-04 4.42502826e-04 4.39578814e-04 4.38934626e-04\n",
      " 4.36754181e-04 4.35029737e-04 4.33535935e-04 4.30950110e-04\n",
      " 4.30113568e-04 4.27346323e-04 4.26304716e-04 4.23654207e-04\n",
      " 4.23163513e-04 4.19329434e-04 4.18845191e-04 4.16769471e-04\n",
      " 4.15460723e-04 4.13859371e-04 4.12542153e-04 4.11888974e-04\n",
      " 4.10745738e-04 4.07981527e-04 4.07283800e-04 4.05212611e-04\n",
      " 4.04548169e-04 4.03749748e-04 4.02234057e-04 4.00477056e-04\n",
      " 3.98977716e-04 3.98753581e-04 3.97000971e-04 3.95273285e-04\n",
      " 3.93772905e-04 3.92903419e-04 3.91424281e-04 3.88551518e-04\n",
      " 3.87617791e-04 3.84676147e-04 3.83970811e-04 3.82477759e-04\n",
      " 3.81671064e-04 3.79589208e-04 3.77404658e-04 3.76793086e-04\n",
      " 3.75138102e-04 3.74972346e-04 3.73338764e-04 3.72605014e-04\n",
      " 3.70218140e-04 3.67810551e-04 3.67724747e-04 3.66461725e-04\n",
      " 3.63461553e-04 3.61903853e-04 3.61042724e-04 3.59478771e-04\n",
      " 3.58334338e-04 3.57398591e-04 3.55680394e-04 3.53108238e-04\n",
      " 3.52815775e-04 3.51739370e-04 3.50671541e-04 3.49956141e-04\n",
      " 3.48203112e-04 3.46070130e-04 3.45332001e-04 3.44754985e-04\n",
      " 3.42165043e-04 3.39941148e-04 3.39822967e-04 3.39380426e-04\n",
      " 3.36606425e-04 3.34704519e-04 3.33817932e-04 3.33406315e-04\n",
      " 3.31869728e-04 3.30409490e-04 3.29370683e-04 3.28393555e-04\n",
      " 3.26413939e-04 3.25220788e-04 3.24504323e-04 3.22675313e-04\n",
      " 3.20688537e-04 3.19612913e-04 3.18303707e-04 3.15265107e-04\n",
      " 3.14778745e-04 3.14578805e-04 3.13425933e-04 3.12194583e-04\n",
      " 3.09091490e-04 3.08106543e-04 3.07644247e-04 3.06522387e-04\n",
      " 3.04437535e-04 3.03778679e-04 3.02320441e-04 3.01798794e-04\n",
      " 3.00531579e-04 2.98629057e-04 2.97328090e-04 2.96923466e-04\n",
      " 2.95975032e-04 2.93582871e-04 2.92792024e-04 2.91456201e-04\n",
      " 2.90442393e-04 2.89828910e-04 2.87928730e-04 2.86734305e-04\n",
      " 2.85913046e-04 2.83841039e-04 2.83147513e-04 2.82290166e-04\n",
      " 2.81831570e-04 2.80302067e-04 2.79280091e-04 2.76694236e-04\n",
      " 2.75994226e-04 2.74805599e-04 2.74134327e-04 2.72111268e-04\n",
      " 2.71279112e-04 2.69747081e-04 2.68012307e-04 2.66495808e-04\n",
      " 2.65906743e-04 2.63979734e-04 2.62417079e-04 2.61244089e-04\n",
      " 2.59839671e-04 2.59099900e-04 2.58537006e-04 2.58044945e-04\n",
      " 2.57470957e-04 2.55976332e-04 2.53552442e-04 2.52375424e-04\n",
      " 2.50721365e-04 2.49650312e-04 2.48497845e-04 2.48423726e-04\n",
      " 2.47113778e-04 2.46149815e-04 2.44929955e-04 2.42884885e-04\n",
      " 2.41878895e-04 2.40707047e-04 2.39770792e-04 2.38793612e-04\n",
      " 2.38024454e-04 2.36971481e-04 2.34732292e-04 2.34322923e-04\n",
      " 2.32560511e-04 2.32000088e-04 2.31567051e-04 2.31432752e-04\n",
      " 2.30437797e-04 2.28233564e-04 2.26330453e-04 2.25232381e-04\n",
      " 2.23699339e-04 2.23178563e-04 2.22086239e-04 2.21215937e-04\n",
      " 2.20122950e-04 2.18912075e-04 2.17107484e-04 2.17073886e-04\n",
      " 2.16786404e-04 2.15038827e-04 2.13419743e-04 2.12700667e-04\n",
      " 2.11726825e-04 2.09162976e-04 2.07803302e-04 2.06080753e-04\n",
      " 2.05704254e-04 2.05410441e-04 2.02925947e-04 2.02688895e-04\n",
      " 2.01293704e-04 2.00589443e-04 1.99567158e-04 1.97749824e-04\n",
      " 1.95984928e-04 1.94779486e-04 1.94267751e-04 1.92962376e-04\n",
      " 1.92517161e-04 1.91520806e-04 1.90616057e-04 1.88942528e-04\n",
      " 1.88419058e-04 1.87461847e-04 1.85727286e-04 1.84573762e-04\n",
      " 1.83219266e-04 1.81985057e-04 1.81733541e-04 1.79568438e-04\n",
      " 1.78722923e-04 1.77220458e-04 1.76787787e-04 1.74285141e-04\n",
      " 1.74105158e-04 1.73272362e-04 1.72183102e-04 1.70542749e-04\n",
      " 1.69499542e-04 1.68467312e-04 1.67445242e-04 1.66419664e-04\n",
      " 1.66031080e-04 1.64638215e-04 1.62097528e-04 1.60698006e-04\n",
      " 1.60343524e-04 1.59696389e-04 1.58492594e-04 1.57182097e-04\n",
      " 1.56711179e-04 1.56320942e-04 1.54399358e-04 1.53292050e-04\n",
      " 1.52673777e-04 1.50082534e-04 1.48586219e-04 1.47794430e-04\n",
      " 1.47109605e-04 1.45760613e-04 1.44240851e-04 1.43418724e-04\n",
      " 1.42313269e-04 1.41960411e-04 1.40867240e-04 1.39978648e-04\n",
      " 1.38469714e-04 1.36452831e-04 1.35836141e-04 1.33725137e-04\n",
      " 1.33047692e-04 1.32333016e-04 1.30910484e-04 1.28650158e-04\n",
      " 1.27992671e-04 1.25960657e-04 1.23695951e-04 1.22815707e-04\n",
      " 1.21143346e-04 1.20560785e-04 1.20147209e-04 1.18657155e-04\n",
      " 1.17084263e-04 1.16270314e-04 1.15612438e-04 1.13034737e-04\n",
      " 1.09934417e-04 1.09289110e-04 1.06462029e-04 1.06353963e-04\n",
      " 1.03135496e-04 1.01598562e-04 1.00937457e-04 9.99145963e-05\n",
      " 9.54510152e-05 9.37201682e-05 9.06008258e-05 6.84247562e-05\n",
      " 6.80484758e-05 6.45696299e-05 6.10681597e-05 5.76013748e-05\n",
      " 1.30551521e-05]\n"
     ]
    },
    {
     "data": {
      "image/png": "[encoded data removed]",
      "text/plain": [
       "<Figure size 288x216 with 1 Axes>"
      ]
     },
     "metadata": {
      "needs_background": "light"
     },
     "output_type": "display_data"
    }
   ],
   "source": [
    "# First, check PCA if any variables differ from the rest \n",
    "pca_all = PCA()\n",
    "pca_all.fit(x_train)\n",
    "plt.figure(1, figsize=(4, 3))\n",
    "plt.clf()\n",
    "plt.axes([.2, .2, .7, .7])\n",
    "plt.plot(pca_all.explained_variance_, linewidth=2)\n",
    "plt.axis('tight')\n",
    "plt.xlabel('Number of components')\n",
    "plt.ylabel('Explained variance')\n",
    "print(pca_all.explained_variance_ratio_)"
   ]
  },
  {
   "cell_type": "markdown",
   "metadata": {},
   "source": [
    "## Classifications"
   ]
  },
  {
   "cell_type": "markdown",
   "metadata": {},
   "source": [
    "### First, let's run a number of standard algoritms and see what we get:"
   ]
  },
  {
   "cell_type": "code",
   "execution_count": 30,
   "metadata": {},
   "outputs": [],
   "source": [
    "names = [\"Nearest Neighbors\", \"Linear SVM\", \"RBF SVM\", \"Gaussian Process\",\n",
    "         \"Decision Tree\", \"Random Forest\", \"Neural Net\", \"AdaBoost\",\n",
    "         \"Naive Bayes\", \"QDA\"]\n",
    "\n",
    "classifiers = [\n",
    "    KNeighborsClassifier(3),\n",
    "    SVC(kernel=\"linear\", C=0.025),\n",
    "    SVC(gamma=2, C=1),\n",
    "    GaussianProcessClassifier(1.0 * RBF(1.0)),\n",
    "    DecisionTreeClassifier(max_depth=5),\n",
    "    RandomForestClassifier(max_depth=5, n_estimators=10, max_features=1),\n",
    "    MLPClassifier(alpha=1),\n",
    "    AdaBoostClassifier(),\n",
    "    GaussianNB(),\n",
    "    QuadraticDiscriminantAnalysis()]"
   ]
  },
  {
   "cell_type": "code",
   "execution_count": 31,
   "metadata": {},
   "outputs": [
    {
     "name": "stdout",
     "output_type": "stream",
     "text": [
      "The test score for the Nearest Neighbors is 0.789381\n",
      "The test score for the Linear SVM is 0.775221\n",
      "The test score for the RBF SVM is 0.803540\n",
      "The test score for the Gaussian Process is 0.800000\n",
      "The test score for the Decision Tree is 0.789381\n",
      "The test score for the Random Forest is 0.757522\n",
      "The test score for the Neural Net is 0.808850\n",
      "The test score for the AdaBoost is 0.784071\n",
      "The test score for the Naive Bayes is 0.527434\n",
      "The test score for the QDA is 0.745133\n"
     ]
    },
    {
     "name": "stderr",
     "output_type": "stream",
     "text": [
      "/usr/share/anaconda3/lib/python3.6/site-packages/sklearn/discriminant_analysis.py:692: UserWarning: Variables are collinear\n",
      "  warnings.warn(\"Variables are collinear\")\n"
     ]
    }
   ],
   "source": [
    "    # iterate over classifiers\n",
    "    for name, clf in zip(names, classifiers):\n",
    "        clf.fit(x_train, y_train)\n",
    "        score = clf.score(x_test, y_test)\n",
    "        print(\"The test score for the {} is {:f}\".format(name, score))"
   ]
  },
  {
   "cell_type": "markdown",
   "metadata": {},
   "source": [
    "### Let us select two of the algoritms above, and run them with cross validation"
   ]
  },
  {
   "cell_type": "code",
   "execution_count": 32,
   "metadata": {},
   "outputs": [
    {
     "data": {
      "image/png": "[encoded data removed]",
      "text/plain": [
       "<Figure size 432x288 with 1 Axes>"
      ]
     },
     "metadata": {
      "needs_background": "light"
     },
     "output_type": "display_data"
    },
    {
     "data": {
      "image/png": "[encoded data removed]",
      "text/plain": [
       "<Figure size 432x288 with 1 Axes>"
      ]
     },
     "metadata": {
      "needs_background": "light"
     },
     "output_type": "display_data"
    }
   ],
   "source": [
    "def plot_learning_curve(estimator, title, X, y, ylim=None, cv=None,\n",
    "                        n_jobs=None, train_sizes=np.linspace(.1, 1.0, 5)):\n",
    "    \"\"\"\n",
    "    Generate plot of the test and training learning curve.\n",
    "\n",
    "    \"\"\"\n",
    "    plt.figure()\n",
    "    plt.title(title)\n",
    "    if ylim is not None:\n",
    "        plt.ylim(*ylim)\n",
    "    plt.xlabel(\"Training examples\")\n",
    "    plt.ylabel(\"Score\")\n",
    "    train_sizes, train_scores, test_scores = learning_curve(estimator, X, y, cv=cv, n_jobs=n_jobs, train_sizes=train_sizes)\n",
    "    train_scores_mean = np.mean(train_scores, axis=1)\n",
    "    train_scores_std = np.std(train_scores, axis=1)\n",
    "    test_scores_mean = np.mean(test_scores, axis=1)\n",
    "    test_scores_std = np.std(test_scores, axis=1)\n",
    "    plt.grid()\n",
    "\n",
    "    plt.fill_between(train_sizes, train_scores_mean - train_scores_std,\n",
    "                     train_scores_mean + train_scores_std, alpha=0.1,\n",
    "                     color=\"r\")\n",
    "    plt.fill_between(train_sizes, test_scores_mean - test_scores_std,\n",
    "                     test_scores_mean + test_scores_std, alpha=0.1, color=\"g\")\n",
    "    plt.plot(train_sizes, train_scores_mean, 'o-', color=\"r\",\n",
    "             label=\"Training score\")\n",
    "    plt.plot(train_sizes, test_scores_mean, 'o-', color=\"g\",\n",
    "             label=\"Cross-validation score\")\n",
    "\n",
    "    plt.legend(loc=\"best\")\n",
    "    return plt\n",
    "\n",
    "# First model\n",
    "title = \"Learning Curves KNeighborsClassifier K=3\"\n",
    "cv = ShuffleSplit(n_splits=10, test_size=0.2, random_state=0)\n",
    "estimator = KNeighborsClassifier(3)\n",
    "plot_learning_curve(estimator, title, x_train, y_train, ylim=(0.7, 1.01), cv=cv, n_jobs=4)\n",
    "\n",
    "# Second model\n",
    "title = r\"Learning Curves (SVM, RBF kernel, $\\gamma=0.001$)\"\n",
    "cv = ShuffleSplit(n_splits=10, test_size=0.2, random_state=0)\n",
    "estimator = SVC(gamma=0.001)\n",
    "plot_learning_curve(estimator, title, x_train, y_train, (0.7, 1.01), cv=cv, n_jobs=4)\n",
    "\n",
    "plt.show()"
   ]
  },
  {
   "cell_type": "markdown",
   "metadata": {},
   "source": [
    "### Let us then try neural networks, and see if the results may improve"
   ]
  },
  {
   "cell_type": "code",
   "execution_count": 34,
   "metadata": {},
   "outputs": [],
   "source": [
    "# Set random seed for reproducibility\n",
    "\n",
    "seed = 7\n",
    "np.random.seed(seed)"
   ]
  },
  {
   "cell_type": "code",
   "execution_count": 35,
   "metadata": {},
   "outputs": [],
   "source": [
    "# Create a baseline model, to see what results we may get\n",
    "\n",
    "def create_baseline():\n",
    "    model = Sequential()\n",
    "    model.add(Dense(817, input_dim=817, kernel_initializer='normal', activation='relu'))\n",
    "    model.add(Dense(1, kernel_initializer='normal', activation='sigmoid'))\n",
    "    model.compile(loss='binary_crossentropy', optimizer='adam', metrics=['accuracy'])\n",
    "    return model"
   ]
  },
  {
   "cell_type": "code",
   "execution_count": 37,
   "metadata": {
    "scrolled": true
   },
   "outputs": [
    {
     "name": "stdout",
     "output_type": "stream",
     "text": [
      "Epoch 1/15\n",
      "3388/3388 [==============================] - 3s 880us/step - loss: 0.6821 - acc: 0.7586\n",
      "Epoch 2/15\n",
      "3388/3388 [==============================] - 2s 735us/step - loss: 0.3923 - acc: 0.8424\n",
      "Epoch 3/15\n",
      "3388/3388 [==============================] - 2s 733us/step - loss: 0.3345 - acc: 0.8654\n",
      "Epoch 4/15\n",
      "3388/3388 [==============================] - 3s 754us/step - loss: 0.3255 - acc: 0.8666\n",
      "Epoch 5/15\n",
      "3388/3388 [==============================] - 3s 784us/step - loss: 0.3025 - acc: 0.8805\n",
      "Epoch 6/15\n",
      "3388/3388 [==============================] - 2s 735us/step - loss: 0.3079 - acc: 0.8813\n",
      "Epoch 7/15\n",
      "3388/3388 [==============================] - 2s 732us/step - loss: 0.2812 - acc: 0.8902\n",
      "Epoch 8/15\n",
      "3388/3388 [==============================] - 3s 763us/step - loss: 0.2850 - acc: 0.8887\n",
      "Epoch 9/15\n",
      "3388/3388 [==============================] - 3s 786us/step - loss: 0.2716 - acc: 0.8940\n",
      "Epoch 10/15\n",
      "3388/3388 [==============================] - 2s 731us/step - loss: 0.2518 - acc: 0.8934\n",
      "Epoch 11/15\n",
      "3388/3388 [==============================] - 2s 731us/step - loss: 0.2693 - acc: 0.8905\n",
      "Epoch 12/15\n",
      "3388/3388 [==============================] - 3s 763us/step - loss: 0.2600 - acc: 0.8899\n",
      "Epoch 13/15\n",
      "3388/3388 [==============================] - 3s 777us/step - loss: 0.2406 - acc: 0.8961\n",
      "Epoch 14/15\n",
      "3388/3388 [==============================] - 2s 731us/step - loss: 0.2434 - acc: 0.8929\n",
      "Epoch 15/15\n",
      "3388/3388 [==============================] - 2s 732us/step - loss: 0.2383 - acc: 0.8908\n",
      "1695/1695 [==============================] - 0s 276us/step\n",
      "Epoch 1/15\n",
      "3389/3389 [==============================] - 3s 880us/step - loss: 0.6907 - acc: 0.7518\n",
      "Epoch 2/15\n",
      "3389/3389 [==============================] - 3s 747us/step - loss: 0.3770 - acc: 0.8415\n",
      "Epoch 3/15\n",
      "3389/3389 [==============================] - 2s 732us/step - loss: 0.3430 - acc: 0.8678\n",
      "Epoch 4/15\n",
      "3389/3389 [==============================] - 3s 748us/step - loss: 0.3071 - acc: 0.8775\n",
      "Epoch 5/15\n",
      "3389/3389 [==============================] - 3s 783us/step - loss: 0.3145 - acc: 0.8775\n",
      "Epoch 6/15\n",
      "3389/3389 [==============================] - 3s 744us/step - loss: 0.2824 - acc: 0.8923\n",
      "Epoch 7/15\n",
      "3389/3389 [==============================] - 2s 736us/step - loss: 0.2925 - acc: 0.8861\n",
      "Epoch 8/15\n",
      "3389/3389 [==============================] - 3s 747us/step - loss: 0.2747 - acc: 0.8950\n",
      "Epoch 9/15\n",
      "3389/3389 [==============================] - 3s 778us/step - loss: 0.2652 - acc: 0.8908\n",
      "Epoch 10/15\n",
      "3389/3389 [==============================] - 2s 737us/step - loss: 0.2619 - acc: 0.8929\n",
      "Epoch 11/15\n",
      "3389/3389 [==============================] - 2s 732us/step - loss: 0.2588 - acc: 0.8988\n",
      "Epoch 12/15\n",
      "3389/3389 [==============================] - 3s 753us/step - loss: 0.2423 - acc: 0.8958\n",
      "Epoch 13/15\n",
      "3389/3389 [==============================] - 3s 793us/step - loss: 0.2409 - acc: 0.8967\n",
      "Epoch 14/15\n",
      "3389/3389 [==============================] - 3s 739us/step - loss: 0.2257 - acc: 0.9009\n",
      "Epoch 15/15\n",
      "3389/3389 [==============================] - 2s 734us/step - loss: 0.2446 - acc: 0.8997\n",
      "1694/1694 [==============================] - 0s 286us/step\n",
      "Epoch 1/15\n",
      "3389/3389 [==============================] - 3s 889us/step - loss: 0.6934 - acc: 0.7575\n",
      "Epoch 2/15\n",
      "3389/3389 [==============================] - 3s 762us/step - loss: 0.3715 - acc: 0.8454\n",
      "Epoch 3/15\n",
      "3389/3389 [==============================] - 2s 738us/step - loss: 0.3352 - acc: 0.8672\n",
      "Epoch 4/15\n",
      "3389/3389 [==============================] - 2s 737us/step - loss: 0.3198 - acc: 0.8764\n",
      "Epoch 5/15\n",
      "3389/3389 [==============================] - 3s 796us/step - loss: 0.3175 - acc: 0.8805\n",
      "Epoch 6/15\n",
      "3389/3389 [==============================] - 3s 750us/step - loss: 0.2902 - acc: 0.8885\n",
      "Epoch 7/15\n",
      "3389/3389 [==============================] - 2s 734us/step - loss: 0.2880 - acc: 0.8938\n",
      "Epoch 8/15\n",
      "3389/3389 [==============================] - 2s 734us/step - loss: 0.2593 - acc: 0.8926\n",
      "Epoch 9/15\n",
      "3389/3389 [==============================] - 3s 775us/step - loss: 0.2667 - acc: 0.8929\n",
      "Epoch 10/15\n",
      "3389/3389 [==============================] - 3s 745us/step - loss: 0.2575 - acc: 0.8950\n",
      "Epoch 11/15\n",
      "3389/3389 [==============================] - 2s 732us/step - loss: 0.2448 - acc: 0.8997\n",
      "Epoch 12/15\n",
      "3389/3389 [==============================] - 2s 738us/step - loss: 0.2471 - acc: 0.8985\n",
      "Epoch 13/15\n",
      "3389/3389 [==============================] - 3s 771us/step - loss: 0.2309 - acc: 0.8979\n",
      "Epoch 14/15\n",
      "3389/3389 [==============================] - 3s 738us/step - loss: 0.2361 - acc: 0.8950\n",
      "Epoch 15/15\n",
      "3389/3389 [==============================] - 2s 732us/step - loss: 0.2347 - acc: 0.8979\n",
      "1694/1694 [==============================] - 0s 291us/step\n",
      "A mean of 79.48%  with a standard deviation of 2.24%\n"
     ]
    }
   ],
   "source": [
    "estimator = KerasClassifier(build_fn=create_baseline, epochs=15, batch_size=5, verbose=1)\n",
    "kfold = StratifiedKFold(n_splits=3, shuffle=True, random_state=seed)\n",
    "results = cross_val_score(estimator, x_train, y_train, cv=kfold)\n",
    "print(\"A mean of %.2f%%  with a standard deviation of %.2f%%\" % (results.mean()*100, results.std()*100))"
   ]
  },
  {
   "cell_type": "code",
   "execution_count": 39,
   "metadata": {
    "scrolled": true
   },
   "outputs": [
    {
     "name": "stdout",
     "output_type": "stream",
     "text": [
      "Epoch 1/15\n",
      "4065/4065 [==============================] - 4s 1ms/step - loss: 0.4680 - acc: 0.7897\n",
      "Epoch 2/15\n",
      "4065/4065 [==============================] - 4s 880us/step - loss: 0.3583 - acc: 0.8467\n",
      "Epoch 3/15\n",
      "4065/4065 [==============================] - 4s 928us/step - loss: 0.2979 - acc: 0.8642\n",
      "Epoch 4/15\n",
      "4065/4065 [==============================] - 4s 878us/step - loss: 0.2605 - acc: 0.8772\n",
      "Epoch 5/15\n",
      "4065/4065 [==============================] - 4s 889us/step - loss: 0.2345 - acc: 0.8800\n",
      "Epoch 6/15\n",
      "4065/4065 [==============================] - 4s 926us/step - loss: 0.2136 - acc: 0.8886\n",
      "Epoch 7/15\n",
      "4065/4065 [==============================] - 4s 876us/step - loss: 0.2063 - acc: 0.8910\n",
      "Epoch 8/15\n",
      "4065/4065 [==============================] - 4s 897us/step - loss: 0.1987 - acc: 0.8910\n",
      "Epoch 9/15\n",
      "4065/4065 [==============================] - 4s 890us/step - loss: 0.2022 - acc: 0.8930\n",
      "Epoch 10/15\n",
      "4065/4065 [==============================] - 4s 876us/step - loss: 0.1940 - acc: 0.8930\n",
      "Epoch 11/15\n",
      "4065/4065 [==============================] - 4s 903us/step - loss: 0.1870 - acc: 0.9006\n",
      "Epoch 12/15\n",
      "4065/4065 [==============================] - 4s 885us/step - loss: 0.1833 - acc: 0.8991\n",
      "Epoch 13/15\n",
      "4065/4065 [==============================] - 4s 874us/step - loss: 0.2016 - acc: 0.8935\n",
      "Epoch 14/15\n",
      "4065/4065 [==============================] - 4s 909us/step - loss: 0.1817 - acc: 0.9001\n",
      "Epoch 15/15\n",
      "4065/4065 [==============================] - 4s 875us/step - loss: 0.1706 - acc: 0.9016\n",
      "1018/1018 [==============================] - 1s 516us/step\n",
      "Epoch 1/15\n",
      "4066/4066 [==============================] - 4s 1ms/step - loss: 0.4741 - acc: 0.7821\n",
      "Epoch 2/15\n",
      "4066/4066 [==============================] - 4s 886us/step - loss: 0.3625 - acc: 0.8409\n",
      "Epoch 3/15\n",
      "4066/4066 [==============================] - 4s 877us/step - loss: 0.3026 - acc: 0.8625\n",
      "Epoch 4/15\n",
      "4066/4066 [==============================] - 4s 915us/step - loss: 0.2570 - acc: 0.8748\n",
      "Epoch 5/15\n",
      "4066/4066 [==============================] - 4s 877us/step - loss: 0.2277 - acc: 0.8817\n",
      "Epoch 6/15\n",
      "4066/4066 [==============================] - 4s 884us/step - loss: 0.2084 - acc: 0.8908\n",
      "Epoch 7/15\n",
      "4066/4066 [==============================] - 4s 925us/step - loss: 0.1969 - acc: 0.8923\n",
      "Epoch 8/15\n",
      "4066/4066 [==============================] - 4s 876us/step - loss: 0.1865 - acc: 0.8923\n",
      "Epoch 9/15\n",
      "4066/4066 [==============================] - 4s 888us/step - loss: 0.1845 - acc: 0.8974\n",
      "Epoch 10/15\n",
      "4066/4066 [==============================] - 4s 906us/step - loss: 0.1879 - acc: 0.8970\n",
      "Epoch 11/15\n",
      "4066/4066 [==============================] - 4s 876us/step - loss: 0.1837 - acc: 0.8979\n",
      "Epoch 12/15\n",
      "4066/4066 [==============================] - 4s 908us/step - loss: 0.1862 - acc: 0.8925\n",
      "Epoch 13/15\n",
      "4066/4066 [==============================] - 4s 887us/step - loss: 0.1896 - acc: 0.8945\n",
      "Epoch 14/15\n",
      "4066/4066 [==============================] - 4s 877us/step - loss: 0.1954 - acc: 0.8974\n",
      "Epoch 15/15\n",
      "4066/4066 [==============================] - 4s 921us/step - loss: 0.1908 - acc: 0.8952\n",
      "1017/1017 [==============================] - 1s 567us/step\n",
      "Epoch 1/15\n",
      "4067/4067 [==============================] - 4s 1ms/step - loss: 0.4723 - acc: 0.7910\n",
      "Epoch 2/15\n",
      "4067/4067 [==============================] - 4s 919us/step - loss: 0.3603 - acc: 0.8382\n",
      "Epoch 3/15\n",
      "4067/4067 [==============================] - 4s 898us/step - loss: 0.2923 - acc: 0.8623\n",
      "Epoch 4/15\n",
      "4067/4067 [==============================] - 4s 884us/step - loss: 0.2543 - acc: 0.8793\n",
      "Epoch 5/15\n",
      "4067/4067 [==============================] - 4s 925us/step - loss: 0.2220 - acc: 0.8871\n",
      "Epoch 6/15\n",
      "4067/4067 [==============================] - 4s 881us/step - loss: 0.2086 - acc: 0.8921\n",
      "Epoch 7/15\n",
      "4067/4067 [==============================] - 4s 891us/step - loss: 0.2056 - acc: 0.8916\n",
      "Epoch 8/15\n",
      "4067/4067 [==============================] - 4s 923us/step - loss: 0.1901 - acc: 0.8994\n",
      "Epoch 9/15\n",
      "4067/4067 [==============================] - 4s 877us/step - loss: 0.1837 - acc: 0.9014\n",
      "Epoch 10/15\n",
      "4067/4067 [==============================] - 4s 904us/step - loss: 0.1739 - acc: 0.8975\n",
      "Epoch 11/15\n",
      "4067/4067 [==============================] - 4s 906us/step - loss: 0.1731 - acc: 0.9014\n",
      "Epoch 12/15\n",
      "4067/4067 [==============================] - 4s 879us/step - loss: 0.1734 - acc: 0.8987\n",
      "Epoch 13/15\n",
      "4067/4067 [==============================] - 4s 931us/step - loss: 0.1652 - acc: 0.9034\n",
      "Epoch 14/15\n",
      "4067/4067 [==============================] - 4s 897us/step - loss: 0.1651 - acc: 0.9051\n",
      "Epoch 15/15\n",
      "4067/4067 [==============================] - 4s 884us/step - loss: 0.1602 - acc: 0.9012\n",
      "1016/1016 [==============================] - 1s 545us/step\n",
      "Epoch 1/15\n",
      "4067/4067 [==============================] - 4s 1ms/step - loss: 0.4757 - acc: 0.7883\n",
      "Epoch 2/15\n",
      "4067/4067 [==============================] - 4s 878us/step - loss: 0.3549 - acc: 0.8473\n",
      "Epoch 3/15\n",
      "4067/4067 [==============================] - 4s 930us/step - loss: 0.3036 - acc: 0.8626\n",
      "Epoch 4/15\n",
      "4067/4067 [==============================] - 4s 897us/step - loss: 0.2529 - acc: 0.8790\n",
      "Epoch 5/15\n",
      "4067/4067 [==============================] - 4s 880us/step - loss: 0.2239 - acc: 0.8894\n",
      "Epoch 6/15\n",
      "4067/4067 [==============================] - 4s 946us/step - loss: 0.2153 - acc: 0.8869\n",
      "Epoch 7/15\n",
      "4067/4067 [==============================] - 4s 879us/step - loss: 0.1950 - acc: 0.8921\n",
      "Epoch 8/15\n",
      "4067/4067 [==============================] - 4s 892us/step - loss: 0.1859 - acc: 0.8985\n",
      "Epoch 9/15\n",
      "4067/4067 [==============================] - 4s 910us/step - loss: 0.1801 - acc: 0.8970\n",
      "Epoch 10/15\n",
      "4067/4067 [==============================] - 4s 884us/step - loss: 0.1869 - acc: 0.8980\n",
      "Epoch 11/15\n",
      "4067/4067 [==============================] - 4s 902us/step - loss: 0.1795 - acc: 0.9009\n",
      "Epoch 12/15\n",
      "4067/4067 [==============================] - 4s 900us/step - loss: 0.1882 - acc: 0.8982\n",
      "Epoch 13/15\n",
      "4067/4067 [==============================] - 4s 882us/step - loss: 0.1806 - acc: 0.9016\n",
      "Epoch 14/15\n",
      "4067/4067 [==============================] - 4s 929us/step - loss: 0.1696 - acc: 0.9016\n",
      "Epoch 15/15\n",
      "4067/4067 [==============================] - 4s 883us/step - loss: 0.1681 - acc: 0.9014\n",
      "1016/1016 [==============================] - 1s 502us/step\n",
      "Epoch 1/15\n",
      "4067/4067 [==============================] - 4s 1ms/step - loss: 0.4700 - acc: 0.7930\n",
      "Epoch 2/15\n",
      "4067/4067 [==============================] - 4s 903us/step - loss: 0.3579 - acc: 0.8421\n",
      "Epoch 3/15\n",
      "4067/4067 [==============================] - 4s 885us/step - loss: 0.2963 - acc: 0.8628\n",
      "Epoch 4/15\n",
      "4067/4067 [==============================] - 4s 922us/step - loss: 0.2637 - acc: 0.8677\n",
      "Epoch 5/15\n",
      "4067/4067 [==============================] - 4s 886us/step - loss: 0.2339 - acc: 0.8776\n",
      "Epoch 6/15\n",
      "4067/4067 [==============================] - 4s 888us/step - loss: 0.2181 - acc: 0.8827\n",
      "Epoch 7/15\n",
      "4067/4067 [==============================] - 4s 946us/step - loss: 0.2093 - acc: 0.8849\n",
      "Epoch 8/15\n",
      "4067/4067 [==============================] - 4s 886us/step - loss: 0.1980 - acc: 0.8812\n",
      "Epoch 9/15\n",
      "4067/4067 [==============================] - 4s 906us/step - loss: 0.1934 - acc: 0.8930\n",
      "Epoch 10/15\n",
      "4067/4067 [==============================] - 4s 913us/step - loss: 0.1970 - acc: 0.8928\n",
      "Epoch 11/15\n",
      "4067/4067 [==============================] - 4s 885us/step - loss: 0.2003 - acc: 0.8935\n",
      "Epoch 12/15\n",
      "4067/4067 [==============================] - 4s 924us/step - loss: 0.1864 - acc: 0.8972\n",
      "Epoch 13/15\n",
      "4067/4067 [==============================] - 4s 894us/step - loss: 0.1706 - acc: 0.8999\n",
      "Epoch 14/15\n",
      "4067/4067 [==============================] - 4s 883us/step - loss: 0.1796 - acc: 0.9016\n",
      "Epoch 15/15\n",
      "4067/4067 [==============================] - 4s 923us/step - loss: 0.1822 - acc: 0.9036\n",
      "1016/1016 [==============================] - 1s 533us/step\n",
      "A mean of 80.70% with a standard deviation of 0.55%\n"
     ]
    }
   ],
   "source": [
    "# Create a larger model, to see if the results may be improved\n",
    "def create_larger():\n",
    "    model = Sequential()\n",
    "    model.add(Dense(817, input_dim=817, kernel_initializer='normal', activation='relu'))\n",
    "    model.add(Dense(30, kernel_initializer='normal', activation='relu'))\n",
    "    model.add(Dense(1, kernel_initializer='normal', activation='sigmoid'))\n",
    "    model.compile(loss='binary_crossentropy', optimizer='adam', metrics=['accuracy'])\n",
    "    return model\n",
    "\n",
    "estimators = []\n",
    "estimators.append(('standardize', StandardScaler()))\n",
    "estimators.append(('mlp', KerasClassifier(build_fn=create_larger, epochs=15, batch_size=5, verbose=1)))\n",
    "pipeline = Pipeline(estimators)\n",
    "kfold = StratifiedKFold(n_splits=5, shuffle=True, random_state=seed)\n",
    "results = cross_val_score(pipeline, x_train, y_train, cv=kfold)\n",
    "print(\"A mean of %.2f%% with a standard deviation of %.2f%%\" % (results.mean()*100, results.std()*100))"
   ]
  },
  {
   "cell_type": "markdown",
   "metadata": {},
   "source": [
    "## Regression"
   ]
  },
  {
   "cell_type": "code",
   "execution_count": 40,
   "metadata": {},
   "outputs": [
    {
     "data": {
      "text/plain": [
       "((4518, 817), (4518,), (1130, 817), (1130,))"
      ]
     },
     "execution_count": 40,
     "metadata": {},
     "output_type": "execute_result"
    }
   ],
   "source": [
    "# Split into training and test sets\n",
    "\n",
    "x_train, x_test, y_train, y_test = train_test_split(x, y_regression, test_size = 0.2, random_state = 42)\n",
    "x_train.shape, y_train.shape, x_test.shape, y_test.shape"
   ]
  },
  {
   "cell_type": "markdown",
   "metadata": {},
   "source": [
    "### First, let us try two simple models based on Keras"
   ]
  },
  {
   "cell_type": "code",
   "execution_count": 41,
   "metadata": {},
   "outputs": [],
   "source": [
    "# define base model\n",
    "def baseline_model():\n",
    "    model = Sequential()\n",
    "    model.add(Dense(817, input_dim=817, kernel_initializer='normal', activation='relu'))\n",
    "    model.add(Dense(1, kernel_initializer='normal'))\n",
    "    model.compile(loss='mean_squared_error', optimizer='adam')\n",
    "    return model"
   ]
  },
  {
   "cell_type": "code",
   "execution_count": 42,
   "metadata": {},
   "outputs": [],
   "source": [
    "seed = 7\n",
    "np.random.seed(seed)\n",
    "# evaluate model with standardized dataset\n",
    "estimator = KerasRegressor(build_fn=baseline_model, epochs=10, batch_size=5, verbose=1)"
   ]
  },
  {
   "cell_type": "code",
   "execution_count": 43,
   "metadata": {},
   "outputs": [
    {
     "name": "stdout",
     "output_type": "stream",
     "text": [
      "Epoch 1/10\n",
      "4066/4066 [==============================] - 3s 832us/step - loss: 2.0251\n",
      "Epoch 2/10\n",
      "4066/4066 [==============================] - 3s 669us/step - loss: 0.1065\n",
      "Epoch 3/10\n",
      "4066/4066 [==============================] - 3s 718us/step - loss: 0.0579\n",
      "Epoch 4/10\n",
      "4066/4066 [==============================] - 3s 690us/step - loss: 0.0711\n",
      "Epoch 5/10\n",
      "4066/4066 [==============================] - 3s 669us/step - loss: 0.0924\n",
      "Epoch 6/10\n",
      "4066/4066 [==============================] - 3s 684us/step - loss: 0.1171\n",
      "Epoch 7/10\n",
      "4066/4066 [==============================] - 3s 734us/step - loss: 0.0935\n",
      "Epoch 8/10\n",
      "4066/4066 [==============================] - 3s 668us/step - loss: 0.1073\n",
      "Epoch 9/10\n",
      "4066/4066 [==============================] - 3s 669us/step - loss: 0.0971\n",
      "Epoch 10/10\n",
      "4066/4066 [==============================] - 3s 701us/step - loss: 0.1240\n",
      "452/452 [==============================] - 1s 1ms/step\n",
      "Epoch 1/10\n",
      "4066/4066 [==============================] - 3s 839us/step - loss: 1.9596\n",
      "Epoch 2/10\n",
      "4066/4066 [==============================] - 3s 673us/step - loss: 0.1107\n",
      "Epoch 3/10\n",
      "4066/4066 [==============================] - 3s 723us/step - loss: 0.0579\n",
      "Epoch 4/10\n",
      "4066/4066 [==============================] - 3s 722us/step - loss: 0.0623\n",
      "Epoch 5/10\n",
      "4066/4066 [==============================] - 3s 672us/step - loss: 0.0748\n",
      "Epoch 6/10\n",
      "4066/4066 [==============================] - 3s 682us/step - loss: 0.0859\n",
      "Epoch 7/10\n",
      "4066/4066 [==============================] - 3s 738us/step - loss: 0.1908\n",
      "Epoch 8/10\n",
      "4066/4066 [==============================] - 3s 670us/step - loss: 0.0901\n",
      "Epoch 9/10\n",
      "4066/4066 [==============================] - 3s 672us/step - loss: 0.0894\n",
      "Epoch 10/10\n",
      "4066/4066 [==============================] - 3s 739us/step - loss: 0.1690\n",
      "452/452 [==============================] - 0s 888us/step\n",
      "Epoch 1/10\n",
      "4066/4066 [==============================] - 4s 901us/step - loss: 1.7318\n",
      "Epoch 2/10\n",
      "4066/4066 [==============================] - 3s 674us/step - loss: 0.0964\n",
      "Epoch 3/10\n",
      "4066/4066 [==============================] - 3s 727us/step - loss: 0.0550\n",
      "Epoch 4/10\n",
      "4066/4066 [==============================] - 3s 697us/step - loss: 0.0753\n",
      "Epoch 5/10\n",
      "4066/4066 [==============================] - 3s 673us/step - loss: 0.0773\n",
      "Epoch 6/10\n",
      "4066/4066 [==============================] - 3s 691us/step - loss: 0.1016\n",
      "Epoch 7/10\n",
      "4066/4066 [==============================] - 3s 720us/step - loss: 0.1160\n",
      "Epoch 8/10\n",
      "4066/4066 [==============================] - 3s 673us/step - loss: 0.1119\n",
      "Epoch 9/10\n",
      "4066/4066 [==============================] - 3s 672us/step - loss: 0.1032\n",
      "Epoch 10/10\n",
      "4066/4066 [==============================] - 3s 720us/step - loss: 0.1063\n",
      "452/452 [==============================] - 0s 1ms/step\n",
      "Epoch 1/10\n",
      "4066/4066 [==============================] - 4s 870us/step - loss: 1.9182\n",
      "Epoch 2/10\n",
      "4066/4066 [==============================] - 3s 675us/step - loss: 0.1171\n",
      "Epoch 3/10\n",
      "4066/4066 [==============================] - 3s 706us/step - loss: 0.0565\n",
      "Epoch 4/10\n",
      "4066/4066 [==============================] - 3s 694us/step - loss: 0.0600\n",
      "Epoch 5/10\n",
      "4066/4066 [==============================] - 3s 674us/step - loss: 0.0762\n",
      "Epoch 6/10\n",
      "4066/4066 [==============================] - 3s 681us/step - loss: 0.0892\n",
      "Epoch 7/10\n",
      "4066/4066 [==============================] - 3s 741us/step - loss: 0.1336\n",
      "Epoch 8/10\n",
      "4066/4066 [==============================] - 3s 683us/step - loss: 0.1036\n",
      "Epoch 9/10\n",
      "4066/4066 [==============================] - 3s 672us/step - loss: 0.1335\n",
      "Epoch 10/10\n",
      "4066/4066 [==============================] - 3s 706us/step - loss: 0.1619\n",
      "452/452 [==============================] - 0s 895us/step\n",
      "Epoch 1/10\n",
      "4066/4066 [==============================] - 4s 878us/step - loss: 1.9229\n",
      "Epoch 2/10\n",
      "4066/4066 [==============================] - 3s 675us/step - loss: 0.0927\n",
      "Epoch 3/10\n",
      "4066/4066 [==============================] - 3s 729us/step - loss: 0.0577\n",
      "Epoch 4/10\n",
      "4066/4066 [==============================] - 3s 700us/step - loss: 0.0629\n",
      "Epoch 5/10\n",
      "4066/4066 [==============================] - 3s 677us/step - loss: 0.0683\n",
      "Epoch 6/10\n",
      "4066/4066 [==============================] - 3s 681us/step - loss: 0.0998\n",
      "Epoch 7/10\n",
      "4066/4066 [==============================] - 3s 731us/step - loss: 0.0939\n",
      "Epoch 8/10\n",
      "4066/4066 [==============================] - 3s 688us/step - loss: 0.1123\n",
      "Epoch 9/10\n",
      "4066/4066 [==============================] - 3s 676us/step - loss: 0.1321\n",
      "Epoch 10/10\n",
      "4066/4066 [==============================] - 3s 700us/step - loss: 0.1285\n",
      "452/452 [==============================] - 1s 1ms/step\n",
      "Epoch 1/10\n",
      "4066/4066 [==============================] - 4s 909us/step - loss: 1.7398\n",
      "Epoch 2/10\n",
      "4066/4066 [==============================] - 3s 682us/step - loss: 0.0902\n",
      "Epoch 3/10\n",
      "4066/4066 [==============================] - 3s 740us/step - loss: 0.0590\n",
      "Epoch 4/10\n",
      "4066/4066 [==============================] - 3s 722us/step - loss: 0.0843\n",
      "Epoch 5/10\n",
      "4066/4066 [==============================] - 3s 678us/step - loss: 0.0666\n",
      "Epoch 6/10\n",
      "4066/4066 [==============================] - 3s 690us/step - loss: 0.0919\n",
      "Epoch 7/10\n",
      "4066/4066 [==============================] - 3s 736us/step - loss: 0.1058\n",
      "Epoch 8/10\n",
      "4066/4066 [==============================] - 3s 681us/step - loss: 0.1366\n",
      "Epoch 9/10\n",
      "4066/4066 [==============================] - 3s 683us/step - loss: 0.0874\n",
      "Epoch 10/10\n",
      "4066/4066 [==============================] - 3s 726us/step - loss: 0.1128\n",
      "452/452 [==============================] - 1s 1ms/step\n",
      "Epoch 1/10\n",
      "4066/4066 [==============================] - 4s 896us/step - loss: 1.8552\n",
      "Epoch 2/10\n",
      "4066/4066 [==============================] - 3s 682us/step - loss: 0.1069\n",
      "Epoch 3/10\n",
      "4066/4066 [==============================] - 3s 719us/step - loss: 0.0533\n",
      "Epoch 4/10\n",
      "4066/4066 [==============================] - 3s 724us/step - loss: 0.0633\n",
      "Epoch 5/10\n",
      "4066/4066 [==============================] - 3s 681us/step - loss: 0.0841\n",
      "Epoch 6/10\n",
      "4066/4066 [==============================] - 3s 691us/step - loss: 0.1032\n",
      "Epoch 7/10\n",
      "4066/4066 [==============================] - 3s 728us/step - loss: 0.1139\n",
      "Epoch 8/10\n",
      "4066/4066 [==============================] - 3s 681us/step - loss: 0.1123\n",
      "Epoch 9/10\n",
      "4066/4066 [==============================] - 3s 678us/step - loss: 0.0892\n",
      "Epoch 10/10\n",
      "4066/4066 [==============================] - 3s 720us/step - loss: 0.1387\n",
      "452/452 [==============================] - 1s 1ms/step\n",
      "Epoch 1/10\n",
      "4066/4066 [==============================] - 4s 929us/step - loss: 2.1081\n",
      "Epoch 2/10\n",
      "4066/4066 [==============================] - 3s 682us/step - loss: 0.1133\n",
      "Epoch 3/10\n",
      "4066/4066 [==============================] - 3s 731us/step - loss: 0.0562\n",
      "Epoch 4/10\n",
      "4066/4066 [==============================] - 3s 715us/step - loss: 0.0558\n",
      "Epoch 5/10\n",
      "4066/4066 [==============================] - 3s 683us/step - loss: 0.0941\n",
      "Epoch 6/10\n",
      "4066/4066 [==============================] - 3s 699us/step - loss: 0.1092\n",
      "Epoch 7/10\n",
      "4066/4066 [==============================] - 3s 749us/step - loss: 0.0866\n",
      "Epoch 8/10\n",
      "4066/4066 [==============================] - 3s 683us/step - loss: 0.0794\n",
      "Epoch 9/10\n",
      "4066/4066 [==============================] - 3s 683us/step - loss: 0.1069\n",
      "Epoch 10/10\n",
      "4066/4066 [==============================] - 3s 730us/step - loss: 0.1606\n",
      "452/452 [==============================] - 1s 1ms/step\n",
      "Epoch 1/10\n",
      "4067/4067 [==============================] - 4s 920us/step - loss: 1.8773\n",
      "Epoch 2/10\n",
      "4067/4067 [==============================] - 3s 683us/step - loss: 0.0914\n",
      "Epoch 3/10\n",
      "4067/4067 [==============================] - 3s 773us/step - loss: 0.0564\n",
      "Epoch 4/10\n",
      "4067/4067 [==============================] - 3s 703us/step - loss: 0.0599\n",
      "Epoch 5/10\n",
      "4067/4067 [==============================] - 3s 680us/step - loss: 0.0863\n",
      "Epoch 6/10\n",
      "4067/4067 [==============================] - 3s 724us/step - loss: 0.1031\n",
      "Epoch 7/10\n",
      "4067/4067 [==============================] - 3s 734us/step - loss: 0.1060\n",
      "Epoch 8/10\n",
      "4067/4067 [==============================] - 3s 683us/step - loss: 0.0968\n",
      "Epoch 9/10\n",
      "4067/4067 [==============================] - 3s 696us/step - loss: 0.1233\n",
      "Epoch 10/10\n",
      "4067/4067 [==============================] - 3s 748us/step - loss: 0.1322\n",
      "451/451 [==============================] - 1s 1ms/step\n",
      "Epoch 1/10\n"
     ]
    },
    {
     "name": "stdout",
     "output_type": "stream",
     "text": [
      "4067/4067 [==============================] - 4s 934us/step - loss: 1.5453\n",
      "Epoch 2/10\n",
      "4067/4067 [==============================] - 3s 696us/step - loss: 0.0894\n",
      "Epoch 3/10\n",
      "4067/4067 [==============================] - 3s 746us/step - loss: 0.0570\n",
      "Epoch 4/10\n",
      "4067/4067 [==============================] - 3s 690us/step - loss: 0.0678\n",
      "Epoch 5/10\n",
      "4067/4067 [==============================] - 3s 689us/step - loss: 0.0907\n",
      "Epoch 6/10\n",
      "4067/4067 [==============================] - 3s 734us/step - loss: 0.1078\n",
      "Epoch 7/10\n",
      "4067/4067 [==============================] - 3s 708us/step - loss: 0.1080\n",
      "Epoch 8/10\n",
      "4067/4067 [==============================] - 3s 687us/step - loss: 0.1048\n",
      "Epoch 9/10\n",
      "4067/4067 [==============================] - 3s 693us/step - loss: 0.0932\n",
      "Epoch 10/10\n",
      "4067/4067 [==============================] - 3s 753us/step - loss: 0.1576\n",
      "451/451 [==============================] - 0s 1ms/step\n"
     ]
    },
    {
     "ename": "ValueError",
     "evalue": "unsupported format character 'w' (0x77) at index 16",
     "output_type": "error",
     "traceback": [
      "\u001b[0;31m---------------------------------------------------------------------------\u001b[0m",
      "\u001b[0;31mValueError\u001b[0m                                Traceback (most recent call last)",
      "\u001b[0;32m<ipython-input-43-3f2a31f35401>\u001b[0m in \u001b[0;36m<module>\u001b[0;34m\u001b[0m\n\u001b[1;32m      1\u001b[0m \u001b[0mkfold\u001b[0m \u001b[0;34m=\u001b[0m \u001b[0mKFold\u001b[0m\u001b[0;34m(\u001b[0m\u001b[0mn_splits\u001b[0m\u001b[0;34m=\u001b[0m\u001b[0;36m10\u001b[0m\u001b[0;34m,\u001b[0m \u001b[0mrandom_state\u001b[0m\u001b[0;34m=\u001b[0m\u001b[0mseed\u001b[0m\u001b[0;34m)\u001b[0m\u001b[0;34m\u001b[0m\u001b[0;34m\u001b[0m\u001b[0m\n\u001b[1;32m      2\u001b[0m \u001b[0mresults\u001b[0m \u001b[0;34m=\u001b[0m \u001b[0mcross_val_score\u001b[0m\u001b[0;34m(\u001b[0m\u001b[0mestimator\u001b[0m\u001b[0;34m,\u001b[0m \u001b[0mx_train\u001b[0m\u001b[0;34m,\u001b[0m \u001b[0my_train\u001b[0m\u001b[0;34m,\u001b[0m \u001b[0mcv\u001b[0m\u001b[0;34m=\u001b[0m\u001b[0mkfold\u001b[0m\u001b[0;34m)\u001b[0m\u001b[0;34m\u001b[0m\u001b[0;34m\u001b[0m\u001b[0m\n\u001b[0;32m----> 3\u001b[0;31m \u001b[0mprint\u001b[0m\u001b[0;34m(\u001b[0m\u001b[0;34m\"A mean of %.2f% with a standard deviation of %.2f% using MSE\"\u001b[0m \u001b[0;34m%\u001b[0m \u001b[0;34m(\u001b[0m\u001b[0mresults\u001b[0m\u001b[0;34m.\u001b[0m\u001b[0mmean\u001b[0m\u001b[0;34m(\u001b[0m\u001b[0;34m)\u001b[0m\u001b[0;34m,\u001b[0m \u001b[0mresults\u001b[0m\u001b[0;34m.\u001b[0m\u001b[0mstd\u001b[0m\u001b[0;34m(\u001b[0m\u001b[0;34m)\u001b[0m\u001b[0;34m)\u001b[0m\u001b[0;34m)\u001b[0m\u001b[0;34m\u001b[0m\u001b[0;34m\u001b[0m\u001b[0m\n\u001b[0m",
      "\u001b[0;31mValueError\u001b[0m: unsupported format character 'w' (0x77) at index 16"
     ]
    }
   ],
   "source": [
    "kfold = KFold(n_splits=10, random_state=seed)\n",
    "results = cross_val_score(estimator, x_train, y_train, cv=kfold)\n",
    "print(\"A mean of %.2f% with a standard deviation of %.2f% using MSE\" % (results.mean(), results.std()))"
   ]
  },
  {
   "cell_type": "code",
   "execution_count": 78,
   "metadata": {},
   "outputs": [],
   "source": [
    "# define the model\n",
    "def larger_model():\n",
    "    model = Sequential()\n",
    "    model.add(Dense(817, input_dim=817, kernel_initializer='normal', activation='relu'))\n",
    "    model.add(Dense(25, kernel_initializer='normal', activation='relu'))\n",
    "    model.add(Dense(6, kernel_initializer='normal', activation='relu'))\n",
    "    model.add(Dense(1, kernel_initializer='normal'))\n",
    "    model.compile(loss='mean_squared_error', optimizer='adam')\n",
    "    return model"
   ]
  },
  {
   "cell_type": "code",
   "execution_count": 252,
   "metadata": {
    "scrolled": true
   },
   "outputs": [
    {
     "name": "stdout",
     "output_type": "stream",
     "text": [
      "Epoch 1/10\n",
      "3614/3614 [==============================] - 5s 1ms/step - loss: 0.0491\n",
      "Epoch 2/10\n",
      "3614/3614 [==============================] - 3s 929us/step - loss: 0.0342\n",
      "Epoch 3/10\n",
      "3614/3614 [==============================] - 3s 965us/step - loss: 0.0293\n",
      "Epoch 4/10\n",
      "3614/3614 [==============================] - 4s 990us/step - loss: 0.0260\n",
      "Epoch 5/10\n",
      "3614/3614 [==============================] - 3s 930us/step - loss: 0.0230\n",
      "Epoch 6/10\n",
      "3614/3614 [==============================] - 4s 972us/step - loss: 0.0212\n",
      "Epoch 7/10\n",
      "3614/3614 [==============================] - 4s 980us/step - loss: 0.0196\n",
      "Epoch 8/10\n",
      "3614/3614 [==============================] - 3s 931us/step - loss: 0.0179\n",
      "Epoch 9/10\n",
      "3614/3614 [==============================] - 3s 963us/step - loss: 0.0178\n",
      "Epoch 10/10\n",
      "3614/3614 [==============================] - 3s 968us/step - loss: 0.0167\n",
      "904/904 [==============================] - 1s 742us/step\n",
      "Epoch 1/10\n",
      "3614/3614 [==============================] - 5s 1ms/step - loss: 0.0488\n",
      "Epoch 2/10\n",
      "3614/3614 [==============================] - 4s 995us/step - loss: 0.0340\n",
      "Epoch 3/10\n",
      "3614/3614 [==============================] - 3s 933us/step - loss: 0.0288\n",
      "Epoch 4/10\n",
      "3614/3614 [==============================] - 3s 959us/step - loss: 0.0256\n",
      "Epoch 5/10\n",
      "3614/3614 [==============================] - 4s 980us/step - loss: 0.0231\n",
      "Epoch 6/10\n",
      "3614/3614 [==============================] - 3s 933us/step - loss: 0.0213\n",
      "Epoch 7/10\n",
      "3614/3614 [==============================] - 4s 985us/step - loss: 0.0201\n",
      "Epoch 8/10\n",
      "3614/3614 [==============================] - 4s 974us/step - loss: 0.0190\n",
      "Epoch 9/10\n",
      "3614/3614 [==============================] - 3s 935us/step - loss: 0.0179\n",
      "Epoch 10/10\n",
      "3614/3614 [==============================] - 4s 984us/step - loss: 0.0171\n",
      "904/904 [==============================] - 1s 817us/step\n",
      "Epoch 1/10\n",
      "3614/3614 [==============================] - 5s 1ms/step - loss: 0.0492\n",
      "Epoch 2/10\n",
      "3614/3614 [==============================] - 4s 972us/step - loss: 0.0339\n",
      "Epoch 3/10\n",
      "3614/3614 [==============================] - 3s 966us/step - loss: 0.0291\n",
      "Epoch 4/10\n",
      "3614/3614 [==============================] - 3s 938us/step - loss: 0.0256\n",
      "Epoch 5/10\n",
      "3614/3614 [==============================] - 4s 986us/step - loss: 0.0236\n",
      "Epoch 6/10\n",
      "3614/3614 [==============================] - 4s 975us/step - loss: 0.0218\n",
      "Epoch 7/10\n",
      "3614/3614 [==============================] - 3s 934us/step - loss: 0.0206\n",
      "Epoch 8/10\n",
      "3614/3614 [==============================] - 4s 983us/step - loss: 0.0195\n",
      "Epoch 9/10\n",
      "3614/3614 [==============================] - 3s 946us/step - loss: 0.0185\n",
      "Epoch 10/10\n",
      "3614/3614 [==============================] - 3s 934us/step - loss: 0.0176\n",
      "904/904 [==============================] - 1s 770us/step\n",
      "Epoch 1/10\n",
      "3615/3615 [==============================] - 5s 1ms/step - loss: 0.0487\n",
      "Epoch 2/10\n",
      "3615/3615 [==============================] - 3s 940us/step - loss: 0.0337\n",
      "Epoch 3/10\n",
      "3615/3615 [==============================] - 4s 1ms/step - loss: 0.0285\n",
      "Epoch 4/10\n",
      "3615/3615 [==============================] - 3s 961us/step - loss: 0.0254\n",
      "Epoch 5/10\n",
      "3615/3615 [==============================] - 3s 940us/step - loss: 0.0225\n",
      "Epoch 6/10\n",
      "3615/3615 [==============================] - 4s 1ms/step - loss: 0.0215\n",
      "Epoch 7/10\n",
      "3615/3615 [==============================] - 3s 954us/step - loss: 0.0194\n",
      "Epoch 8/10\n",
      "3615/3615 [==============================] - 3s 945us/step - loss: 0.0179\n",
      "Epoch 9/10\n",
      "3615/3615 [==============================] - 4s 1ms/step - loss: 0.0177\n",
      "Epoch 10/10\n",
      "3615/3615 [==============================] - 3s 941us/step - loss: 0.0168\n",
      "903/903 [==============================] - 1s 813us/step\n",
      "Epoch 1/10\n",
      "3615/3615 [==============================] - 5s 1ms/step - loss: 0.0490\n",
      "Epoch 2/10\n",
      "3615/3615 [==============================] - 3s 951us/step - loss: 0.0340\n",
      "Epoch 3/10\n",
      "3615/3615 [==============================] - 3s 944us/step - loss: 0.0293\n",
      "Epoch 4/10\n",
      "3615/3615 [==============================] - 4s 995us/step - loss: 0.0266\n",
      "Epoch 5/10\n",
      "3615/3615 [==============================] - 3s 945us/step - loss: 0.0240\n",
      "Epoch 6/10\n",
      "3615/3615 [==============================] - 3s 951us/step - loss: 0.0221\n",
      "Epoch 7/10\n",
      "3615/3615 [==============================] - 4s 1ms/step - loss: 0.0209\n",
      "Epoch 8/10\n",
      "3615/3615 [==============================] - 3s 943us/step - loss: 0.0197\n",
      "Epoch 9/10\n",
      "3615/3615 [==============================] - 3s 961us/step - loss: 0.0190\n",
      "Epoch 10/10\n",
      "3615/3615 [==============================] - 4s 1ms/step - loss: 0.0181\n",
      "903/903 [==============================] - 1s 861us/step\n",
      "A mean of -0.05 with a standard deviation of 0.00 using MSE\n"
     ]
    }
   ],
   "source": [
    "np.random.seed(seed)\n",
    "estimators = []\n",
    "estimators.append(('mlp', KerasRegressor(build_fn=larger_model, epochs=10, batch_size=5, verbose=1)))\n",
    "pipeline = Pipeline(estimators)\n",
    "kfold = KFold(n_splits=5, random_state=seed)\n",
    "results = cross_val_score(pipeline, x_train, y_train, cv=kfold)\n",
    "print(\"A mean of %.2f with a standard deviation of %.2f using MSE\" % (results.mean(), results.std()))"
   ]
  },
  {
   "cell_type": "markdown",
   "metadata": {},
   "source": [
    "### A model using gradient boosting"
   ]
  },
  {
   "cell_type": "code",
   "execution_count": 46,
   "metadata": {},
   "outputs": [
    {
     "name": "stdout",
     "output_type": "stream",
     "text": [
      "The MSE of this model is 0.0416\n"
     ]
    },
    {
     "data": {
      "image/png": "[encoded data removed]",
      "text/plain": [
       "<Figure size 864x432 with 2 Axes>"
      ]
     },
     "metadata": {
      "needs_background": "light"
     },
     "output_type": "display_data"
    }
   ],
   "source": [
    "params = {'n_estimators': 500, 'max_depth': 4, 'min_samples_split': 2,\n",
    "          'learning_rate': 0.01, 'loss': 'ls'}\n",
    "clf = ensemble.GradientBoostingRegressor(**params)\n",
    "\n",
    "clf.fit(x_train, y_train)\n",
    "mse = mean_squared_error(y_test, clf.predict(x_test))\n",
    "print(\"The MSE of this model is %.4f\" % mse)\n",
    "\n",
    "# compute test set deviance\n",
    "test_score = np.zeros((params['n_estimators'],), dtype=np.float64)\n",
    "\n",
    "for i, y_pred in enumerate(clf.staged_predict(x_test)):\n",
    "    test_score[i] = clf.loss_(y_test, y_pred)\n",
    "\n",
    "plt.figure(figsize=(12, 6))\n",
    "plt.subplot(1, 2, 1)\n",
    "plt.title('Deviance')\n",
    "plt.plot(np.arange(params['n_estimators']) + 1, clf.train_score_, 'b-',\n",
    "         label='Training Set Deviance')\n",
    "plt.plot(np.arange(params['n_estimators']) + 1, test_score, 'r-',\n",
    "         label='Test Set Deviance')\n",
    "plt.legend(loc='upper right')\n",
    "plt.xlabel('Boosting Iterations')\n",
    "plt.ylabel('Deviance')\n",
    "\n",
    "# Plot feature importance\n",
    "feature_importance = clf.feature_importances_\n",
    "# make importances relative to max importance\n",
    "feature_importance = 100.0 * (feature_importance / feature_importance.max())\n",
    "sorted_idx = np.argsort(feature_importance)\n",
    "pos = np.arange(sorted_idx.shape[0]) + .5\n",
    "plt.subplot(1, 2, 2)\n",
    "plt.barh(pos, feature_importance[sorted_idx], align='center')\n",
    "plt.xlabel('Relative Importance')\n",
    "plt.title('Variable Importance')\n",
    "plt.show()"
   ]
  },
  {
   "cell_type": "code",
   "execution_count": 47,
   "metadata": {},
   "outputs": [],
   "source": [
    "# Restructure the predicted results to enable us to illustrate it\n",
    "\n",
    "predicted = pd.Series(clf.predict(x_test))\n",
    "result = pd.DataFrame(predicted)\n",
    "df = pd.concat([result, y_test.reset_index()], ignore_index=True, axis=1)\n",
    "df = df.drop(columns=[1])\n",
    "df = df.rename(columns={0: 'predicted', 2: 'true'})\n",
    "df = df.sort_values('true')\n",
    "df = df.reset_index()\n",
    "df = df.drop(columns=['index'])"
   ]
  },
  {
   "cell_type": "code",
   "execution_count": 51,
   "metadata": {},
   "outputs": [
    {
     "data": {
      "image/png": "[encoded data removed]",
      "text/plain": [
       "<Figure size 576x576 with 1 Axes>"
      ]
     },
     "metadata": {
      "needs_background": "light"
     },
     "output_type": "display_data"
    }
   ],
   "source": [
    "# Let us create an illustration \n",
    "\n",
    "plt.figure(figsize=(8, 8))\n",
    "plt.scatter(df.index, df['predicted'], alpha=0.2)\n",
    "plt.plot(df.index, df['true'], color='red')\n",
    "plt.xlabel('Song in test set')\n",
    "plt.ylabel('Song hotness')\n",
    "plt.title(\"True versus predicted song hotness\")\n",
    "plt.legend()\n",
    "plt.show()"
   ]
  },
  {
   "cell_type": "markdown",
   "metadata": {},
   "source": [
    "The predicted song hotness increase slightly as the true song hotness increase. However, this effect is very weak. The model does not predict any songs above approximately 0.65, while we in the classification section only classified songs with a score above 0.75 as hot. Hence, the regression model have not classified any songs as hot according to our earlier definition."
   ]
  },
  {
   "cell_type": "markdown",
   "metadata": {},
   "source": [
    "## Conclution"
   ]
  },
  {
   "cell_type": "markdown",
   "metadata": {},
   "source": [
    "We have checked if the artist tags can be used to predict a songs hotness. \n",
    "\n",
    "In conclution, we have achieved decent results for classification purposes, but not so decent results for the regressions. \n",
    "\n",
    "When using classification, we divided the songs into 'hot or not' by using a 0.75 treshold. In other words, a model just predicting all songs as 'not' would acheive a successrate of 75 %. Certain of our classification-models have achieved a successrate towards 90 percent, which clearly is better than the baseline. However, it also shows that artist tags by using a model just using artist tags by itself is not enough to get the desired result from a model.\n",
    "\n",
    "When it comes to the regression-models, they did not achieve satisfactory results. We can see that there is a correlation between the songs hotness and the predicted hotness, but this correlation is too weak to be useful."
   ]
  }
 ],
 "metadata": {
  "kernelspec": {
   "display_name": "Python 3",
   "language": "python",
   "name": "python3"
  },
  "language_info": {
   "codemirror_mode": {
    "name": "ipython",
    "version": 3
   },
   "file_extension": ".py",
   "mimetype": "text/x-python",
   "name": "python",
   "nbconvert_exporter": "python",
   "pygments_lexer": "ipython3",
   "version": "3.6.8"
  }
 },
 "nbformat": 4,
 "nbformat_minor": 2
}
